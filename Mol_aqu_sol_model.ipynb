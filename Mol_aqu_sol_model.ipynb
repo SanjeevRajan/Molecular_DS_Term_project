{
  "cells": [
    {
      "cell_type": "markdown",
      "metadata": {
        "id": "j4pYlV-8dbzu"
      },
      "source": [
        "# Pip installs"
      ]
    },
    {
      "cell_type": "code",
      "execution_count": 3,
      "metadata": {
        "colab": {
          "base_uri": "https://localhost:8080/"
        },
        "id": "HoGu4jX9FaN0",
        "outputId": "7def96a4-dfef-4e91-b3ff-2c1faedd3b70"
      },
      "outputs": [
        {
          "output_type": "stream",
          "name": "stdout",
          "text": [
            "Looking in indexes: https://pypi.org/simple, https://us-python.pkg.dev/colab-wheels/public/simple/\n",
            "Collecting rdkit\n",
            "  Downloading rdkit-2023.3.1-cp310-cp310-manylinux_2_17_x86_64.manylinux2014_x86_64.whl (29.7 MB)\n",
            "\u001b[2K     \u001b[90m━━━━━━━━━━━━━━━━━━━━━━━━━━━━━━━━━━━━━━━━\u001b[0m \u001b[32m29.7/29.7 MB\u001b[0m \u001b[31m55.3 MB/s\u001b[0m eta \u001b[36m0:00:00\u001b[0m\n",
            "\u001b[?25hRequirement already satisfied: numpy in /usr/local/lib/python3.10/dist-packages (from rdkit) (1.22.4)\n",
            "Requirement already satisfied: Pillow in /usr/local/lib/python3.10/dist-packages (from rdkit) (8.4.0)\n",
            "Installing collected packages: rdkit\n",
            "Successfully installed rdkit-2023.3.1\n"
          ]
        }
      ],
      "source": [
        "!pip install rdkit"
      ]
    },
    {
      "cell_type": "code",
      "execution_count": 4,
      "metadata": {
        "id": "m356XoxEqlUa",
        "colab": {
          "base_uri": "https://localhost:8080/"
        },
        "outputId": "0668cc94-d430-4101-f40d-0c6fb393090b"
      },
      "outputs": [
        {
          "output_type": "stream",
          "name": "stdout",
          "text": [
            "Looking in indexes: https://pypi.org/simple, https://us-python.pkg.dev/colab-wheels/public/simple/\n",
            "Collecting openbabel-wheel\n",
            "  Downloading openbabel_wheel-3.1.1.16-cp310-cp310-manylinux_2_17_x86_64.manylinux2014_x86_64.whl (16.0 MB)\n",
            "\u001b[2K     \u001b[90m━━━━━━━━━━━━━━━━━━━━━━━━━━━━━━━━━━━━━━━━\u001b[0m \u001b[32m16.0/16.0 MB\u001b[0m \u001b[31m10.5 MB/s\u001b[0m eta \u001b[36m0:00:00\u001b[0m\n",
            "\u001b[?25hInstalling collected packages: openbabel-wheel\n",
            "Successfully installed openbabel-wheel-3.1.1.16\n"
          ]
        }
      ],
      "source": [
        "!pip3 install openbabel-wheel"
      ]
    },
    {
      "cell_type": "code",
      "execution_count": 5,
      "metadata": {
        "colab": {
          "base_uri": "https://localhost:8080/",
          "height": 1000
        },
        "id": "wcNN1aGPKRD0",
        "outputId": "328f8e60-2bac-44bf-dd42-0a7b5c0189d2"
      },
      "outputs": [
        {
          "output_type": "stream",
          "name": "stdout",
          "text": [
            "Looking in indexes: https://pypi.org/simple, https://us-python.pkg.dev/colab-wheels/public/simple/\n",
            "Collecting schnetpack\n",
            "  Downloading schnetpack-2.0.3-py3-none-any.whl (227 kB)\n",
            "\u001b[2K     \u001b[90m━━━━━━━━━━━━━━━━━━━━━━━━━━━━━━━━━━━━━━\u001b[0m \u001b[32m227.0/227.0 kB\u001b[0m \u001b[31m12.6 MB/s\u001b[0m eta \u001b[36m0:00:00\u001b[0m\n",
            "\u001b[?25hRequirement already satisfied: numpy in /usr/local/lib/python3.10/dist-packages (from schnetpack) (1.22.4)\n",
            "Requirement already satisfied: sympy in /usr/local/lib/python3.10/dist-packages (from schnetpack) (1.11.1)\n",
            "Collecting ase>=3.21 (from schnetpack)\n",
            "  Downloading ase-3.22.1-py3-none-any.whl (2.2 MB)\n",
            "\u001b[2K     \u001b[90m━━━━━━━━━━━━━━━━━━━━━━━━━━━━━━━━━━━━━━━━\u001b[0m \u001b[32m2.2/2.2 MB\u001b[0m \u001b[31m86.4 MB/s\u001b[0m eta \u001b[36m0:00:00\u001b[0m\n",
            "\u001b[?25hRequirement already satisfied: h5py in /usr/local/lib/python3.10/dist-packages (from schnetpack) (3.8.0)\n",
            "Requirement already satisfied: pyyaml in /usr/local/lib/python3.10/dist-packages (from schnetpack) (6.0)\n",
            "Collecting hydra-core>=1.1.0 (from schnetpack)\n",
            "  Downloading hydra_core-1.3.2-py3-none-any.whl (154 kB)\n",
            "\u001b[2K     \u001b[90m━━━━━━━━━━━━━━━━━━━━━━━━━━━━━━━━━━━━━\u001b[0m \u001b[32m154.5/154.5 kB\u001b[0m \u001b[31m993.6 kB/s\u001b[0m eta \u001b[36m0:00:00\u001b[0m\n",
            "\u001b[?25hRequirement already satisfied: torch>=1.9 in /usr/local/lib/python3.10/dist-packages (from schnetpack) (2.0.1+cu118)\n",
            "Collecting pytorch-lightning>=2.0.0 (from schnetpack)\n",
            "  Downloading pytorch_lightning-2.0.2-py3-none-any.whl (719 kB)\n",
            "\u001b[2K     \u001b[90m━━━━━━━━━━━━━━━━━━━━━━━━━━━━━━━━━━━━━━\u001b[0m \u001b[32m719.0/719.0 kB\u001b[0m \u001b[31m61.9 MB/s\u001b[0m eta \u001b[36m0:00:00\u001b[0m\n",
            "\u001b[?25hCollecting torchmetrics (from schnetpack)\n",
            "  Downloading torchmetrics-0.11.4-py3-none-any.whl (519 kB)\n",
            "\u001b[2K     \u001b[90m━━━━━━━━━━━━━━━━━━━━━━━━━━━━━━━━━━━━━━\u001b[0m \u001b[32m519.2/519.2 kB\u001b[0m \u001b[31m49.6 MB/s\u001b[0m eta \u001b[36m0:00:00\u001b[0m\n",
            "\u001b[?25hCollecting hydra-colorlog>=1.1.0 (from schnetpack)\n",
            "  Downloading hydra_colorlog-1.2.0-py3-none-any.whl (3.6 kB)\n",
            "Requirement already satisfied: rich in /usr/local/lib/python3.10/dist-packages (from schnetpack) (13.3.4)\n",
            "Collecting fasteners (from schnetpack)\n",
            "  Downloading fasteners-0.18-py3-none-any.whl (18 kB)\n",
            "Collecting dirsync (from schnetpack)\n",
            "  Downloading dirsync-2.2.5.tar.gz (13 kB)\n",
            "  Preparing metadata (setup.py) ... \u001b[?25l\u001b[?25hdone\n",
            "Collecting torch-ema (from schnetpack)\n",
            "  Downloading torch_ema-0.3-py3-none-any.whl (5.5 kB)\n",
            "Collecting matscipy (from schnetpack)\n",
            "  Downloading matscipy-0.8.0-cp310-cp310-manylinux_2_17_x86_64.manylinux2014_x86_64.whl (334 kB)\n",
            "\u001b[2K     \u001b[90m━━━━━━━━━━━━━━━━━━━━━━━━━━━━━━━━━━━━━━\u001b[0m \u001b[32m334.9/334.9 kB\u001b[0m \u001b[31m33.7 MB/s\u001b[0m eta \u001b[36m0:00:00\u001b[0m\n",
            "\u001b[?25hRequirement already satisfied: matplotlib>=3.1.0 in /usr/local/lib/python3.10/dist-packages (from ase>=3.21->schnetpack) (3.7.1)\n",
            "Requirement already satisfied: scipy>=1.1.0 in /usr/local/lib/python3.10/dist-packages (from ase>=3.21->schnetpack) (1.10.1)\n",
            "Collecting colorlog (from hydra-colorlog>=1.1.0->schnetpack)\n",
            "  Downloading colorlog-6.7.0-py2.py3-none-any.whl (11 kB)\n",
            "Collecting omegaconf<2.4,>=2.2 (from hydra-core>=1.1.0->schnetpack)\n",
            "  Downloading omegaconf-2.3.0-py3-none-any.whl (79 kB)\n",
            "\u001b[2K     \u001b[90m━━━━━━━━━━━━━━━━━━━━━━━━━━━━━━━━━━━━━━━━\u001b[0m \u001b[32m79.5/79.5 kB\u001b[0m \u001b[31m8.3 MB/s\u001b[0m eta \u001b[36m0:00:00\u001b[0m\n",
            "\u001b[?25hCollecting antlr4-python3-runtime==4.9.* (from hydra-core>=1.1.0->schnetpack)\n",
            "  Downloading antlr4-python3-runtime-4.9.3.tar.gz (117 kB)\n",
            "\u001b[2K     \u001b[90m━━━━━━━━━━━━━━━━━━━━━━━━━━━━━━━━━━━━━━\u001b[0m \u001b[32m117.0/117.0 kB\u001b[0m \u001b[31m11.8 MB/s\u001b[0m eta \u001b[36m0:00:00\u001b[0m\n",
            "\u001b[?25h  Preparing metadata (setup.py) ... \u001b[?25l\u001b[?25hdone\n",
            "Requirement already satisfied: packaging in /usr/local/lib/python3.10/dist-packages (from hydra-core>=1.1.0->schnetpack) (23.1)\n",
            "Requirement already satisfied: tqdm>=4.57.0 in /usr/local/lib/python3.10/dist-packages (from pytorch-lightning>=2.0.0->schnetpack) (4.65.0)\n",
            "Requirement already satisfied: fsspec[http]>2021.06.0 in /usr/local/lib/python3.10/dist-packages (from pytorch-lightning>=2.0.0->schnetpack) (2023.4.0)\n",
            "Requirement already satisfied: typing-extensions>=4.0.0 in /usr/local/lib/python3.10/dist-packages (from pytorch-lightning>=2.0.0->schnetpack) (4.5.0)\n",
            "Collecting lightning-utilities>=0.7.0 (from pytorch-lightning>=2.0.0->schnetpack)\n",
            "  Downloading lightning_utilities-0.8.0-py3-none-any.whl (20 kB)\n",
            "Requirement already satisfied: filelock in /usr/local/lib/python3.10/dist-packages (from torch>=1.9->schnetpack) (3.12.0)\n",
            "Requirement already satisfied: networkx in /usr/local/lib/python3.10/dist-packages (from torch>=1.9->schnetpack) (3.1)\n",
            "Requirement already satisfied: jinja2 in /usr/local/lib/python3.10/dist-packages (from torch>=1.9->schnetpack) (3.1.2)\n",
            "Requirement already satisfied: triton==2.0.0 in /usr/local/lib/python3.10/dist-packages (from torch>=1.9->schnetpack) (2.0.0)\n",
            "Requirement already satisfied: cmake in /usr/local/lib/python3.10/dist-packages (from triton==2.0.0->torch>=1.9->schnetpack) (3.25.2)\n",
            "Requirement already satisfied: lit in /usr/local/lib/python3.10/dist-packages (from triton==2.0.0->torch>=1.9->schnetpack) (16.0.5)\n",
            "Requirement already satisfied: six in /usr/local/lib/python3.10/dist-packages (from dirsync->schnetpack) (1.16.0)\n",
            "Requirement already satisfied: markdown-it-py<3.0.0,>=2.2.0 in /usr/local/lib/python3.10/dist-packages (from rich->schnetpack) (2.2.0)\n",
            "Requirement already satisfied: pygments<3.0.0,>=2.13.0 in /usr/local/lib/python3.10/dist-packages (from rich->schnetpack) (2.14.0)\n",
            "Requirement already satisfied: mpmath>=0.19 in /usr/local/lib/python3.10/dist-packages (from sympy->schnetpack) (1.3.0)\n",
            "Requirement already satisfied: requests in /usr/local/lib/python3.10/dist-packages (from fsspec[http]>2021.06.0->pytorch-lightning>=2.0.0->schnetpack) (2.27.1)\n",
            "Collecting aiohttp!=4.0.0a0,!=4.0.0a1 (from fsspec[http]>2021.06.0->pytorch-lightning>=2.0.0->schnetpack)\n",
            "  Downloading aiohttp-3.8.4-cp310-cp310-manylinux_2_17_x86_64.manylinux2014_x86_64.whl (1.0 MB)\n",
            "\u001b[2K     \u001b[90m━━━━━━━━━━━━━━━━━━━━━━━━━━━━━━━━━━━━━━━━\u001b[0m \u001b[32m1.0/1.0 MB\u001b[0m \u001b[31m54.1 MB/s\u001b[0m eta \u001b[36m0:00:00\u001b[0m\n",
            "\u001b[?25hRequirement already satisfied: mdurl~=0.1 in /usr/local/lib/python3.10/dist-packages (from markdown-it-py<3.0.0,>=2.2.0->rich->schnetpack) (0.1.2)\n",
            "Requirement already satisfied: contourpy>=1.0.1 in /usr/local/lib/python3.10/dist-packages (from matplotlib>=3.1.0->ase>=3.21->schnetpack) (1.0.7)\n",
            "Requirement already satisfied: cycler>=0.10 in /usr/local/lib/python3.10/dist-packages (from matplotlib>=3.1.0->ase>=3.21->schnetpack) (0.11.0)\n",
            "Requirement already satisfied: fonttools>=4.22.0 in /usr/local/lib/python3.10/dist-packages (from matplotlib>=3.1.0->ase>=3.21->schnetpack) (4.39.3)\n",
            "Requirement already satisfied: kiwisolver>=1.0.1 in /usr/local/lib/python3.10/dist-packages (from matplotlib>=3.1.0->ase>=3.21->schnetpack) (1.4.4)\n",
            "Requirement already satisfied: pillow>=6.2.0 in /usr/local/lib/python3.10/dist-packages (from matplotlib>=3.1.0->ase>=3.21->schnetpack) (8.4.0)\n",
            "Requirement already satisfied: pyparsing>=2.3.1 in /usr/local/lib/python3.10/dist-packages (from matplotlib>=3.1.0->ase>=3.21->schnetpack) (3.0.9)\n",
            "Requirement already satisfied: python-dateutil>=2.7 in /usr/local/lib/python3.10/dist-packages (from matplotlib>=3.1.0->ase>=3.21->schnetpack) (2.8.2)\n",
            "Requirement already satisfied: MarkupSafe>=2.0 in /usr/local/lib/python3.10/dist-packages (from jinja2->torch>=1.9->schnetpack) (2.1.2)\n",
            "Requirement already satisfied: attrs>=17.3.0 in /usr/local/lib/python3.10/dist-packages (from aiohttp!=4.0.0a0,!=4.0.0a1->fsspec[http]>2021.06.0->pytorch-lightning>=2.0.0->schnetpack) (23.1.0)\n",
            "Requirement already satisfied: charset-normalizer<4.0,>=2.0 in /usr/local/lib/python3.10/dist-packages (from aiohttp!=4.0.0a0,!=4.0.0a1->fsspec[http]>2021.06.0->pytorch-lightning>=2.0.0->schnetpack) (2.0.12)\n",
            "Collecting multidict<7.0,>=4.5 (from aiohttp!=4.0.0a0,!=4.0.0a1->fsspec[http]>2021.06.0->pytorch-lightning>=2.0.0->schnetpack)\n",
            "  Downloading multidict-6.0.4-cp310-cp310-manylinux_2_17_x86_64.manylinux2014_x86_64.whl (114 kB)\n",
            "\u001b[2K     \u001b[90m━━━━━━━━━━━━━━━━━━━━━━━━━━━━━━━━━━━━━━\u001b[0m \u001b[32m114.5/114.5 kB\u001b[0m \u001b[31m13.5 MB/s\u001b[0m eta \u001b[36m0:00:00\u001b[0m\n",
            "\u001b[?25hCollecting async-timeout<5.0,>=4.0.0a3 (from aiohttp!=4.0.0a0,!=4.0.0a1->fsspec[http]>2021.06.0->pytorch-lightning>=2.0.0->schnetpack)\n",
            "  Downloading async_timeout-4.0.2-py3-none-any.whl (5.8 kB)\n",
            "Collecting yarl<2.0,>=1.0 (from aiohttp!=4.0.0a0,!=4.0.0a1->fsspec[http]>2021.06.0->pytorch-lightning>=2.0.0->schnetpack)\n",
            "  Downloading yarl-1.9.2-cp310-cp310-manylinux_2_17_x86_64.manylinux2014_x86_64.whl (268 kB)\n",
            "\u001b[2K     \u001b[90m━━━━━━━━━━━━━━━━━━━━━━━━━━━━━━━━━━━━━━\u001b[0m \u001b[32m268.8/268.8 kB\u001b[0m \u001b[31m29.4 MB/s\u001b[0m eta \u001b[36m0:00:00\u001b[0m\n",
            "\u001b[?25hCollecting frozenlist>=1.1.1 (from aiohttp!=4.0.0a0,!=4.0.0a1->fsspec[http]>2021.06.0->pytorch-lightning>=2.0.0->schnetpack)\n",
            "  Downloading frozenlist-1.3.3-cp310-cp310-manylinux_2_5_x86_64.manylinux1_x86_64.manylinux_2_17_x86_64.manylinux2014_x86_64.whl (149 kB)\n",
            "\u001b[2K     \u001b[90m━━━━━━━━━━━━━━━━━━━━━━━━━━━━━━━━━━━━━━\u001b[0m \u001b[32m149.6/149.6 kB\u001b[0m \u001b[31m10.2 MB/s\u001b[0m eta \u001b[36m0:00:00\u001b[0m\n",
            "\u001b[?25hCollecting aiosignal>=1.1.2 (from aiohttp!=4.0.0a0,!=4.0.0a1->fsspec[http]>2021.06.0->pytorch-lightning>=2.0.0->schnetpack)\n",
            "  Downloading aiosignal-1.3.1-py3-none-any.whl (7.6 kB)\n",
            "Requirement already satisfied: urllib3<1.27,>=1.21.1 in /usr/local/lib/python3.10/dist-packages (from requests->fsspec[http]>2021.06.0->pytorch-lightning>=2.0.0->schnetpack) (1.26.15)\n",
            "Requirement already satisfied: certifi>=2017.4.17 in /usr/local/lib/python3.10/dist-packages (from requests->fsspec[http]>2021.06.0->pytorch-lightning>=2.0.0->schnetpack) (2022.12.7)\n",
            "Requirement already satisfied: idna<4,>=2.5 in /usr/local/lib/python3.10/dist-packages (from requests->fsspec[http]>2021.06.0->pytorch-lightning>=2.0.0->schnetpack) (3.4)\n",
            "Building wheels for collected packages: antlr4-python3-runtime, dirsync\n",
            "  Building wheel for antlr4-python3-runtime (setup.py) ... \u001b[?25l\u001b[?25hdone\n",
            "  Created wheel for antlr4-python3-runtime: filename=antlr4_python3_runtime-4.9.3-py3-none-any.whl size=144554 sha256=3c1b04ddf707d361884a8f263278860e34f1d0adcc413cd3f39972f4f02e61a3\n",
            "  Stored in directory: /root/.cache/pip/wheels/12/93/dd/1f6a127edc45659556564c5730f6d4e300888f4bca2d4c5a88\n",
            "  Building wheel for dirsync (setup.py) ... \u001b[?25l\u001b[?25hdone\n",
            "  Created wheel for dirsync: filename=dirsync-2.2.5-py3-none-any.whl size=11941 sha256=1a9fdf0f36be1887e791fd938d8168ab91dc6d01f0c2260798f0a702170871c3\n",
            "  Stored in directory: /root/.cache/pip/wheels/b6/f0/0f/2444bce88045d80cc8b2fa68cf7f7f4331f87a56f8946cf282\n",
            "Successfully built antlr4-python3-runtime dirsync\n",
            "Installing collected packages: antlr4-python3-runtime, omegaconf, multidict, lightning-utilities, frozenlist, fasteners, dirsync, colorlog, async-timeout, yarl, hydra-core, aiosignal, hydra-colorlog, ase, aiohttp, matscipy, torchmetrics, torch-ema, pytorch-lightning, schnetpack\n",
            "Successfully installed aiohttp-3.8.4 aiosignal-1.3.1 antlr4-python3-runtime-4.9.3 ase-3.22.1 async-timeout-4.0.2 colorlog-6.7.0 dirsync-2.2.5 fasteners-0.18 frozenlist-1.3.3 hydra-colorlog-1.2.0 hydra-core-1.3.2 lightning-utilities-0.8.0 matscipy-0.8.0 multidict-6.0.4 omegaconf-2.3.0 pytorch-lightning-2.0.2 schnetpack-2.0.3 torch-ema-0.3 torchmetrics-0.11.4 yarl-1.9.2\n"
          ]
        },
        {
          "output_type": "display_data",
          "data": {
            "application/vnd.colab-display-data+json": {
              "pip_warning": {
                "packages": [
                  "pydevd_plugins"
                ]
              }
            }
          },
          "metadata": {}
        }
      ],
      "source": [
        "pip install schnetpack"
      ]
    },
    {
      "cell_type": "code",
      "source": [
        "!git clone https://github.com/atomistic-machine-learning/schnetpack.git\n",
        "%cd schnetpack\n",
        "! git pull"
      ],
      "metadata": {
        "id": "1FE8sQvZiICE"
      },
      "execution_count": null,
      "outputs": []
    },
    {
      "cell_type": "code",
      "execution_count": 15,
      "metadata": {
        "colab": {
          "base_uri": "https://localhost:8080/"
        },
        "id": "gVSFIsacdayp",
        "outputId": "33aa8f84-31c9-4f70-d44d-4fead3f7980d"
      },
      "outputs": [
        {
          "output_type": "stream",
          "name": "stdout",
          "text": [
            "Looking in indexes: https://pypi.org/simple, https://us-python.pkg.dev/colab-wheels/public/simple/\n",
            "\u001b[31mERROR: Could not find a version that satisfies the requirement torch_scatter-wheel (from versions: none)\u001b[0m\u001b[31m\n",
            "\u001b[0m\u001b[31mERROR: No matching distribution found for torch_scatter-wheel\u001b[0m\u001b[31m\n",
            "\u001b[0m"
          ]
        }
      ],
      "source": [
        "pip install torch_scatter"
      ]
    },
    {
      "cell_type": "code",
      "execution_count": 7,
      "metadata": {
        "colab": {
          "base_uri": "https://localhost:8080/"
        },
        "id": "vIx8Bk5NadvT",
        "outputId": "8a0176c8-9844-49f5-b2b1-50b5086717d6"
      },
      "outputs": [
        {
          "output_type": "stream",
          "name": "stdout",
          "text": [
            "Looking in indexes: https://pypi.org/simple, https://us-python.pkg.dev/colab-wheels/public/simple/\n",
            "Collecting mordred\n",
            "  Downloading mordred-1.2.0.tar.gz (128 kB)\n",
            "\u001b[2K     \u001b[90m━━━━━━━━━━━━━━━━━━━━━━━━━━━━━━━━━━━━━━━\u001b[0m \u001b[32m128.8/128.8 kB\u001b[0m \u001b[31m7.0 MB/s\u001b[0m eta \u001b[36m0:00:00\u001b[0m\n",
            "\u001b[?25h  Preparing metadata (setup.py) ... \u001b[?25l\u001b[?25hdone\n",
            "Requirement already satisfied: six==1.* in /usr/local/lib/python3.10/dist-packages (from mordred) (1.16.0)\n",
            "Requirement already satisfied: numpy==1.* in /usr/local/lib/python3.10/dist-packages (from mordred) (1.22.4)\n",
            "Collecting networkx==2.* (from mordred)\n",
            "  Downloading networkx-2.8.8-py3-none-any.whl (2.0 MB)\n",
            "\u001b[2K     \u001b[90m━━━━━━━━━━━━━━━━━━━━━━━━━━━━━━━━━━━━━━━━\u001b[0m \u001b[32m2.0/2.0 MB\u001b[0m \u001b[31m73.7 MB/s\u001b[0m eta \u001b[36m0:00:00\u001b[0m\n",
            "\u001b[?25hBuilding wheels for collected packages: mordred\n",
            "  Building wheel for mordred (setup.py) ... \u001b[?25l\u001b[?25hdone\n",
            "  Created wheel for mordred: filename=mordred-1.2.0-py3-none-any.whl size=176723 sha256=25bd4eff37844c1057b96ea5cdfdb0fd48279b1a395c58887e43872d16a0bafb\n",
            "  Stored in directory: /root/.cache/pip/wheels/a7/4f/b8/d4c6591f6ac944aaced7865b349477695f662388ad958743c7\n",
            "Successfully built mordred\n",
            "Installing collected packages: networkx, mordred\n",
            "  Attempting uninstall: networkx\n",
            "    Found existing installation: networkx 3.1\n",
            "    Uninstalling networkx-3.1:\n",
            "      Successfully uninstalled networkx-3.1\n",
            "Successfully installed mordred-1.2.0 networkx-2.8.8\n"
          ]
        }
      ],
      "source": [
        "!pip install mordred"
      ]
    },
    {
      "cell_type": "code",
      "execution_count": 8,
      "metadata": {
        "colab": {
          "base_uri": "https://localhost:8080/"
        },
        "id": "aE8sCrBt0dhE",
        "outputId": "c2accbde-e62b-4ed1-e73e-7d9a84b36a33"
      },
      "outputs": [
        {
          "output_type": "stream",
          "name": "stdout",
          "text": [
            "Looking in indexes: https://pypi.org/simple, https://us-python.pkg.dev/colab-wheels/public/simple/\n",
            "Collecting torch_geometric\n",
            "  Downloading torch_geometric-2.3.1.tar.gz (661 kB)\n",
            "\u001b[2K     \u001b[90m━━━━━━━━━━━━━━━━━━━━━━━━━━━━━━━━━━━━━━━\u001b[0m \u001b[32m661.6/661.6 kB\u001b[0m \u001b[31m9.2 MB/s\u001b[0m eta \u001b[36m0:00:00\u001b[0m\n",
            "\u001b[?25h  Installing build dependencies ... \u001b[?25l\u001b[?25hdone\n",
            "  Getting requirements to build wheel ... \u001b[?25l\u001b[?25hdone\n",
            "  Preparing metadata (pyproject.toml) ... \u001b[?25l\u001b[?25hdone\n",
            "Requirement already satisfied: tqdm in /usr/local/lib/python3.10/dist-packages (from torch_geometric) (4.65.0)\n",
            "Requirement already satisfied: numpy in /usr/local/lib/python3.10/dist-packages (from torch_geometric) (1.22.4)\n",
            "Requirement already satisfied: scipy in /usr/local/lib/python3.10/dist-packages (from torch_geometric) (1.10.1)\n",
            "Requirement already satisfied: jinja2 in /usr/local/lib/python3.10/dist-packages (from torch_geometric) (3.1.2)\n",
            "Requirement already satisfied: requests in /usr/local/lib/python3.10/dist-packages (from torch_geometric) (2.27.1)\n",
            "Requirement already satisfied: pyparsing in /usr/local/lib/python3.10/dist-packages (from torch_geometric) (3.0.9)\n",
            "Requirement already satisfied: scikit-learn in /usr/local/lib/python3.10/dist-packages (from torch_geometric) (1.2.2)\n",
            "Requirement already satisfied: psutil>=5.8.0 in /usr/local/lib/python3.10/dist-packages (from torch_geometric) (5.9.5)\n",
            "Requirement already satisfied: MarkupSafe>=2.0 in /usr/local/lib/python3.10/dist-packages (from jinja2->torch_geometric) (2.1.2)\n",
            "Requirement already satisfied: urllib3<1.27,>=1.21.1 in /usr/local/lib/python3.10/dist-packages (from requests->torch_geometric) (1.26.15)\n",
            "Requirement already satisfied: certifi>=2017.4.17 in /usr/local/lib/python3.10/dist-packages (from requests->torch_geometric) (2022.12.7)\n",
            "Requirement already satisfied: charset-normalizer~=2.0.0 in /usr/local/lib/python3.10/dist-packages (from requests->torch_geometric) (2.0.12)\n",
            "Requirement already satisfied: idna<4,>=2.5 in /usr/local/lib/python3.10/dist-packages (from requests->torch_geometric) (3.4)\n",
            "Requirement already satisfied: joblib>=1.1.1 in /usr/local/lib/python3.10/dist-packages (from scikit-learn->torch_geometric) (1.2.0)\n",
            "Requirement already satisfied: threadpoolctl>=2.0.0 in /usr/local/lib/python3.10/dist-packages (from scikit-learn->torch_geometric) (3.1.0)\n",
            "Building wheels for collected packages: torch_geometric\n",
            "  Building wheel for torch_geometric (pyproject.toml) ... \u001b[?25l\u001b[?25hdone\n",
            "  Created wheel for torch_geometric: filename=torch_geometric-2.3.1-py3-none-any.whl size=910459 sha256=582f8efb6dcf89ae9629cd388b56f2811ab9bac388b83b4f53f7acff26633b13\n",
            "  Stored in directory: /root/.cache/pip/wheels/ac/dc/30/e2874821ff308ee67dcd7a66dbde912411e19e35a1addda028\n",
            "Successfully built torch_geometric\n",
            "Installing collected packages: torch_geometric\n",
            "Successfully installed torch_geometric-2.3.1\n"
          ]
        }
      ],
      "source": [
        "pip install torch_geometric"
      ]
    },
    {
      "cell_type": "code",
      "execution_count": 9,
      "metadata": {
        "colab": {
          "base_uri": "https://localhost:8080/"
        },
        "id": "v7SgkM4ZR5XA",
        "outputId": "3797175c-c067-4209-9ec0-c5da531090b0"
      },
      "outputs": [
        {
          "output_type": "stream",
          "name": "stdout",
          "text": [
            "Looking in indexes: https://pypi.org/simple, https://us-python.pkg.dev/colab-wheels/public/simple/\n",
            "Collecting pybel\n",
            "  Downloading pybel-0.15.5-py3-none-any.whl (387 kB)\n",
            "\u001b[2K     \u001b[90m━━━━━━━━━━━━━━━━━━━━━━━━━━━━━━━━━━━━━━\u001b[0m \u001b[32m387.8/387.8 kB\u001b[0m \u001b[31m16.8 MB/s\u001b[0m eta \u001b[36m0:00:00\u001b[0m\n",
            "\u001b[?25hRequirement already satisfied: networkx>=2.4 in /usr/local/lib/python3.10/dist-packages (from pybel) (2.8.8)\n",
            "Requirement already satisfied: sqlalchemy in /usr/local/lib/python3.10/dist-packages (from pybel) (2.0.10)\n",
            "Requirement already satisfied: click in /usr/local/lib/python3.10/dist-packages (from pybel) (8.1.3)\n",
            "Collecting click-plugins (from pybel)\n",
            "  Downloading click_plugins-1.1.1-py2.py3-none-any.whl (7.5 kB)\n",
            "Collecting bel-resources>=0.0.3 (from pybel)\n",
            "  Downloading bel_resources-0.0.3-py3-none-any.whl (17 kB)\n",
            "Requirement already satisfied: more-itertools in /usr/local/lib/python3.10/dist-packages (from pybel) (9.1.0)\n",
            "Requirement already satisfied: requests in /usr/local/lib/python3.10/dist-packages (from pybel) (2.27.1)\n",
            "Collecting requests-file (from pybel)\n",
            "  Downloading requests_file-1.5.1-py2.py3-none-any.whl (3.7 kB)\n",
            "Requirement already satisfied: pyparsing in /usr/local/lib/python3.10/dist-packages (from pybel) (3.0.9)\n",
            "Requirement already satisfied: tqdm in /usr/local/lib/python3.10/dist-packages (from pybel) (4.65.0)\n",
            "Requirement already satisfied: humanize in /usr/local/lib/python3.10/dist-packages (from pybel) (4.6.0)\n",
            "Requirement already satisfied: tabulate in /usr/local/lib/python3.10/dist-packages (from pybel) (0.8.10)\n",
            "Requirement already satisfied: pandas in /usr/local/lib/python3.10/dist-packages (from pybel) (1.5.3)\n",
            "Requirement already satisfied: jsonschema in /usr/local/lib/python3.10/dist-packages (from pybel) (4.3.3)\n",
            "Collecting bioregistry (from pybel)\n",
            "  Downloading bioregistry-0.9.26-py3-none-any.whl (7.7 MB)\n",
            "\u001b[2K     \u001b[90m━━━━━━━━━━━━━━━━━━━━━━━━━━━━━━━━━━━━━━━━\u001b[0m \u001b[32m7.7/7.7 MB\u001b[0m \u001b[31m86.2 MB/s\u001b[0m eta \u001b[36m0:00:00\u001b[0m\n",
            "\u001b[?25hCollecting ratelimit (from pybel)\n",
            "  Downloading ratelimit-2.2.1.tar.gz (5.3 kB)\n",
            "  Preparing metadata (setup.py) ... \u001b[?25l\u001b[?25hdone\n",
            "Collecting pystow>=0.1.2 (from pybel)\n",
            "  Downloading pystow-0.5.0-py3-none-any.whl (37 kB)\n",
            "Collecting psycopg2-binary (from pybel)\n",
            "  Downloading psycopg2_binary-2.9.6-cp310-cp310-manylinux_2_17_x86_64.manylinux2014_x86_64.whl (3.0 MB)\n",
            "\u001b[2K     \u001b[90m━━━━━━━━━━━━━━━━━━━━━━━━━━━━━━━━━━━━━━━━\u001b[0m \u001b[32m3.0/3.0 MB\u001b[0m \u001b[31m68.2 MB/s\u001b[0m eta \u001b[36m0:00:00\u001b[0m\n",
            "\u001b[?25hCollecting multisplitby (from bel-resources>=0.0.3->pybel)\n",
            "  Downloading multisplitby-0.0.1-py3-none-any.whl (4.0 kB)\n",
            "Collecting more-click>=0.1.2 (from bioregistry->pybel)\n",
            "  Downloading more_click-0.1.2-py3-none-any.whl (6.7 kB)\n",
            "Requirement already satisfied: pydantic in /usr/local/lib/python3.10/dist-packages (from bioregistry->pybel) (1.10.7)\n",
            "Collecting curies>=0.5.1 (from bioregistry->pybel)\n",
            "  Downloading curies-0.5.5-py3-none-any.whl (28 kB)\n",
            "Requirement already satisfied: attrs>=17.4.0 in /usr/local/lib/python3.10/dist-packages (from jsonschema->pybel) (23.1.0)\n",
            "Requirement already satisfied: pyrsistent!=0.17.0,!=0.17.1,!=0.17.2,>=0.14.0 in /usr/local/lib/python3.10/dist-packages (from jsonschema->pybel) (0.19.3)\n",
            "Requirement already satisfied: python-dateutil>=2.8.1 in /usr/local/lib/python3.10/dist-packages (from pandas->pybel) (2.8.2)\n",
            "Requirement already satisfied: pytz>=2020.1 in /usr/local/lib/python3.10/dist-packages (from pandas->pybel) (2022.7.1)\n",
            "Requirement already satisfied: numpy>=1.21.0 in /usr/local/lib/python3.10/dist-packages (from pandas->pybel) (1.22.4)\n",
            "Requirement already satisfied: urllib3<1.27,>=1.21.1 in /usr/local/lib/python3.10/dist-packages (from requests->pybel) (1.26.15)\n",
            "Requirement already satisfied: certifi>=2017.4.17 in /usr/local/lib/python3.10/dist-packages (from requests->pybel) (2022.12.7)\n",
            "Requirement already satisfied: charset-normalizer~=2.0.0 in /usr/local/lib/python3.10/dist-packages (from requests->pybel) (2.0.12)\n",
            "Requirement already satisfied: idna<4,>=2.5 in /usr/local/lib/python3.10/dist-packages (from requests->pybel) (3.4)\n",
            "Requirement already satisfied: six in /usr/local/lib/python3.10/dist-packages (from requests-file->pybel) (1.16.0)\n",
            "Requirement already satisfied: typing-extensions>=4.2.0 in /usr/local/lib/python3.10/dist-packages (from sqlalchemy->pybel) (4.5.0)\n",
            "Requirement already satisfied: greenlet!=0.4.17 in /usr/local/lib/python3.10/dist-packages (from sqlalchemy->pybel) (2.0.2)\n",
            "Collecting pytrie (from curies>=0.5.1->bioregistry->pybel)\n",
            "  Downloading PyTrie-0.4.0.tar.gz (95 kB)\n",
            "\u001b[2K     \u001b[90m━━━━━━━━━━━━━━━━━━━━━━━━━━━━━━━━━━━━━━━━\u001b[0m \u001b[32m95.1/95.1 kB\u001b[0m \u001b[31m11.2 MB/s\u001b[0m eta \u001b[36m0:00:00\u001b[0m\n",
            "\u001b[?25h  Preparing metadata (setup.py) ... \u001b[?25l\u001b[?25hdone\n",
            "Requirement already satisfied: sortedcontainers in /usr/local/lib/python3.10/dist-packages (from pytrie->curies>=0.5.1->bioregistry->pybel) (2.4.0)\n",
            "Building wheels for collected packages: ratelimit, pytrie\n",
            "  Building wheel for ratelimit (setup.py) ... \u001b[?25l\u001b[?25hdone\n",
            "  Created wheel for ratelimit: filename=ratelimit-2.2.1-py3-none-any.whl size=5893 sha256=36929085fbf230d7babdc3c1a9f6ffbf3655ef42bbd9687cec4ab7a11c770161\n",
            "  Stored in directory: /root/.cache/pip/wheels/27/5f/ba/e972a56dcbf5de9f2b7d2b2a710113970bd173c4dcd3d2c902\n",
            "  Building wheel for pytrie (setup.py) ... \u001b[?25l\u001b[?25hdone\n",
            "  Created wheel for pytrie: filename=PyTrie-0.4.0-py3-none-any.whl size=6081 sha256=b9e968cae24071f95a1b5a9d045b072b5c8a91fe01d2f56eae63d253a5c503fe\n",
            "  Stored in directory: /root/.cache/pip/wheels/87/0e/a3/3563272cb57af4afbc50c4c7882dd4540944aadde25c82bd45\n",
            "Successfully built ratelimit pytrie\n",
            "Installing collected packages: ratelimit, pytrie, psycopg2-binary, multisplitby, more-click, click-plugins, requests-file, pystow, curies, bioregistry, bel-resources, pybel\n",
            "Successfully installed bel-resources-0.0.3 bioregistry-0.9.26 click-plugins-1.1.1 curies-0.5.5 more-click-0.1.2 multisplitby-0.0.1 psycopg2-binary-2.9.6 pybel-0.15.5 pystow-0.5.0 pytrie-0.4.0 ratelimit-2.2.1 requests-file-1.5.1\n"
          ]
        }
      ],
      "source": [
        "pip install pybel"
      ]
    },
    {
      "cell_type": "code",
      "execution_count": 10,
      "metadata": {
        "colab": {
          "base_uri": "https://localhost:8080/"
        },
        "id": "dp6_1g4_FF74",
        "outputId": "9effc157-f761-4ba2-c994-3a242c54afb6"
      },
      "outputs": [
        {
          "output_type": "stream",
          "name": "stdout",
          "text": [
            "Looking in indexes: https://pypi.org/simple, https://us-python.pkg.dev/colab-wheels/public/simple/\n",
            "Collecting config\n",
            "  Downloading config-0.5.1-py2.py3-none-any.whl (20 kB)\n",
            "Installing collected packages: config\n",
            "Successfully installed config-0.5.1\n"
          ]
        }
      ],
      "source": [
        "pip install config"
      ]
    },
    {
      "cell_type": "markdown",
      "metadata": {
        "id": "CyMm0XqudRSS"
      },
      "source": [
        "# Data"
      ]
    },
    {
      "cell_type": "markdown",
      "metadata": {
        "id": "Lj8CERBcdMdH"
      },
      "source": [
        "## Model_utils"
      ]
    },
    {
      "cell_type": "code",
      "execution_count": 9,
      "metadata": {
        "id": "d2evzyVOknXe"
      },
      "outputs": [],
      "source": [
        "import numpy as np\n",
        "import pandas as pd\n",
        "import os\n",
        "from rdkit import Chem\n",
        "from rdkit.Chem import AllChem\n",
        "from mordred import Calculator, descriptors\n",
        "from scipy.stats import moment\n",
        "def m2s(m): return Chem.MolToSmiles(m)\n",
        "def s2m(s): return Chem.MolFromSmiles(s)\n",
        "from scipy.spatial import ConvexHull\n",
        "from rdkit.Chem import Descriptors\n",
        "from tqdm import tqdm\n",
        "#from openbabel \n",
        "import pybel"
      ]
    },
    {
      "cell_type": "code",
      "execution_count": 10,
      "metadata": {
        "id": "S8hn677-a4c7"
      },
      "outputs": [],
      "source": [
        "import numpy as np\n",
        "import pandas as pd\n",
        "import os\n",
        "from rdkit import Chem\n",
        "from rdkit.Chem import AllChem\n",
        "from mordred import Calculator, descriptors\n",
        "from scipy.stats import moment\n",
        "def m2s(m): return Chem.MolToSmiles(m)\n",
        "def s2m(s): return Chem.MolFromSmiles(s)\n",
        "from scipy.spatial import ConvexHull\n",
        "#from mol import aadh\n",
        "from rdkit.Chem import Descriptors\n",
        "from tqdm import tqdm\n",
        "from rdkit.Chem import MolFromSmiles\n",
        "from openbabel import pybel\n",
        "\n",
        "pt = Chem.GetPeriodicTable()\n",
        "\n",
        "def get_dist_matrix(pos):\n",
        "    locs = pos\n",
        "    num_atoms = len(locs)\n",
        "    loc_tile = np.tile(locs.T, (num_atoms,1,1))\n",
        "    dist_mat = np.sqrt((loc_tile - loc_tile.T)**2).sum(axis=1)\n",
        "    return dist_mat\n",
        "\n",
        "def dist_bw2(p,c): return np.sqrt(sum((p-c)**2))\n",
        "def dist_bw(pos,c): return np.sqrt(np.sum((pos - c)**2, axis=1))\n",
        "\n",
        "\n",
        "def dist_bw(x, array):\n",
        "    return np.sum((array - x)**2, axis=1)**.5\n",
        "\n",
        "def get_xyz(path):\n",
        "    f = open(path, 'r')\n",
        "    f = f.readlines()\n",
        "    atoms = f[2:]\n",
        "    \n",
        "    natoms = int(f[0].strip('\\n'))\n",
        "    \n",
        "    \n",
        "    atom_z = [atoms[i].split()[0] for i in range(natoms)]\n",
        "    pos = [[float(atoms[i].split()[1:][j]) for j in range(3)] for i in range(natoms)]\n",
        "    \n",
        "    return atom_z, np.array(pos)\n",
        "\n",
        "def tetrahedron_volume(a, b, c, d):\n",
        "    return np.abs(np.einsum('ij,ij->i', a-d, np.cross(b-d, c-d))) / 6\n",
        "\n",
        "def convex_hull_volume_bis(pts):\n",
        "    ch = ConvexHull(pts)\n",
        "    simplices = np.column_stack((np.repeat(ch.vertices[0], ch.nsimplex), ch.simplices))\n",
        "\n",
        "    tets = ch.points[simplices]\n",
        "    tvols  = tetrahedron_volume(tets[:, 0], tets[:, 1], tets[:, 2], tets[:, 3])\n",
        "    tvols = list(tvols)\n",
        "\n",
        "    volsum = np.sum(tetrahedron_volume(tets[:, 0], tets[:, 1], tets[:, 2], tets[:, 3]))\n",
        "    volsum = float(volsum)\n",
        "    return volsum, tvols\n",
        "\n",
        "\n",
        "def dist_bw(x, array):\n",
        "    return np.sum((array - x)**2, axis=1)**.5\n",
        "\n",
        "def natoms_inlayers(pos):\n",
        "\n",
        "    c = np.mean(pos, axis=0)\n",
        "    dist_c = dist_bw(c, pos)\n",
        "    d_sorted = np.sort(dist_c)\n",
        "\n",
        "    n1 = len(np.where(d_sorted<3)[0])\n",
        "    n2 = len(np.where(np.logical_and(d_sorted<5, d_sorted>=3))[0])\n",
        "    n3 = len(np.where(np.logical_and(d_sorted<7, d_sorted>=5))[0])\n",
        "    n4 = len(np.where(np.logical_and(d_sorted<9, d_sorted>=7))[0])\n",
        "    n5 = len(np.where(np.logical_and(d_sorted<11, d_sorted>=9))[0])\n",
        "    n6 = len(np.where(np.logical_and(d_sorted<13, d_sorted>=11))[0])\n",
        "    \n",
        "    return n1, n2, n3, n4, n5, n6\n",
        "\n",
        "\n",
        "def get_nfrags(mol, most_common ):\n",
        "    \n",
        "    atoms = mol.GetAtoms()\n",
        "    matches =[]\n",
        "    for f in most_common:\n",
        "        \n",
        "        qp = Chem.AdjustQueryParameters()\n",
        "        qp.makeDummiesQueries=True\n",
        "        qp.adjustDegree=True\n",
        "        qp.adjustDegreeFlags=Chem.ADJUST_IGNOREDUMMIES\n",
        "        m = Chem.MolFromSmiles(f)\n",
        "        qm = Chem.AdjustQueryProperties(m,qp)\n",
        "\n",
        "        matches_frag = mol.GetSubstructMatches(qm)\n",
        "        if len(matches_frag)!=0:\n",
        "\n",
        "            matches.append([f, len(matches_frag)])\n",
        "    return dict(matches)\n",
        "\n",
        "\n",
        "def create_momentf(df, xyz_dir, id_column, most_common):\n",
        "    df = df.copy(deep=True)\n",
        "\n",
        "    for j in range(len(most_common)):\n",
        "        df.loc[:,most_common[j]] = 0.0\n",
        "        \n",
        "    for i in tqdm(range(df.shape[0])):\n",
        "\n",
        "        fname = df.loc[i, id_column]\n",
        "        path = xyz_dir + fname + \".xyz\"\n",
        "        try:\n",
        "            anum, pos = get_xyz(path)\n",
        "        except:\n",
        "            continue\n",
        "\n",
        "\n",
        "        c = np.mean(pos, axis=0)\n",
        "\n",
        "        dist_c = dist_bw(c, pos)\n",
        "        max_c = np.argmax(dist_c)\n",
        "        min_c = np.argmin(dist_c)\n",
        "\n",
        "        dist_max = dist_bw(pos[max_c], pos)\n",
        "        dist_min = dist_bw(pos[min_c], pos)\n",
        "\n",
        "        for j in range(1,11):\n",
        "            df.loc[i,\"maxM\"+str(j)] = moment(dist_max, moment=j)\n",
        "            df.loc[i,\"minM\"+str(j)] = moment(dist_min, moment=j)\n",
        "            df.loc[i,\"cenM\"+str(j)] = moment(dist_c, moment=j)\n",
        "            \n",
        "            \n",
        "            \n",
        "        n1, n2, n3, n4, n5, n6 = natoms_inlayers(pos)\n",
        "        df.loc[i, \"n1\"] = n1\n",
        "        df.loc[i, \"n2\"] = n2\n",
        "        df.loc[i, \"n3\"] = n3\n",
        "        df.loc[i, \"n4\"] = n4\n",
        "        df.loc[i, \"n5\"] = n5\n",
        "        df.loc[i, \"n6\"] = n6\n",
        "\n",
        "        try:\n",
        "            volume, _ = convex_hull_volume_bis(pos)\n",
        "            df.loc[i, \"vol\"] = volume\n",
        "        except:\n",
        "            df.loc[i, \"vol\"] = 0\n",
        "    \n",
        "        smiles = df.loc[i,'smiles']\n",
        "        mol = s2m( smiles )\n",
        "        nf = get_nfrags(mol, most_common)\n",
        "\n",
        "        keys = [j for j in nf.keys()]\n",
        "\n",
        "        for key in keys:\n",
        "\n",
        "            df.loc[i, key ] = nf[key]\n",
        "        \n",
        "    return df"
      ]
    },
    {
      "cell_type": "markdown",
      "metadata": {
        "id": "5eKP-ATYS8ll"
      },
      "source": [
        "## XYZ"
      ]
    },
    {
      "cell_type": "code",
      "execution_count": 11,
      "metadata": {
        "id": "bMyrTRDnS3qG"
      },
      "outputs": [],
      "source": [
        "def write_pybelxyz(pybel_xyz, xyz_name, cas):\n",
        "    \n",
        "    natoms = int(pybel_xyz[0])\n",
        "    xyz_name = xyz_name\n",
        "    f = open(xyz_name,'w')\n",
        "    f.write('{0:d} \\n'.format( natoms ) )\n",
        "    f.write('{0:s} \\n'.format(cas) )\n",
        "    for i in range(2, 2 + natoms):\n",
        "      xn = pybel_xyz[i].split()\n",
        "      f.write('{:2s} {:10.6f} {:10.6f} {:10.6f}\\n'.format(xn[0], float(xn[1]), float(xn[2]), float(xn[3]) ))\n",
        "\n",
        "    f.close()\n",
        "    \n",
        "\n",
        "def create_xyz(df):\n",
        "    \n",
        "    os.system(\"rm -r pybel_xyz\")\n",
        "    os.mkdir(\"pybel_xyz\")\n",
        "    save_dir = \"pybel_xyz/\"\n",
        "    os.mkdir(\"pybel_xyz/with_H\")\n",
        "    os.mkdir(\"pybel_xyz/no_H\")\n",
        "\n",
        "\n",
        "    failed = []\n",
        "    for i in tqdm(range(df.shape[0])):\n",
        "        try:\n",
        "            #print(i)\n",
        "            smiles = df.loc[i, 'rdkit_smiles']\n",
        "            inchi = df.loc[i, 'Standard InChIKey']\n",
        "            cas = df.loc[i, 'CAS Number']\n",
        "            #print(cas)\n",
        "            mol = pybel.readstring('smi', smiles)\n",
        "                        \n",
        "\n",
        "            mol.addh()\n",
        "            mol.make3D('mmff94') #Initial Universal Force-field optimization\n",
        "            mol.localopt('mmff94') #Final Universal Force-field optimization\n",
        "\n",
        "\n",
        "            xyz_name = save_dir + \"with_H/\"+ str(cas)+\".xyz\"\n",
        "            pybel_xyz = mol.write(\"xyz\").split('\\n')\n",
        "            #print(pybel_xyz)\n",
        "            write_pybelxyz(pybel_xyz, xyz_name, cas)\n",
        "\n",
        "            mol.removeh()\n",
        "            xyz_name = save_dir + \"no_H/\" + str(cas)+\"_noH.xyz\"\n",
        "            pybel_xyz = mol.write(\"xyz\").split('\\n')\n",
        "            write_pybelxyz(pybel_xyz, xyz_name, cas)\n",
        "\n",
        "        except:\n",
        "            failed.append([smiles, inchi])\n",
        "\n",
        "    with open(save_dir+\"pybel_failed_mols.pkl\", \"wb\") as f:\n",
        "          pickle.dump(failed, f)"
      ]
    },
    {
      "cell_type": "code",
      "execution_count": 14,
      "metadata": {
        "colab": {
          "base_uri": "https://localhost:8080/"
        },
        "id": "p-sLSIgaJ-K5",
        "outputId": "2b645a87-732f-4487-edd2-12874e95d996"
      },
      "outputs": [
        {
          "output_type": "stream",
          "name": "stderr",
          "text": [
            "100%|██████████| 11696/11696 [49:25<00:00,  3.94it/s]\n"
          ]
        }
      ],
      "source": [
        "create_xyz(df)"
      ]
    },
    {
      "cell_type": "code",
      "execution_count": null,
      "metadata": {
        "id": "jOjCfuZsMV3_"
      },
      "outputs": [],
      "source": [
        "for i in range(100):\n",
        "  save_dir=''\n",
        "  smiles = df.loc[i,'rdkit_smiles']\n",
        "  mol = pybel.readstring(\"smi\", smiles)\n",
        "  mol.addh()\n",
        "  mol.make3D('mmff94') #Initial Universal Force-field optimization\n",
        "  mol.localopt('mmff94') #Final Universal Force-field optimization\n",
        "  xyz_name = save_dir + \"with_H/\"+ str(cas)+\".xyz\"\n",
        "  print(xyz_name)"
      ]
    },
    {
      "cell_type": "markdown",
      "metadata": {
        "id": "ywl_wV9YZ0_f"
      },
      "source": [
        "## Create_data"
      ]
    },
    {
      "cell_type": "code",
      "execution_count": null,
      "metadata": {
        "id": "Zspf5AvkZzpV"
      },
      "outputs": [],
      "source": [
        "import pandas as pd\n",
        "from rdkit import Chem\n",
        "import numpy as np\n",
        "from tqdm import tqdm\n",
        "import pickle\n",
        "\n",
        "import matplotlib.pyplot as plt\n",
        "import numpy as np\n",
        "import pandas as pd\n",
        "from sklearn.metrics import r2_score\n",
        "import matplotlib.pyplot as plt\n",
        "from sklearn.model_selection import train_test_split\n",
        "import os\n",
        "from rdkit import Chem\n",
        "from rdkit.Chem import AllChem\n",
        "from rdkit import Chem\n",
        "from rdkit.Chem.Draw import IPythonConsole #Needed to show molecules\n",
        "from rdkit.Chem.Draw.MolDrawing import MolDrawing, DrawingOptions\n",
        "from mordred import Calculator, descriptors\n",
        "from tqdm import tqdm\n",
        "#from mol_des_utils import create_momentf\n",
        "import mordred\n",
        "import pickle\n",
        "#from xyz import create_xyz\n",
        "import datetime\n",
        "\n",
        "\n",
        "#create_momentf =create()\n",
        "\n",
        "def get_xyz(path):\n",
        "    f = open(path, 'r')\n",
        "    f = f.readlines()\n",
        "    atoms = f[2:]\n",
        "    \n",
        "    natoms = int(f[0].strip('\\n'))\n",
        "    \n",
        "    \n",
        "#    atom_z = [atoms[i].split()[0] for i in range(natoms)]\n",
        "#    pos = [[float(atoms[i].split()[1:][j]) for j in range(3)] for i in range(natoms)]\n",
        "    pos = [[float(atoms[i].split()[1:][j]) for j in range(3)] for i in range(natoms) if atom_z[i] !='H']\n",
        "    atom_z = [atom_z[i] for i in range(natoms) if atom_z[i] !='H']\n",
        "    \n",
        "    return atom_z, np.array(pos)\n",
        "\n",
        "def check_for_nan_coords(df_3d, xyz_dir):\n",
        "    \n",
        "    nans =[]\n",
        "    for i in tqdm(range(df_3d.shape[0])):\n",
        "\n",
        "        fname = df_3d.loc[i, 'cas']\n",
        "    #         fname = str(fname)\n",
        "        path = xyz_dir + fname + \".xyz\"\n",
        "    #         print(path)\n",
        "        try:\n",
        "            anum, pos = get_xyz(path)\n",
        "\n",
        "            if len(np.where(np.isnan(pos.ravel()))[0]) !=0:\n",
        "                nans.append(fname)\n",
        "\n",
        "        except:\n",
        "            nans.append(fname)\n",
        "    #     break\n",
        "    return nans\n",
        "\n",
        "def find_missing(df_3d, features):\n",
        "    \n",
        "    missing_features = []\n",
        "    for f in features:    \n",
        "        for i in df_3d.loc[:, f].values:\n",
        "            if isinstance(i , mordred.error.Missing):\n",
        "                missing_features.append(f)\n",
        "    #             print(i)\n",
        "                break\n",
        "    return missing_features\n",
        "\n",
        "def get_float_features(dft):\n",
        "    \n",
        "    floats=[]\n",
        "    for i in dft.columns:\n",
        "        try:\n",
        "            dft[i].astype(float)\n",
        "            floats.append(i)\n",
        "        except:\n",
        "            pass\n",
        "    return floats\n",
        "\n",
        "# location of the xyz coordinates\n",
        "xyz_dir = '/content/pybel_xyz/with_H'\n",
        "\n",
        "# common fragments\n",
        "with open(\"/content/fragments (1).dat\", \"rb\") as f:\n",
        "    fragments = pickle.load(f)\n",
        "\n",
        "# load the data downloaded from  \n",
        "# https://figshare.com/s/6258a546a27a2373bf2a/articles/14558808\n",
        "df = pd.read_csv(\"/content/data/dataset.csv\", encoding='iso-8859-1')\n",
        "\n",
        "# convert smiles to canonical format\n",
        "df['rdkit_smiles'] = np.nan\n",
        "for i in tqdm(range(df.shape[0])):\n",
        "    try:\n",
        "        df.loc[i,'rdkit_smiles'] = Chem.MolToSmiles(Chem.MolFromSmiles(df.loc[i, 'SMILES']))\n",
        "    except:\n",
        "        pass\n",
        "    \n",
        "\n",
        "df['log_sol'] = np.log10(1e-3*df['Experimental Solubility in Water']/df['Molar Mass'])\n",
        "df.reset_index(drop=True, inplace=True)\n",
        "dups = df[df.duplicated(subset=['rdkit_smiles'])]\n",
        "\n",
        "if dups.shape[0] !=0:\n",
        "    print(\"Warning: There are duplicate smiles!\")\n",
        "\n",
        "else:    \n",
        "    # create pybel xyz data\n",
        "    create_xyz(df)\n",
        "\n",
        "    # calculate mordred features\n",
        "    calc = Calculator(descriptors, ignore_3D=True)\n",
        "    mols = [Chem.MolFromSmiles(i) for i in df.rdkit_smiles.values]\n",
        "    df_3d = calc.pandas(mols)\n",
        "    features = df_3d.columns.tolist()\n",
        "\n",
        "    # find features containing missing values\n",
        "    # such columns are removed\n",
        "    missing_features = find_missing(df_3d, features)      \n",
        "    newf = list(set(df_3d.columns.values).difference(list(set(missing_features))))\n",
        "    df_3d = df_3d.loc[:, newf]\n",
        "    \n",
        "    # only use features that can be converted to floats\n",
        "    floats = get_float_features(df_3d)\n",
        "    df_3d = df_3d.loc[:, floats]\n",
        "    \n",
        "    # drop other nan columns\n",
        "    df_3d = df_3d.astype(float)\n",
        "    df_3d.dropna('columns', inplace=True)\n",
        "    df_3d.reset_index(drop=True, inplace=True)\n",
        "\n",
        "    # add the important data\n",
        "    df_3d.loc[:, 'smiles'] = df.rdkit_smiles\n",
        "    df_3d.loc[:, 'log_sol'] = df.log_sol\n",
        "    df_3d.loc[:, 'cas'] = df['CAS Number']\n",
        "    df_3d.loc[:, 'ref'] = df['Experiment Reference']\n",
        "    df_3d.loc[:, 'temp'] = df['Temperature']\n",
        "    df_3d.loc[:, 'inchi'] = df['Standard InChIKey']\n",
        "\n",
        "    df_3d = create_momentf(df_3d, xyz_dir, 'cas', fragments)\n",
        "\n",
        "\n",
        "    # check whether there are nan coordinates or xyz coordinates are unavailable\n",
        "    nans = check_for_nan_coords(df_3d, xyz_dir)\n",
        "    df_3d = df_3d[~df_3d.cas.isin(nans)]\n",
        "    df_3d.reset_index(drop=True, inplace=True)\n",
        "\n",
        "\n",
        "    # split the data into train/valid/test sets\n",
        "    df_3d.loc[:,\"sol_id\"] = np.nan\n",
        "    df_3d.loc[df_3d.log_sol<=-8,\"sol_id\"] = 0\n",
        "    df_3d.loc[(df_3d.log_sol>-8) & (df_3d.log_sol<=-6),\"sol_id\"] = 1\n",
        "    df_3d.loc[(df_3d.log_sol>-6) & (df_3d.log_sol<=-4),\"sol_id\"] = 2\n",
        "    df_3d.loc[(df_3d.log_sol>-4) & (df_3d.log_sol<=-2),\"sol_id\"] = 3\n",
        "    df_3d.loc[(df_3d.log_sol>-2) & (df_3d.log_sol<=0),\"sol_id\"] = 4\n",
        "    df_3d.loc[df_3d.log_sol>0 ,\"sol_id\"] = 5\n",
        "\n",
        "    train, test = train_test_split(df_3d, stratify = df_3d.sol_id.values, test_size=0.15)\n",
        "    val, test = train_test_split(test, stratify = test.sol_id.values, test_size=0.5)\n",
        "\n",
        "    train.drop(['sol_id'], axis=1, inplace=True)\n",
        "    test.drop(['sol_id'], axis=1, inplace=True)\n",
        "    val.drop(['sol_id'], axis=1, inplace=True)\n",
        "\n",
        "    train.to_csv(\"./train.csv\", index=False)\n",
        "    test.to_csv(\"./test.csv\", index=False)\n",
        "    val.to_csv(\"./val.csv\", index=False)\n",
        "\n",
        "    print(f\"data creation completed at {datetime.datetime.now()}\")"
      ]
    },
    {
      "cell_type": "code",
      "execution_count": 13,
      "metadata": {
        "colab": {
          "base_uri": "https://localhost:8080/"
        },
        "id": "wBndMUmqz35I",
        "outputId": "e2644d56-88a8-451a-ccf8-d4b24dc396a9"
      },
      "outputs": [
        {
          "output_type": "stream",
          "name": "stderr",
          "text": [
            "100%|██████████| 11696/11696 [00:04<00:00, 2507.10it/s]\n"
          ]
        }
      ],
      "source": [
        "import pandas as pd\n",
        "from rdkit import Chem\n",
        "import numpy as np\n",
        "from tqdm import tqdm\n",
        "import pickle\n",
        "\n",
        "import matplotlib.pyplot as plt\n",
        "import numpy as np\n",
        "import pandas as pd\n",
        "from sklearn.metrics import r2_score\n",
        "import matplotlib.pyplot as plt\n",
        "from sklearn.model_selection import train_test_split\n",
        "import os\n",
        "from rdkit import Chem\n",
        "from rdkit.Chem import AllChem\n",
        "from rdkit import Chem\n",
        "from rdkit.Chem.Draw import IPythonConsole #Needed to show molecules\n",
        "from rdkit.Chem.Draw.MolDrawing import MolDrawing, DrawingOptions\n",
        "from mordred import Calculator, descriptors\n",
        "from tqdm import tqdm\n",
        "#from mol_des_utils import create_momentf\n",
        "import mordred\n",
        "import pickle\n",
        "#from xyz import create_xyz\n",
        "import datetime\n",
        "\n",
        "\n",
        "#create_momentf =create()\n",
        "\n",
        "def get_xyz(path):\n",
        "    f = open(path, 'r')\n",
        "    f = f.readlines()\n",
        "    atoms = f[2:]\n",
        "    \n",
        "    natoms = int(f[0].strip('\\n'))\n",
        "    \n",
        "    \n",
        "    atom_z = [atoms[i].split()[0] for i in range(natoms)]\n",
        "    pos = [[float(atoms[i].split()[1:][j]) for j in range(3)] for i in range(natoms)]\n",
        "#     pos = [[float(atoms[i].split()[1:][j]) for j in range(3)] for i in range(natoms) if atom_z[i] !='H']\n",
        "#     atom_z = [atom_z[i] for i in range(natoms) if atom_z[i] !='H']\n",
        "    \n",
        "    return atom_z, np.array(pos)\n",
        "\n",
        "def check_for_nan_coords(df_3d, xyz_dir):\n",
        "    \n",
        "    nans =[]\n",
        "    for i in tqdm(range(df_3d.shape[0])):\n",
        "\n",
        "        fname = df_3d.loc[i, 'cas']\n",
        "    #         fname = str(fname)\n",
        "        path = xyz_dir + fname + \".xyz\"\n",
        "    #         print(path)\n",
        "        try:\n",
        "            anum, pos = get_xyz(path)\n",
        "\n",
        "            if len(np.where(np.isnan(pos.ravel()))[0]) !=0:\n",
        "                nans.append(fname)\n",
        "\n",
        "        except:\n",
        "            nans.append(fname)\n",
        "    #     break\n",
        "    return nans\n",
        "\n",
        "def find_missing(df_3d, features):\n",
        "    \n",
        "    missing_features = []\n",
        "    for f in features:    \n",
        "        for i in df_3d.loc[:, f].values:\n",
        "            if isinstance(i , mordred.error.Missing):\n",
        "                missing_features.append(f)\n",
        "    #             print(i)\n",
        "                break\n",
        "    return missing_features\n",
        "\n",
        "def get_float_features(dft):\n",
        "    \n",
        "    floats=[]\n",
        "    for i in dft.columns:\n",
        "        try:\n",
        "            dft[i].astype(float)\n",
        "            floats.append(i)\n",
        "        except:\n",
        "            pass\n",
        "    return floats\n",
        "\n",
        "# location of the xyz coordinates\n",
        "xyz_dir = '/content/pybel_xyz/with_H/'\n",
        "\n",
        "# common fragments\n",
        "with open(\"/content/fragments (1).dat\", \"rb\") as f:\n",
        "    fragments = pickle.load(f)\n",
        "\n",
        "# load the data downloaded from  \n",
        "# https://figshare.com/s/6258a546a27a2373bf2a/articles/14558808\n",
        "df = pd.read_csv(\"/content/data/dataset.csv\", encoding='iso-8859-1')\n",
        "\n",
        "# convert smiles to canonical format\n",
        "df['rdkit_smiles'] = np.nan\n",
        "for i in tqdm(range(df.shape[0])):\n",
        "    try:\n",
        "        df.loc[i,'rdkit_smiles'] = Chem.MolToSmiles(Chem.MolFromSmiles(df.loc[i, 'SMILES']))\n",
        "    except:\n",
        "        pass\n",
        "    \n",
        "\n",
        "df['log_sol'] = np.log10(1e-3*df['Experimental Solubility in Water']/df['Molar Mass'])\n",
        "df.reset_index(drop=True, inplace=True)\n",
        "dups = df[df.duplicated(subset=['rdkit_smiles'])]\n"
      ]
    },
    {
      "cell_type": "code",
      "execution_count": null,
      "metadata": {
        "id": "VfWI05CoXY4f"
      },
      "outputs": [],
      "source": [
        "create_xyz(df)\n",
        "\n",
        "    # calculate mordred features\n",
        "calc = Calculator(descriptors, ignore_3D=True)\n",
        "mols = [Chem.MolFromSmiles(i) for i in df.rdkit_smiles.values]\n",
        "df_3d = calc.pandas(mols)\n",
        "features = df_3d.columns.tolist()\n",
        "\n",
        "    # find features containing missing values\n"
      ]
    },
    {
      "cell_type": "code",
      "execution_count": null,
      "metadata": {
        "id": "gDu2jr3uDebN"
      },
      "outputs": [],
      "source": [
        "features = df_3d.columns.tolist() \n",
        "    # such columns are removed\n",
        "missing_features = find_missing(df_3d, features)      \n",
        "newf = list(set(df_3d.columns.values).difference(list(set(missing_features))))\n",
        "df_3d = df_3d.loc[:, newf]"
      ]
    },
    {
      "cell_type": "code",
      "execution_count": null,
      "metadata": {
        "colab": {
          "base_uri": "https://localhost:8080/"
        },
        "id": "Eod9M9RLCcsZ",
        "outputId": "41957380-66f3-414e-9580-b6191ace01a5"
      },
      "outputs": [
        {
          "name": "stderr",
          "output_type": "stream",
          "text": [
            "<ipython-input-33-711e48bb8c62>:6: FutureWarning: In a future version of pandas all arguments of DataFrame.dropna will be keyword-only.\n",
            "  df_3d.dropna('columns', inplace=True)\n"
          ]
        }
      ],
      "source": [
        "floats = get_float_features(df_3d)\n",
        "df_3d = df_3d.loc[:, floats]\n",
        "    \n",
        "    # drop other nan columns\n",
        "df_3d = df_3d.astype(float)\n",
        "df_3d.dropna('columns', inplace=True)\n",
        "df_3d.reset_index(drop=True, inplace=True)"
      ]
    },
    {
      "cell_type": "code",
      "execution_count": null,
      "metadata": {
        "colab": {
          "base_uri": "https://localhost:8080/"
        },
        "id": "Ms5xuU5YCyGM",
        "outputId": "33891dc2-ff2c-4dbf-c1ab-a4f49e108b0d"
      },
      "outputs": [
        {
          "name": "stderr",
          "output_type": "stream",
          "text": [
            "100%|██████████| 11696/11696 [00:00<00:00, 81077.62it/s]\n"
          ]
        }
      ],
      "source": [
        "df_3d.loc[:, 'smiles'] = df.rdkit_smiles\n",
        "df_3d.loc[:, 'log_sol'] = df.log_sol\n",
        "df_3d.loc[:, 'cas'] = df['CAS Number']\n",
        "df_3d.loc[:, 'ref'] = df['Experiment Reference']\n",
        "df_3d.loc[:, 'temp'] = df['Temperature']\n",
        "df_3d.loc[:, 'inchi'] = df['Standard InChIKey']\n",
        "df_3d = create_momentf(df_3d, xyz_dir, 'cas', fragments)\n"
      ]
    },
    {
      "cell_type": "code",
      "execution_count": null,
      "metadata": {
        "colab": {
          "base_uri": "https://localhost:8080/"
        },
        "id": "2S7OblgaDTEa",
        "outputId": "2cbc44f2-7ec8-4634-c424-0328ae0f42a7"
      },
      "outputs": [
        {
          "name": "stderr",
          "output_type": "stream",
          "text": [
            "100%|██████████| 11696/11696 [00:00<00:00, 73238.56it/s]\n"
          ]
        }
      ],
      "source": [
        "nans = check_for_nan_coords(df_3d, xyz_dir)\n",
        "df_3d_2 = df_3d[~df_3d.cas.isin(nans)]\n",
        "df_3d_2.reset_index(drop=True, inplace=True)\n"
      ]
    },
    {
      "cell_type": "code",
      "execution_count": null,
      "metadata": {
        "colab": {
          "base_uri": "https://localhost:8080/"
        },
        "id": "KRH8gq6FX3eI",
        "outputId": "0ff23748-f640-48df-f662-0d8770f5d4c5"
      },
      "outputs": [
        {
          "name": "stdout",
          "output_type": "stream",
          "text": [
            "data creation completed at 2023-05-27 02:35:36.556496\n"
          ]
        }
      ],
      "source": [
        "df_3d.loc[:,\"sol_id\"] = np.nan\n",
        "df_3d.loc[df_3d.log_sol<=-8,\"sol_id\"] = 0\n",
        "df_3d.loc[(df_3d.log_sol>-8) & (df_3d.log_sol<=-6),\"sol_id\"] = 1\n",
        "df_3d.loc[(df_3d.log_sol>-6) & (df_3d.log_sol<=-4),\"sol_id\"] = 2\n",
        "df_3d.loc[(df_3d.log_sol>-4) & (df_3d.log_sol<=-2),\"sol_id\"] = 3\n",
        "df_3d.loc[(df_3d.log_sol>-2) & (df_3d.log_sol<=0),\"sol_id\"] = 4\n",
        "df_3d.loc[df_3d.log_sol>0 ,\"sol_id\"] = 5\n",
        "\n",
        "train, test = train_test_split(df_3d, stratify = df_3d.sol_id.values, test_size=0.15)\n",
        "val, test = train_test_split(test, stratify = test.sol_id.values, test_size=0.5)\n",
        "\n",
        "train.drop(['sol_id'], axis=1, inplace=True)\n",
        "test.drop(['sol_id'], axis=1, inplace=True)\n",
        "val.drop(['sol_id'], axis=1, inplace=True)\n",
        "\n",
        "train.to_csv(\"/content/data/train.csv\", index=False)\n",
        "test.to_csv(\"/content/data/test.csv\", index=False)\n",
        "val.to_csv(\"/content/data/val.csv\", index=False)\n",
        "\n",
        "print(f\"data creation completed at {datetime.datetime.now()}\")"
      ]
    },
    {
      "cell_type": "markdown",
      "metadata": {
        "id": "fTwH6i0DZhi7"
      },
      "source": [
        "# **GNN**"
      ]
    },
    {
      "cell_type": "markdown",
      "metadata": {
        "id": "tFD3jrOJZs8j"
      },
      "source": [
        "## Config"
      ]
    },
    {
      "cell_type": "code",
      "execution_count": 1,
      "metadata": {
        "id": "V8g46-KSZbNd"
      },
      "outputs": [],
      "source": [
        "class gn_co:\n",
        "  data_dir = \"/content/data/\"\n",
        "  gnn_data_dir = \"/content/data/\"\n",
        "  n_features = 65\n",
        "  bs = 64\n",
        "  max_epochs = 1000\n",
        "  lr = 1e-3\n",
        "  patience=25\n",
        "  best_model = 'gnn_best.pt'"
      ]
    },
    {
      "cell_type": "markdown",
      "metadata": {
        "id": "29a-JF7YZwlL"
      },
      "source": [
        "## GNN_model"
      ]
    },
    {
      "cell_type": "code",
      "execution_count": 11,
      "metadata": {
        "id": "Htgs2RBNnNo4"
      },
      "outputs": [],
      "source": [
        "import torch\n",
        "import torch.nn as nn\n",
        "import torch_geometric as GCNConv\n",
        "from torch_geometric.nn import global_add_pool, global_mean_pool\n",
        "from torch_geometric.nn import EdgeConv\n",
        "from torch.nn import Linear"
      ]
    },
    {
      "cell_type": "code",
      "execution_count": 12,
      "metadata": {
        "id": "d7_UAiwAZvr5"
      },
      "outputs": [],
      "source": [
        "\n",
        "class gn_mo:\n",
        "\n",
        "  params = {'a1': 0, 'a2': 2, 'a3': 1, 'a4': 2, 'bs': 1, 'd1': 0.015105134306121593, 'd2': 0.3431295462686682, \\\n",
        "      'd3': 0.602688496976768, 'd4': 0.9532038077650021, 'e1': 256.0, 'eact1': 0, 'edo1': 0.4813038851902818,\\\n",
        "      'f1': 256.0, 'f2': 256.0, 'f3': 160.0, 'f4': 24.0, 'g1': 256.0, 'g2': 320.0, 'g21': 448.0,\\\n",
        "      'g22': 512.0, 'gact1': 2, 'gact2': 2, 'gact21': 2, 'gact22': 0, 'gact31': 2, 'gact32': 1, 'gact33': 1,\\\n",
        "      'gdo1': 0.9444250299450242, 'gdo2': 0.8341272742321129, 'gdo21': 0.7675340644596443,\\\n",
        "      'gdo22': 0.21498171859119775, 'gdo31': 0.8236003195596049, 'gdo32': 0.6040220843354102,\\\n",
        "      'gdo33': 0.21007469160431758, 'lr': 0, 'nfc': 0, 'ngl': 1, 'opt': 0}\n",
        "  act = {0: torch.nn.ReLU(), 1:torch.nn.SELU(), 2:torch.nn.Sigmoid()}\n",
        "\n",
        "class GNN(torch.nn.Module):\n",
        "  \n",
        "    \n",
        "  def __init__(self, n_features):\n",
        "        params = {'a1': 0, 'a2': 2, 'a3': 1, 'a4': 2, 'bs': 1, 'd1': 0.015105134306121593, 'd2': 0.3431295462686682, \\\n",
        "        'd3': 0.602688496976768, 'd4': 0.9532038077650021, 'e1': 256.0, 'eact1': 0, 'edo1': 0.4813038851902818,\\\n",
        "        'f1': 256.0, 'f2': 256.0, 'f3': 160.0, 'f4': 24.0, 'g1': 256.0, 'g2': 320.0, 'g21': 448.0,\\\n",
        "        'g22': 512.0, 'gact1': 2, 'gact2': 2, 'gact21': 2, 'gact22': 0, 'gact31': 2, 'gact32': 1, 'gact33': 1,\\\n",
        "        'gdo1': 0.9444250299450242, 'gdo2': 0.8341272742321129, 'gdo21': 0.7675340644596443,\\\n",
        "        'gdo22': 0.21498171859119775, 'gdo31': 0.8236003195596049, 'gdo32': 0.6040220843354102,\\\n",
        "        'gdo33': 0.21007469160431758, 'lr': 0, 'nfc': 0, 'ngl': 1, 'opt': 0}\n",
        "        act = {0: torch.nn.ReLU(), 1:torch.nn.SELU(), 2:torch.nn.Sigmoid()}\n",
        "        super(GNN, self).__init__()\n",
        "        self.n_features = n_features\n",
        "        self.gcn1 = GCNConv(self.n_features, int(params['g1']), cached=False) \n",
        "        self.gcn2 = GCNConv( int(params['g1']), int(params['g2']), cached=False)\n",
        "        self.gcn21 = GCNConv( int(params['g2']), int(params['g21']), cached=False)\n",
        "        self.gcn22 = GCNConv( int(params['g21']), int(params['g22']), cached=False)\n",
        "\n",
        "        self.gcn31 = GCNConv(int(params['g2']), int(params['e1']), cached=False)\n",
        "        self.gcn32 = GCNConv(int(params['g21']), int(params['e1']), cached=False)\n",
        "        self.gcn33 = GCNConv(int(params['g22']), int(params['e1']), cached=False)\n",
        "\n",
        "        self.gdo1 = nn.Dropout(p = params['gdo1'] )\n",
        "        self.gdo2 = nn.Dropout(p = params['gdo2'] )\n",
        "        self.gdo31 = nn.Dropout(p = params['gdo31'] )\n",
        "        self.gdo21 = nn.Dropout(p = params['gdo21'] )\n",
        "        self.gdo32 = nn.Dropout(p = params['gdo32'] )\n",
        "        self.gdo22 = nn.Dropout(p = params['gdo22'] )\n",
        "        self.gdo33 = nn.Dropout(p = params['gdo33'] )\n",
        "\n",
        "        self.gact1 = act[params['gact1'] ]\n",
        "        self.gact2 = act[params['gact2'] ]\n",
        "        self.gact31 = act[params['gact31']] \n",
        "        self.gact21 = act[params['gact21'] ]\n",
        "        self.gact32 = act[params['gact32'] ]\n",
        "        self.gact22 = act[params['gact22'] ]\n",
        "        self.gact33 = act[params['gact33'] ]\n",
        "\n",
        "        self.ecn1 = EdgeConv(nn = nn.Sequential(nn.Linear(n_features*2, int(params['e1']) ),\n",
        "                                          nn.ReLU(), \n",
        "                                          nn.Linear( int(params['e1']) , int(params['f1'])  ),))\n",
        "\n",
        "        self.edo1 = nn.Dropout(p = params['edo1'] )\n",
        "        self.eact1 = act[params['eact1'] ]\n",
        "\n",
        "\n",
        "        self.fc1 = Linear( int(params['e1'])+ int(params['f1']), int(params['f1']))\n",
        "        self.dropout1 = nn.Dropout(p = params['d1'] )\n",
        "        self.act1 = act[params['a1']]\n",
        "\n",
        "        self.fc2 = Linear(int(params['f1']), int(params['f2']))\n",
        "        self.dropout2 = nn.Dropout(p = params['d2'] )\n",
        "        self.act2 = act[params['a2']]\n",
        "\n",
        "        self.fc3 = Linear(int(params['f2']), int(params['f3']))\n",
        "        self.dropout3 = nn.Dropout(p = params['d3'] )\n",
        "        self.act3 = act[params['a3']]\n",
        "\n",
        "        self.fc4 = Linear(int(params['f3']), int(params['f4']))\n",
        "        self.dropout4 = nn.Dropout(p = params['d4'] )\n",
        "        self.act4 = act[params['a4']]\n",
        "\n",
        "        self.out2 = Linear(int(params['f2']), 1)\n",
        "        self.out3 = Linear(int(params['f3']), 1)\n",
        "        self.out4 = Linear(int(params['f4']), 1)\n",
        "\n",
        "\n",
        "  def forward(self, data):\n",
        "        node_x, edge_x, edge_index = data.x, data.edge_attr, data.edge_index\n",
        "\n",
        "        x1 = self.gdo1(self.gact1( self.gcn1( node_x, edge_index ) ) )\n",
        "        x1 = self.gdo2(self.gact2(self.gcn2(x1, edge_index)) )\n",
        "        x1 = self.gdo21(self.gact21(self.gcn21(x1, edge_index)) )\n",
        "        x1 = self.gdo32(self.gact32(self.gcn32(x1, edge_index)) )\n",
        "        \n",
        "        x2 = self.edo1(self.eact1(self.ecn1(node_x, edge_index)) )\n",
        "        x3 = torch.cat((x1,x2), 1)\n",
        "        x3 = global_add_pool(x3, data.batch)\n",
        "        x3 = self.dropout1(self.act1(self.fc1( x3 )))\n",
        "        x3 = self.dropout2(self.act2(self.fc2( x3 )))\n",
        "        x3 = self.out2(x3)\n",
        "        return x3"
      ]
    },
    {
      "cell_type": "markdown",
      "metadata": {
        "id": "77pFTYTdaKvl"
      },
      "source": [
        "### GNN_Utils"
      ]
    },
    {
      "cell_type": "code",
      "execution_count": 16,
      "metadata": {
        "id": "HEN2lR_KaXO9"
      },
      "outputs": [],
      "source": [
        "import numpy as np\n",
        "from rdkit import Chem\n",
        "import multiprocessing\n",
        "from torch_geometric.data import Data\n",
        "import torch.nn as nn\n",
        "import matplotlib.pyplot as plt\n",
        "from rdkit import Chem\n",
        "from rdkit.Chem import AllChem\n",
        "import numpy as np\n",
        "import torch\n",
        "import torch.nn.functional as F\n",
        "from torch.nn import Linear\n",
        "from torch.nn import BatchNorm1d\n",
        "from torch.utils.data import Dataset\n",
        "from torch_geometric.nn import GCNConv\n",
        "from torch_geometric.nn import ChebConv\n",
        "from torch_geometric.nn import global_add_pool, global_mean_pool\n",
        "from torch_geometric.data import DataLoader\n",
        "#from torch_scatter import scatter_mean\n",
        "import pandas as pd\n",
        "from sklearn.model_selection import train_test_split\n",
        "from random import randrange\n",
        "import itertools\n",
        "from torch_geometric.nn import EdgeConv\n",
        "import random\n",
        "import os\n",
        "import time\n",
        "from tqdm import tqdm\n",
        "from sklearn.metrics import mean_squared_error\n",
        "from sklearn.metrics import mean_absolute_error\n",
        "from sklearn.metrics import r2_score\n",
        "from scipy.stats import spearmanr\n",
        "\n",
        "import pickle, gzip\n",
        "import config\n",
        "\n",
        "class gn_ut:\n",
        "  def set_seed(seed):\n",
        "    torch.manual_seed(seed)\n",
        "    torch.cuda.manual_seed_all(seed)\n",
        "    torch.backends.cudnn.deterministic = True\n",
        "    torch.backends.cudnn.benchmark = False\n",
        "    np.random.seed(seed)\n",
        "    random.seed(seed)\n",
        "    os.environ['PYTHONHASHSEED'] = str(seed)\n",
        "\n",
        "  def one_of_k_encoding(self,x, allowable_set):\n",
        "    if x not in allowable_set:\n",
        "        raise Exception(\"input {0} not in allowable set{1}:\".format(x, allowable_set))\n",
        "    return list(map(lambda s: x == s, allowable_set))\n",
        " \n",
        "  def one_of_k_encoding_unk(self,x, allowable_set):\n",
        "    \"\"\"Maps inputs not in the allowable set to the last element.\"\"\"\n",
        "    if x not in allowable_set:\n",
        "        x = allowable_set[-1]\n",
        "    return list(map(lambda s: x == s, allowable_set))\n",
        " \n",
        "  def get_intervals(self,l):\n",
        "    \"\"\"For list of lists, gets the cumulative products of the lengths\"\"\"\n",
        "    intervals = len(l) * [0]\n",
        "    # Initalize with 1\n",
        "    intervals[0] = 1\n",
        "    for k in range(1, len(l)):\n",
        "        intervals[k] = (len(l[k]) + 1) * intervals[k - 1]\n",
        "    return intervals\n",
        " \n",
        "  def safe_index(self,l, e):\n",
        "    \"\"\"Gets the index of e in l, providing an index of len(l) if not found\"\"\"\n",
        "    try:\n",
        "        return l.index(e)\n",
        "    except:\n",
        "        return len(l)\n",
        "\n",
        "  def best_fit_slope_and_intercept(self,xs,ys):\n",
        "    m = (((np.mean(xs)*np.mean(ys)) - np.mean(xs*ys)) /\n",
        "         ((np.mean(xs)*np.mean(xs)) - np.mean(xs*xs)))\n",
        "    \n",
        "    b = np.mean(ys) - m*np.mean(xs)\n",
        "    \n",
        "    return m, b\n",
        "\n",
        "  possible_atom_list = [\n",
        "    'C', 'N', 'O', 'S', 'F', 'P', 'Cl', 'Mg', 'Na', 'Br', 'Fe', 'Ca', 'Cu',\n",
        "    'Mc', 'Pd', 'Pb', 'K', 'I', 'Al', 'Ni', 'Mn'\n",
        "  ]\n",
        "  possible_numH_list = [0, 1, 2, 3, 4]\n",
        "  possible_valence_list = [0, 1, 2, 3, 4, 5, 6]\n",
        "  possible_formal_charge_list = [-3, -2, -1, 0, 1, 2, 3]\n",
        "  possible_hybridization_list = [\n",
        "    Chem.rdchem.HybridizationType.SP, Chem.rdchem.HybridizationType.SP2,\n",
        "    Chem.rdchem.HybridizationType.SP3, Chem.rdchem.HybridizationType.SP3D,\n",
        "    Chem.rdchem.HybridizationType.SP3D2\n",
        "  ]\n",
        "  possible_number_radical_e_list = [0, 1, 2]\n",
        "  possible_chirality_list = ['R', 'S']\n",
        " \n",
        "  reference_lists = [\n",
        "    possible_atom_list, possible_numH_list, possible_valence_list,\n",
        "    possible_formal_charge_list, possible_number_radical_e_list,\n",
        "    possible_hybridization_list, possible_chirality_list\n",
        "  ]\n",
        " \n",
        "  #intervals = get_intervals(reference_lists)\n",
        "  intervals = len(reference_lists) * [0]\n",
        "    # Initalize with 1\n",
        "  intervals[0] = 1\n",
        "  for k in range(1, len(reference_lists)):\n",
        "      intervals[k] = (len(reference_lists[k]) + 1) * intervals[k - 1]\n",
        "\n",
        "\n",
        "  def get_feature_list(self,atom):\n",
        "    features = 6 * [0]\n",
        "    features[0] = gnn_utils.safe_index(gnn_utils.possible_atom_list, atom.GetSymbol())\n",
        "    features[1] = gnn_utils.safe_index(gnn_utils.possible_numH_list, atom.GetTotalNumHs())\n",
        "    features[2] = gnn_utils.safe_index(gnn_utils.possible_valence_list, atom.GetImplicitValence())\n",
        "    features[3] = gnn_utils.safe_index(gnn_utils.possible_formal_charge_list, atom.GetFormalCharge())\n",
        "    features[4] = gnn_utils.safe_index(gnn_utils.possible_number_radical_e_list,\n",
        "                           atom.GetNumRadicalElectrons())\n",
        "    features[5] = gnn_utils.safe_index(gnn_utils.possible_hybridization_list, atom.GetHybridization())\n",
        "    return features\n",
        " \n",
        "  def features_to_id(self,features, intervals):\n",
        "    \"\"\"Convert list of features into index using spacings provided in intervals\"\"\"\n",
        "    id = 0\n",
        "    for k in range(len(intervals)):\n",
        "        id += features[k] * intervals[k]\n",
        "\n",
        "        # Allow 0 index to correspond to null molecule 1\n",
        "        id = id + 1\n",
        "    return id\n",
        "\n",
        "  def id_to_features(self,id, intervals):\n",
        "    features = 6 * [0]\n",
        "\n",
        "    # Correct for null\n",
        "    id -= 1\n",
        "\n",
        "    for k in range(0, 6 - 1):\n",
        "        # print(6-k-1, id)\n",
        "        features[6 - k - 1] = id // intervals[6 - k - 1]\n",
        "        id -= features[6 - k - 1] * intervals[6 - k - 1]\n",
        "        # Correct for last one\n",
        "        features[0] = id\n",
        "    return features\n",
        "\n",
        "  def atom_to_id(self,atom):\n",
        "    \"\"\"Return a unique id corresponding to the atom type\"\"\"\n",
        "    features = gnn_utils.get_feature_list(atom)\n",
        "    return gnn_utils.features_to_id(features, gnn_utils.intervals)\n",
        "\n",
        "  def atom_features(self,atom, bool_id_feat=False, explicit_H=False, use_chirality=False):\n",
        "    if bool_id_feat:\n",
        "        return np.array([gnn_utils.atom_to_id(atom)])\n",
        "    else:\n",
        "        from rdkit import Chem\n",
        "\n",
        "        results = gnn_utils.one_of_k_encoding_unk(atom.GetSymbol(),['Ag','Al','As','B','Br','C','Ca','Cd','Cl','Cu','F',\n",
        "                                                              'Fe','Ge','H','Hg','I','K','Li','Mg','Mn','N','Na',\n",
        "                                                              'O','P','Pb','Pt','S','Se','Si','Sn','Sr','Tl','Zn',\n",
        "                                                              'Unknown'])\\\n",
        "        + gnn_utils.one_of_k_encoding(atom.GetDegree(),[0, 1, 2, 3, 4, 5, 6, 7, 8, 9, 10]) + \\\n",
        "              gnn_utils.one_of_k_encoding_unk(atom.GetImplicitValence(), [0, 1, 2, 3, 4, 5, 6]) + \\\n",
        "              [atom.GetFormalCharge(), atom.GetNumRadicalElectrons()] + \\\n",
        "                gnn_utils.one_of_k_encoding_unk(atom.GetHybridization(), [\n",
        "                Chem.rdchem.HybridizationType.SP, Chem.rdchem.HybridizationType.SP2,\n",
        "                Chem.rdchem.HybridizationType.SP3, Chem.rdchem.HybridizationType.\n",
        "                                    SP3D, Chem.rdchem.HybridizationType.SP3D2\n",
        "              ]) + [atom.GetIsAromatic()] \n",
        "\n",
        "        if not explicit_H:\n",
        "            results = results + gnn_utils.one_of_k_encoding_unk(atom.GetTotalNumHs(),\n",
        "                                                [0, 1, 2, 3, 4])\n",
        "        if use_chirality:\n",
        "            try:\n",
        "                results = results + gnn_utils.one_of_k_encoding_unk(atom.GetProp('_CIPCode'),\n",
        "                                                          ['R', 'S']) + [atom.HasProp('_ChiralityPossible')]\n",
        "            except:\n",
        "                results = results + [False, False] + [atom.HasProp('_ChiralityPossible')]\n",
        " \n",
        "        return np.array(results)\n",
        "\n",
        "  def bond_features(self,bond, use_chirality=False):\n",
        "    from rdkit import Chem\n",
        "    bt = bond.GetBondType()\n",
        "    bond_feats = [\n",
        "      bt == Chem.rdchem.BondType.SINGLE, bt == Chem.rdchem.BondType.DOUBLE,\n",
        "      bt == Chem.rdchem.BondType.TRIPLE, bt == Chem.rdchem.BondType.AROMATIC,\n",
        "      bond.GetIsConjugated(),\n",
        "      bond.IsInRing()]\n",
        "    \n",
        "    if use_chirality:\n",
        "        bond_feats = bond_feats + gnn_utils.one_of_k_encoding_unk(str(bond.GetStereo()),\n",
        "        [\"STEREONONE\", \"STEREOANY\", \"STEREOZ\", \"STEREOE\"])\n",
        "    return np.array(bond_feats)\n",
        "\n",
        "\n",
        "  def get_bond_pair(self,mol):\n",
        "    bonds = mol.GetBonds()\n",
        "    res = [[],[]]\n",
        "    for bond in bonds:\n",
        "        res[0] += [bond.GetBeginAtomIdx(), bond.GetEndAtomIdx()]\n",
        "        res[1] += [bond.GetEndAtomIdx(), bond.GetBeginAtomIdx()]\n",
        "    return res\n",
        "\n",
        "\n",
        "\n",
        "  def creatData(self,smiles, y, idx):   \n",
        "    mol = Chem.MolFromSmiles(smiles)\n",
        "    atoms = mol.GetAtoms()\n",
        "    bonds = mol.GetBonds()\n",
        "    node_f= [gnn_utils.atom_features(atom) for atom in atoms]\n",
        "    edge_index = gnn_utils.get_bond_pair(mol)\n",
        "\n",
        "    edge_attr=[]\n",
        "    for bond in bonds:\n",
        "        edge_attr.append(gnn_utils.bond_features(bond, use_chirality=False))\n",
        "        edge_attr.append(gnn_utils.bond_features(bond, use_chirality=False))\n",
        "    \n",
        "    data = Data(x=torch.tensor(node_f, dtype=torch.float),\n",
        "              edge_index=torch.tensor(edge_index, dtype=torch.long),\n",
        "              edge_attr=torch.tensor(edge_attr,dtype=torch.float),\n",
        "                y=torch.tensor([y],dtype=torch.float),\n",
        "                idx = torch.tensor([idx],dtype=torch.long),\n",
        "\n",
        "              )\n",
        "    return data\n",
        "\n",
        "  def create_data_list(self,dfx):\n",
        "    data_list = []\n",
        "    for i in tqdm(range(dfx.shape[0])):\n",
        "        smiles = dfx.smiles.values[i]\n",
        "        y  = dfx.log_sol.values[i]\n",
        "        data_list.append(gnn_utils.creatData(smiles=smiles, y=y, idx=i))\n",
        "    return data_list\n",
        "\n",
        "\n",
        "\n",
        "  def create_data(self):\n",
        "    \n",
        "    train = pd.read_csv(config.data_dir+\"train.csv\")\n",
        "    val = pd.read_csv(config.data_dir+\"val.csv\")\n",
        "    test = pd.read_csv(config.data_dir+\"test.csv\")\n",
        "\n",
        "    train.reset_index(drop=True, inplace=True)\n",
        "    val.reset_index(drop=True, inplace=True)\n",
        "    test.reset_index(drop=True, inplace=True)\n",
        "\n",
        "    print(\"checking for duplicates\")\n",
        "    if len(list(set(train.smiles.values).intersection(set(test.smiles.values)) )) == 0:\n",
        "        print(\"no duplicates in train and test\")\n",
        "\n",
        "    if len(list(set(train.smiles.values).intersection(set(val.smiles.values)) )) == 0:\n",
        "        print(\"no duplicates in train and valid\")\n",
        "\n",
        "    if len(list( set(test.smiles.values).intersection(set(val.smiles.values)) )) == 0:\n",
        "        print(\"no duplicates in test and valid\")\n",
        "    print(\" \")\n",
        "\n",
        "    print(f\"train set size = {train.shape}, unique smiles in the train set = {len(set(train.smiles.values))}\")\n",
        "    print(f\"train set size = {val.shape}, unique smiles in the valid set = {len(set(val.smiles.values))}\")\n",
        "    print(f\"train set size = {test.shape}, unique smiles in the test set = {len(set(test.smiles.values))}\")\n",
        "    print(\" \")\n",
        "    \n",
        "    print(\"creating train data\")\n",
        "    train_X = gnn_utils.create_data_list(train)\n",
        "    print(\"creating valid data\")\n",
        "    val_X = gnn_utils.create_data_list(val)\n",
        "    print(\"creating test data\")\n",
        "    test_X = gnn_utils.create_data_list(test)\n",
        "\n",
        "    with gzip.open(config.gnn_data_dir+\"train.pkl.gz\", \"wb\") as f:\n",
        "        pickle.dump(train_X, f, protocol=4)\n",
        "    with gzip.open(config.gnn_data_dir+\"val.pkl.gz\", \"wb\") as f:\n",
        "        pickle.dump(val_X, f, protocol=4)\n",
        "    with gzip.open(config.gnn_data_dir+\"test.pkl.gz\", \"wb\") as f:\n",
        "        pickle.dump(test_X, f, protocol=4)\n",
        "        \n",
        "        \n",
        "        \n",
        "\n",
        "  class EarlyStopping:\n",
        "    \"\"\"Early stops the training if validation loss doesn't improve after a given patience.\"\"\"\n",
        "    def __init__(self, patience=7, verbose=False, delta=0, chkpoint_name = 'gnn_best.pt' ):\n",
        "        \"\"\"\n",
        "        Args:\n",
        "            patience (int): How long to wait after last time validation loss improved.\n",
        "                            Default: 7\n",
        "            verbose (bool): If True, prints a message for each validation loss improvement. \n",
        "                            Default: False\n",
        "            delta (float): Minimum change in the monitored quantity to qualify as an improvement.\n",
        "                            Default: 0\n",
        "        \"\"\"\n",
        "        self.patience = patience\n",
        "        self.verbose = verbose\n",
        "        self.counter = 0\n",
        "        self.best_score = None\n",
        "        self.early_stop = False\n",
        "        self.val_loss_min = np.Inf\n",
        "        self.delta = delta\n",
        "        self.chkpoint_name = chkpoint_name\n",
        "\n",
        "    def __call__(self, val_loss, model):\n",
        "\n",
        "        score = -val_loss\n",
        "\n",
        "        if self.best_score is None:\n",
        "            self.best_score = score\n",
        "            self.save_checkpoint(val_loss, model)\n",
        "        elif score < self.best_score + self.delta:\n",
        "            self.counter += 1\n",
        "            print(f'EarlyStopping counter: {self.counter} out of {self.patience}')\n",
        "            if self.counter >= self.patience:\n",
        "                self.early_stop = True\n",
        "        else:\n",
        "            self.best_score = score\n",
        "            self.save_checkpoint(val_loss, model)\n",
        "            self.counter = 0\n",
        "\n",
        "    def save_checkpoint(self, val_loss, model):\n",
        "        '''Saves model when validation loss decrease.'''\n",
        "        if self.verbose:\n",
        "            print(f'Validation loss decreased ({self.val_loss_min:.6f} --> {val_loss:.6f}).  Saving model ...')\n",
        "        torch.save(model.state_dict(), self.chkpoint_name)\n",
        "        self.val_loss_min = val_loss\n",
        "\n",
        "        \n",
        "  def test_fn(self,loader, model, device):\n",
        "    model.eval()\n",
        "    with torch.no_grad():\n",
        "        target, predicted = [], []\n",
        "        for data in loader:\n",
        "            data = data.to(device)\n",
        "            output = model(data)\n",
        "            pred = output\n",
        "\n",
        "            target += list(data.y.cpu().numpy().ravel() )\n",
        "            predicted += list(pred.cpu().numpy().ravel() )\n",
        "\n",
        "    return mean_squared_error(y_true=target, y_pred=predicted)\n",
        "\n",
        "\n",
        "  def test_fn_plotting(self,loader, model, device):\n",
        "    \n",
        "    model.eval()\n",
        "    \n",
        "    with torch.no_grad():\n",
        "        target, predicted = [], []\n",
        "        for data in loader:\n",
        "            data = data.to(device)\n",
        "            output = model(data)\n",
        "            pred = output\n",
        "\n",
        "            target += list(data.y.cpu().numpy().ravel() )\n",
        "            predicted += list(pred.cpu().numpy().ravel() )\n",
        "\n",
        "    return np.array(target), np.array(predicted)\n",
        "\n",
        "\n",
        "  def get_results(self,db_name, loader, model, device):\n",
        "    \n",
        "    print(f\"{db_name} results\")\n",
        "    test_t, test_p = gnn_utils.test_fn_plotting(loader, model, device)\n",
        "\n",
        "    r2 = r2_score(y_pred = test_p, y_true = test_t)\n",
        "    rmse = mean_squared_error(y_pred = test_p, y_true = test_t)**.5\n",
        "    sp = spearmanr(test_p, test_t)[0]\n",
        "    mae = mean_absolute_error(y_pred=test_p, y_true=test_t)\n",
        "\n",
        "    print(\"r2: {0:.4f}\".format(r2) )\n",
        "    print(\"rmse: {0:.4f}\".format(rmse) )\n",
        "    print(\"sp: {0:.4f}\".format(sp) )\n",
        "    print(\"mae: {0:.4f}\".format(mae) )\n",
        "\n",
        "    plt.figure()\n",
        "    plt.plot( test_t, test_p, 'o')\n",
        "    plt.xlabel(\"True (logS)\", fontsize=15, fontweight='bold');\n",
        "    plt.ylabel(\"Predicted (logS)\", fontsize=15, fontweight='bold');\n",
        "    plt.show()\n"
      ]
    },
    {
      "cell_type": "markdown",
      "metadata": {
        "id": "ft_8gBDRaY6y"
      },
      "source": [
        "## GNN_Train"
      ]
    },
    {
      "cell_type": "code",
      "execution_count": 20,
      "metadata": {
        "colab": {
          "base_uri": "https://localhost:8080/"
        },
        "id": "vRQ3APSKaeym",
        "outputId": "31076718-27ad-4789-d7a1-5f6946322873"
      },
      "outputs": [
        {
          "output_type": "stream",
          "name": "stdout",
          "text": [
            "checking for duplicates\n",
            "no duplicates in train and test\n",
            "no duplicates in train and valid\n",
            "no duplicates in test and valid\n",
            " \n",
            "train set size = (9941, 1105), unique smiles in the train set = 9941\n",
            "train set size = (877, 1105), unique smiles in the valid set = 877\n",
            "train set size = (878, 1105), unique smiles in the test set = 878\n",
            " \n",
            "creating train data\n"
          ]
        },
        {
          "output_type": "stream",
          "name": "stderr",
          "text": [
            "100%|██████████| 9941/9941 [00:22<00:00, 448.83it/s]\n"
          ]
        },
        {
          "output_type": "stream",
          "name": "stdout",
          "text": [
            "creating valid data\n"
          ]
        },
        {
          "output_type": "stream",
          "name": "stderr",
          "text": [
            "100%|██████████| 877/877 [00:01<00:00, 555.45it/s]\n"
          ]
        },
        {
          "output_type": "stream",
          "name": "stdout",
          "text": [
            "creating test data\n"
          ]
        },
        {
          "output_type": "stream",
          "name": "stderr",
          "text": [
            "100%|██████████| 878/878 [00:01<00:00, 545.12it/s]\n",
            "/usr/local/lib/python3.10/dist-packages/torch_geometric/deprecation.py:22: UserWarning: 'data.DataLoader' is deprecated, use 'loader.DataLoader' instead\n",
            "  warnings.warn(out)\n",
            "/usr/local/lib/python3.10/dist-packages/torch_geometric/utils/scatter.py:93: UserWarning: The usage of `scatter(reduce='max')` can be accelerated via the 'torch-scatter' package, but it was not found\n",
            "  warnings.warn(f\"The usage of `scatter(reduce='{reduce}')` \"\n"
          ]
        },
        {
          "output_type": "stream",
          "name": "stdout",
          "text": [
            "Validation loss decreased (inf --> 2.138849).  Saving model ...\n",
            "Epoch: 0, Train_rmse: 2.04, Val_rmse: 2.14\n"
          ]
        },
        {
          "output_type": "stream",
          "name": "stderr",
          "text": [
            "/usr/local/lib/python3.10/dist-packages/torch_geometric/utils/scatter.py:93: UserWarning: The usage of `scatter(reduce='max')` can be accelerated via the 'torch-scatter' package, but it was not found\n",
            "  warnings.warn(f\"The usage of `scatter(reduce='{reduce}')` \"\n"
          ]
        },
        {
          "output_type": "stream",
          "name": "stdout",
          "text": [
            "Validation loss decreased (2.138849 --> 1.400632).  Saving model ...\n",
            "Epoch: 1, Train_rmse: 1.25, Val_rmse: 1.4\n"
          ]
        },
        {
          "output_type": "stream",
          "name": "stderr",
          "text": [
            "/usr/local/lib/python3.10/dist-packages/torch_geometric/utils/scatter.py:93: UserWarning: The usage of `scatter(reduce='max')` can be accelerated via the 'torch-scatter' package, but it was not found\n",
            "  warnings.warn(f\"The usage of `scatter(reduce='{reduce}')` \"\n"
          ]
        },
        {
          "output_type": "stream",
          "name": "stdout",
          "text": [
            "EarlyStopping counter: 1 out of 25\n",
            "Epoch: 2, Train_rmse: 1.36, Val_rmse: 1.52\n"
          ]
        },
        {
          "output_type": "stream",
          "name": "stderr",
          "text": [
            "/usr/local/lib/python3.10/dist-packages/torch_geometric/utils/scatter.py:93: UserWarning: The usage of `scatter(reduce='max')` can be accelerated via the 'torch-scatter' package, but it was not found\n",
            "  warnings.warn(f\"The usage of `scatter(reduce='{reduce}')` \"\n"
          ]
        },
        {
          "output_type": "stream",
          "name": "stdout",
          "text": [
            "Validation loss decreased (1.400632 --> 1.390022).  Saving model ...\n",
            "Epoch: 3, Train_rmse: 1.32, Val_rmse: 1.39\n"
          ]
        },
        {
          "output_type": "stream",
          "name": "stderr",
          "text": [
            "/usr/local/lib/python3.10/dist-packages/torch_geometric/utils/scatter.py:93: UserWarning: The usage of `scatter(reduce='max')` can be accelerated via the 'torch-scatter' package, but it was not found\n",
            "  warnings.warn(f\"The usage of `scatter(reduce='{reduce}')` \"\n"
          ]
        },
        {
          "output_type": "stream",
          "name": "stdout",
          "text": [
            "Validation loss decreased (1.390022 --> 1.196305).  Saving model ...\n",
            "Epoch: 4, Train_rmse: 1.06, Val_rmse: 1.2\n"
          ]
        },
        {
          "output_type": "stream",
          "name": "stderr",
          "text": [
            "/usr/local/lib/python3.10/dist-packages/torch_geometric/utils/scatter.py:93: UserWarning: The usage of `scatter(reduce='max')` can be accelerated via the 'torch-scatter' package, but it was not found\n",
            "  warnings.warn(f\"The usage of `scatter(reduce='{reduce}')` \"\n"
          ]
        },
        {
          "output_type": "stream",
          "name": "stdout",
          "text": [
            "Validation loss decreased (1.196305 --> 1.156850).  Saving model ...\n",
            "Epoch: 5, Train_rmse: 1.01, Val_rmse: 1.16\n"
          ]
        },
        {
          "output_type": "stream",
          "name": "stderr",
          "text": [
            "/usr/local/lib/python3.10/dist-packages/torch_geometric/utils/scatter.py:93: UserWarning: The usage of `scatter(reduce='max')` can be accelerated via the 'torch-scatter' package, but it was not found\n",
            "  warnings.warn(f\"The usage of `scatter(reduce='{reduce}')` \"\n"
          ]
        },
        {
          "output_type": "stream",
          "name": "stdout",
          "text": [
            "Validation loss decreased (1.156850 --> 1.122199).  Saving model ...\n",
            "Epoch: 6, Train_rmse: 0.988, Val_rmse: 1.12\n"
          ]
        },
        {
          "output_type": "stream",
          "name": "stderr",
          "text": [
            "/usr/local/lib/python3.10/dist-packages/torch_geometric/utils/scatter.py:93: UserWarning: The usage of `scatter(reduce='max')` can be accelerated via the 'torch-scatter' package, but it was not found\n",
            "  warnings.warn(f\"The usage of `scatter(reduce='{reduce}')` \"\n"
          ]
        },
        {
          "output_type": "stream",
          "name": "stdout",
          "text": [
            "EarlyStopping counter: 1 out of 25\n",
            "Epoch: 7, Train_rmse: 1.01, Val_rmse: 1.19\n"
          ]
        },
        {
          "output_type": "stream",
          "name": "stderr",
          "text": [
            "/usr/local/lib/python3.10/dist-packages/torch_geometric/utils/scatter.py:93: UserWarning: The usage of `scatter(reduce='max')` can be accelerated via the 'torch-scatter' package, but it was not found\n",
            "  warnings.warn(f\"The usage of `scatter(reduce='{reduce}')` \"\n"
          ]
        },
        {
          "output_type": "stream",
          "name": "stdout",
          "text": [
            "EarlyStopping counter: 2 out of 25\n",
            "Epoch: 8, Train_rmse: 1.41, Val_rmse: 1.54\n"
          ]
        },
        {
          "output_type": "stream",
          "name": "stderr",
          "text": [
            "/usr/local/lib/python3.10/dist-packages/torch_geometric/utils/scatter.py:93: UserWarning: The usage of `scatter(reduce='max')` can be accelerated via the 'torch-scatter' package, but it was not found\n",
            "  warnings.warn(f\"The usage of `scatter(reduce='{reduce}')` \"\n"
          ]
        },
        {
          "output_type": "stream",
          "name": "stdout",
          "text": [
            "EarlyStopping counter: 3 out of 25\n",
            "Epoch: 9, Train_rmse: 0.997, Val_rmse: 1.15\n"
          ]
        },
        {
          "output_type": "stream",
          "name": "stderr",
          "text": [
            "/usr/local/lib/python3.10/dist-packages/torch_geometric/utils/scatter.py:93: UserWarning: The usage of `scatter(reduce='max')` can be accelerated via the 'torch-scatter' package, but it was not found\n",
            "  warnings.warn(f\"The usage of `scatter(reduce='{reduce}')` \"\n"
          ]
        },
        {
          "output_type": "stream",
          "name": "stdout",
          "text": [
            "EarlyStopping counter: 4 out of 25\n",
            "Epoch: 10, Train_rmse: 0.976, Val_rmse: 1.14\n"
          ]
        },
        {
          "output_type": "stream",
          "name": "stderr",
          "text": [
            "/usr/local/lib/python3.10/dist-packages/torch_geometric/utils/scatter.py:93: UserWarning: The usage of `scatter(reduce='max')` can be accelerated via the 'torch-scatter' package, but it was not found\n",
            "  warnings.warn(f\"The usage of `scatter(reduce='{reduce}')` \"\n"
          ]
        },
        {
          "output_type": "stream",
          "name": "stdout",
          "text": [
            "Validation loss decreased (1.122199 --> 1.100967).  Saving model ...\n",
            "Epoch: 11, Train_rmse: 0.965, Val_rmse: 1.1\n"
          ]
        },
        {
          "output_type": "stream",
          "name": "stderr",
          "text": [
            "/usr/local/lib/python3.10/dist-packages/torch_geometric/utils/scatter.py:93: UserWarning: The usage of `scatter(reduce='max')` can be accelerated via the 'torch-scatter' package, but it was not found\n",
            "  warnings.warn(f\"The usage of `scatter(reduce='{reduce}')` \"\n"
          ]
        },
        {
          "output_type": "stream",
          "name": "stdout",
          "text": [
            "EarlyStopping counter: 1 out of 25\n",
            "Epoch: 12, Train_rmse: 1.08, Val_rmse: 1.24\n"
          ]
        },
        {
          "output_type": "stream",
          "name": "stderr",
          "text": [
            "/usr/local/lib/python3.10/dist-packages/torch_geometric/utils/scatter.py:93: UserWarning: The usage of `scatter(reduce='max')` can be accelerated via the 'torch-scatter' package, but it was not found\n",
            "  warnings.warn(f\"The usage of `scatter(reduce='{reduce}')` \"\n"
          ]
        },
        {
          "output_type": "stream",
          "name": "stdout",
          "text": [
            "Validation loss decreased (1.100967 --> 1.086440).  Saving model ...\n",
            "Epoch: 13, Train_rmse: 0.922, Val_rmse: 1.09\n"
          ]
        },
        {
          "output_type": "stream",
          "name": "stderr",
          "text": [
            "/usr/local/lib/python3.10/dist-packages/torch_geometric/utils/scatter.py:93: UserWarning: The usage of `scatter(reduce='max')` can be accelerated via the 'torch-scatter' package, but it was not found\n",
            "  warnings.warn(f\"The usage of `scatter(reduce='{reduce}')` \"\n"
          ]
        },
        {
          "output_type": "stream",
          "name": "stdout",
          "text": [
            "Validation loss decreased (1.086440 --> 1.033000).  Saving model ...\n",
            "Epoch: 14, Train_rmse: 0.929, Val_rmse: 1.03\n"
          ]
        },
        {
          "output_type": "stream",
          "name": "stderr",
          "text": [
            "/usr/local/lib/python3.10/dist-packages/torch_geometric/utils/scatter.py:93: UserWarning: The usage of `scatter(reduce='max')` can be accelerated via the 'torch-scatter' package, but it was not found\n",
            "  warnings.warn(f\"The usage of `scatter(reduce='{reduce}')` \"\n"
          ]
        },
        {
          "output_type": "stream",
          "name": "stdout",
          "text": [
            "EarlyStopping counter: 1 out of 25\n",
            "Epoch: 15, Train_rmse: 1.06, Val_rmse: 1.19\n"
          ]
        },
        {
          "output_type": "stream",
          "name": "stderr",
          "text": [
            "/usr/local/lib/python3.10/dist-packages/torch_geometric/utils/scatter.py:93: UserWarning: The usage of `scatter(reduce='max')` can be accelerated via the 'torch-scatter' package, but it was not found\n",
            "  warnings.warn(f\"The usage of `scatter(reduce='{reduce}')` \"\n"
          ]
        },
        {
          "output_type": "stream",
          "name": "stdout",
          "text": [
            "EarlyStopping counter: 2 out of 25\n",
            "Epoch: 16, Train_rmse: 0.914, Val_rmse: 1.11\n"
          ]
        },
        {
          "output_type": "stream",
          "name": "stderr",
          "text": [
            "/usr/local/lib/python3.10/dist-packages/torch_geometric/utils/scatter.py:93: UserWarning: The usage of `scatter(reduce='max')` can be accelerated via the 'torch-scatter' package, but it was not found\n",
            "  warnings.warn(f\"The usage of `scatter(reduce='{reduce}')` \"\n"
          ]
        },
        {
          "output_type": "stream",
          "name": "stdout",
          "text": [
            "EarlyStopping counter: 3 out of 25\n",
            "Epoch: 17, Train_rmse: 0.914, Val_rmse: 1.07\n"
          ]
        },
        {
          "output_type": "stream",
          "name": "stderr",
          "text": [
            "/usr/local/lib/python3.10/dist-packages/torch_geometric/utils/scatter.py:93: UserWarning: The usage of `scatter(reduce='max')` can be accelerated via the 'torch-scatter' package, but it was not found\n",
            "  warnings.warn(f\"The usage of `scatter(reduce='{reduce}')` \"\n"
          ]
        },
        {
          "output_type": "stream",
          "name": "stdout",
          "text": [
            "EarlyStopping counter: 4 out of 25\n",
            "Epoch: 18, Train_rmse: 0.983, Val_rmse: 1.14\n"
          ]
        },
        {
          "output_type": "stream",
          "name": "stderr",
          "text": [
            "/usr/local/lib/python3.10/dist-packages/torch_geometric/utils/scatter.py:93: UserWarning: The usage of `scatter(reduce='max')` can be accelerated via the 'torch-scatter' package, but it was not found\n",
            "  warnings.warn(f\"The usage of `scatter(reduce='{reduce}')` \"\n"
          ]
        },
        {
          "output_type": "stream",
          "name": "stdout",
          "text": [
            "EarlyStopping counter: 5 out of 25\n",
            "Epoch: 19, Train_rmse: 0.903, Val_rmse: 1.07\n"
          ]
        },
        {
          "output_type": "stream",
          "name": "stderr",
          "text": [
            "/usr/local/lib/python3.10/dist-packages/torch_geometric/utils/scatter.py:93: UserWarning: The usage of `scatter(reduce='max')` can be accelerated via the 'torch-scatter' package, but it was not found\n",
            "  warnings.warn(f\"The usage of `scatter(reduce='{reduce}')` \"\n"
          ]
        },
        {
          "output_type": "stream",
          "name": "stdout",
          "text": [
            "Validation loss decreased (1.033000 --> 1.023526).  Saving model ...\n",
            "Epoch: 20, Train_rmse: 0.877, Val_rmse: 1.02\n"
          ]
        },
        {
          "output_type": "stream",
          "name": "stderr",
          "text": [
            "/usr/local/lib/python3.10/dist-packages/torch_geometric/utils/scatter.py:93: UserWarning: The usage of `scatter(reduce='max')` can be accelerated via the 'torch-scatter' package, but it was not found\n",
            "  warnings.warn(f\"The usage of `scatter(reduce='{reduce}')` \"\n"
          ]
        },
        {
          "output_type": "stream",
          "name": "stdout",
          "text": [
            "EarlyStopping counter: 1 out of 25\n",
            "Epoch: 21, Train_rmse: 0.873, Val_rmse: 1.06\n"
          ]
        },
        {
          "output_type": "stream",
          "name": "stderr",
          "text": [
            "/usr/local/lib/python3.10/dist-packages/torch_geometric/utils/scatter.py:93: UserWarning: The usage of `scatter(reduce='max')` can be accelerated via the 'torch-scatter' package, but it was not found\n",
            "  warnings.warn(f\"The usage of `scatter(reduce='{reduce}')` \"\n"
          ]
        },
        {
          "output_type": "stream",
          "name": "stdout",
          "text": [
            "EarlyStopping counter: 2 out of 25\n",
            "Epoch: 22, Train_rmse: 0.872, Val_rmse: 1.05\n"
          ]
        },
        {
          "output_type": "stream",
          "name": "stderr",
          "text": [
            "/usr/local/lib/python3.10/dist-packages/torch_geometric/utils/scatter.py:93: UserWarning: The usage of `scatter(reduce='max')` can be accelerated via the 'torch-scatter' package, but it was not found\n",
            "  warnings.warn(f\"The usage of `scatter(reduce='{reduce}')` \"\n"
          ]
        },
        {
          "output_type": "stream",
          "name": "stdout",
          "text": [
            "EarlyStopping counter: 3 out of 25\n",
            "Epoch: 23, Train_rmse: 0.904, Val_rmse: 1.08\n"
          ]
        },
        {
          "output_type": "stream",
          "name": "stderr",
          "text": [
            "/usr/local/lib/python3.10/dist-packages/torch_geometric/utils/scatter.py:93: UserWarning: The usage of `scatter(reduce='max')` can be accelerated via the 'torch-scatter' package, but it was not found\n",
            "  warnings.warn(f\"The usage of `scatter(reduce='{reduce}')` \"\n"
          ]
        },
        {
          "output_type": "stream",
          "name": "stdout",
          "text": [
            "Validation loss decreased (1.023526 --> 1.019146).  Saving model ...\n",
            "Epoch: 24, Train_rmse: 0.859, Val_rmse: 1.02\n"
          ]
        },
        {
          "output_type": "stream",
          "name": "stderr",
          "text": [
            "/usr/local/lib/python3.10/dist-packages/torch_geometric/utils/scatter.py:93: UserWarning: The usage of `scatter(reduce='max')` can be accelerated via the 'torch-scatter' package, but it was not found\n",
            "  warnings.warn(f\"The usage of `scatter(reduce='{reduce}')` \"\n"
          ]
        },
        {
          "output_type": "stream",
          "name": "stdout",
          "text": [
            "EarlyStopping counter: 1 out of 25\n",
            "Epoch: 25, Train_rmse: 1.13, Val_rmse: 1.33\n"
          ]
        },
        {
          "output_type": "stream",
          "name": "stderr",
          "text": [
            "/usr/local/lib/python3.10/dist-packages/torch_geometric/utils/scatter.py:93: UserWarning: The usage of `scatter(reduce='max')` can be accelerated via the 'torch-scatter' package, but it was not found\n",
            "  warnings.warn(f\"The usage of `scatter(reduce='{reduce}')` \"\n"
          ]
        },
        {
          "output_type": "stream",
          "name": "stdout",
          "text": [
            "Validation loss decreased (1.019146 --> 1.015977).  Saving model ...\n",
            "Epoch: 26, Train_rmse: 0.865, Val_rmse: 1.02\n"
          ]
        },
        {
          "output_type": "stream",
          "name": "stderr",
          "text": [
            "/usr/local/lib/python3.10/dist-packages/torch_geometric/utils/scatter.py:93: UserWarning: The usage of `scatter(reduce='max')` can be accelerated via the 'torch-scatter' package, but it was not found\n",
            "  warnings.warn(f\"The usage of `scatter(reduce='{reduce}')` \"\n"
          ]
        },
        {
          "output_type": "stream",
          "name": "stdout",
          "text": [
            "EarlyStopping counter: 1 out of 25\n",
            "Epoch: 27, Train_rmse: 0.869, Val_rmse: 1.02\n"
          ]
        },
        {
          "output_type": "stream",
          "name": "stderr",
          "text": [
            "/usr/local/lib/python3.10/dist-packages/torch_geometric/utils/scatter.py:93: UserWarning: The usage of `scatter(reduce='max')` can be accelerated via the 'torch-scatter' package, but it was not found\n",
            "  warnings.warn(f\"The usage of `scatter(reduce='{reduce}')` \"\n"
          ]
        },
        {
          "output_type": "stream",
          "name": "stdout",
          "text": [
            "EarlyStopping counter: 2 out of 25\n",
            "Epoch: 28, Train_rmse: 0.936, Val_rmse: 1.11\n"
          ]
        },
        {
          "output_type": "stream",
          "name": "stderr",
          "text": [
            "/usr/local/lib/python3.10/dist-packages/torch_geometric/utils/scatter.py:93: UserWarning: The usage of `scatter(reduce='max')` can be accelerated via the 'torch-scatter' package, but it was not found\n",
            "  warnings.warn(f\"The usage of `scatter(reduce='{reduce}')` \"\n"
          ]
        },
        {
          "output_type": "stream",
          "name": "stdout",
          "text": [
            "Validation loss decreased (1.015977 --> 1.009693).  Saving model ...\n",
            "Epoch: 29, Train_rmse: 0.836, Val_rmse: 1.01\n"
          ]
        },
        {
          "output_type": "stream",
          "name": "stderr",
          "text": [
            "/usr/local/lib/python3.10/dist-packages/torch_geometric/utils/scatter.py:93: UserWarning: The usage of `scatter(reduce='max')` can be accelerated via the 'torch-scatter' package, but it was not found\n",
            "  warnings.warn(f\"The usage of `scatter(reduce='{reduce}')` \"\n"
          ]
        },
        {
          "output_type": "stream",
          "name": "stdout",
          "text": [
            "EarlyStopping counter: 1 out of 25\n",
            "Epoch: 30, Train_rmse: 0.825, Val_rmse: 1.03\n"
          ]
        },
        {
          "output_type": "stream",
          "name": "stderr",
          "text": [
            "/usr/local/lib/python3.10/dist-packages/torch_geometric/utils/scatter.py:93: UserWarning: The usage of `scatter(reduce='max')` can be accelerated via the 'torch-scatter' package, but it was not found\n",
            "  warnings.warn(f\"The usage of `scatter(reduce='{reduce}')` \"\n"
          ]
        },
        {
          "output_type": "stream",
          "name": "stdout",
          "text": [
            "EarlyStopping counter: 2 out of 25\n",
            "Epoch: 31, Train_rmse: 0.98, Val_rmse: 1.2\n"
          ]
        },
        {
          "output_type": "stream",
          "name": "stderr",
          "text": [
            "/usr/local/lib/python3.10/dist-packages/torch_geometric/utils/scatter.py:93: UserWarning: The usage of `scatter(reduce='max')` can be accelerated via the 'torch-scatter' package, but it was not found\n",
            "  warnings.warn(f\"The usage of `scatter(reduce='{reduce}')` \"\n"
          ]
        },
        {
          "output_type": "stream",
          "name": "stdout",
          "text": [
            "EarlyStopping counter: 3 out of 25\n",
            "Epoch: 32, Train_rmse: 0.912, Val_rmse: 1.05\n"
          ]
        },
        {
          "output_type": "stream",
          "name": "stderr",
          "text": [
            "/usr/local/lib/python3.10/dist-packages/torch_geometric/utils/scatter.py:93: UserWarning: The usage of `scatter(reduce='max')` can be accelerated via the 'torch-scatter' package, but it was not found\n",
            "  warnings.warn(f\"The usage of `scatter(reduce='{reduce}')` \"\n"
          ]
        },
        {
          "output_type": "stream",
          "name": "stdout",
          "text": [
            "EarlyStopping counter: 4 out of 25\n",
            "Epoch: 33, Train_rmse: 0.845, Val_rmse: 1.06\n"
          ]
        },
        {
          "output_type": "stream",
          "name": "stderr",
          "text": [
            "/usr/local/lib/python3.10/dist-packages/torch_geometric/utils/scatter.py:93: UserWarning: The usage of `scatter(reduce='max')` can be accelerated via the 'torch-scatter' package, but it was not found\n",
            "  warnings.warn(f\"The usage of `scatter(reduce='{reduce}')` \"\n"
          ]
        },
        {
          "output_type": "stream",
          "name": "stdout",
          "text": [
            "EarlyStopping counter: 5 out of 25\n",
            "Epoch: 34, Train_rmse: 0.911, Val_rmse: 1.1\n"
          ]
        },
        {
          "output_type": "stream",
          "name": "stderr",
          "text": [
            "/usr/local/lib/python3.10/dist-packages/torch_geometric/utils/scatter.py:93: UserWarning: The usage of `scatter(reduce='max')` can be accelerated via the 'torch-scatter' package, but it was not found\n",
            "  warnings.warn(f\"The usage of `scatter(reduce='{reduce}')` \"\n"
          ]
        },
        {
          "output_type": "stream",
          "name": "stdout",
          "text": [
            "EarlyStopping counter: 6 out of 25\n",
            "Epoch: 35, Train_rmse: 0.833, Val_rmse: 1.07\n"
          ]
        },
        {
          "output_type": "stream",
          "name": "stderr",
          "text": [
            "/usr/local/lib/python3.10/dist-packages/torch_geometric/utils/scatter.py:93: UserWarning: The usage of `scatter(reduce='max')` can be accelerated via the 'torch-scatter' package, but it was not found\n",
            "  warnings.warn(f\"The usage of `scatter(reduce='{reduce}')` \"\n"
          ]
        },
        {
          "output_type": "stream",
          "name": "stdout",
          "text": [
            "EarlyStopping counter: 7 out of 25\n",
            "Epoch: 36, Train_rmse: 0.822, Val_rmse: 1.04\n"
          ]
        },
        {
          "output_type": "stream",
          "name": "stderr",
          "text": [
            "/usr/local/lib/python3.10/dist-packages/torch_geometric/utils/scatter.py:93: UserWarning: The usage of `scatter(reduce='max')` can be accelerated via the 'torch-scatter' package, but it was not found\n",
            "  warnings.warn(f\"The usage of `scatter(reduce='{reduce}')` \"\n"
          ]
        },
        {
          "output_type": "stream",
          "name": "stdout",
          "text": [
            "EarlyStopping counter: 8 out of 25\n",
            "Epoch: 37, Train_rmse: 0.812, Val_rmse: 1.02\n"
          ]
        },
        {
          "output_type": "stream",
          "name": "stderr",
          "text": [
            "/usr/local/lib/python3.10/dist-packages/torch_geometric/utils/scatter.py:93: UserWarning: The usage of `scatter(reduce='max')` can be accelerated via the 'torch-scatter' package, but it was not found\n",
            "  warnings.warn(f\"The usage of `scatter(reduce='{reduce}')` \"\n"
          ]
        },
        {
          "output_type": "stream",
          "name": "stdout",
          "text": [
            "EarlyStopping counter: 9 out of 25\n",
            "Epoch: 38, Train_rmse: 0.817, Val_rmse: 1.04\n"
          ]
        },
        {
          "output_type": "stream",
          "name": "stderr",
          "text": [
            "/usr/local/lib/python3.10/dist-packages/torch_geometric/utils/scatter.py:93: UserWarning: The usage of `scatter(reduce='max')` can be accelerated via the 'torch-scatter' package, but it was not found\n",
            "  warnings.warn(f\"The usage of `scatter(reduce='{reduce}')` \"\n"
          ]
        },
        {
          "output_type": "stream",
          "name": "stdout",
          "text": [
            "EarlyStopping counter: 10 out of 25\n",
            "Epoch: 39, Train_rmse: 0.828, Val_rmse: 1.04\n"
          ]
        },
        {
          "output_type": "stream",
          "name": "stderr",
          "text": [
            "/usr/local/lib/python3.10/dist-packages/torch_geometric/utils/scatter.py:93: UserWarning: The usage of `scatter(reduce='max')` can be accelerated via the 'torch-scatter' package, but it was not found\n",
            "  warnings.warn(f\"The usage of `scatter(reduce='{reduce}')` \"\n"
          ]
        },
        {
          "output_type": "stream",
          "name": "stdout",
          "text": [
            "Validation loss decreased (1.009693 --> 1.003517).  Saving model ...\n",
            "Epoch: 40, Train_rmse: 0.794, Val_rmse: 1.0\n"
          ]
        },
        {
          "output_type": "stream",
          "name": "stderr",
          "text": [
            "/usr/local/lib/python3.10/dist-packages/torch_geometric/utils/scatter.py:93: UserWarning: The usage of `scatter(reduce='max')` can be accelerated via the 'torch-scatter' package, but it was not found\n",
            "  warnings.warn(f\"The usage of `scatter(reduce='{reduce}')` \"\n"
          ]
        },
        {
          "output_type": "stream",
          "name": "stdout",
          "text": [
            "EarlyStopping counter: 1 out of 25\n",
            "Epoch: 41, Train_rmse: 0.884, Val_rmse: 1.14\n"
          ]
        },
        {
          "output_type": "stream",
          "name": "stderr",
          "text": [
            "/usr/local/lib/python3.10/dist-packages/torch_geometric/utils/scatter.py:93: UserWarning: The usage of `scatter(reduce='max')` can be accelerated via the 'torch-scatter' package, but it was not found\n",
            "  warnings.warn(f\"The usage of `scatter(reduce='{reduce}')` \"\n"
          ]
        },
        {
          "output_type": "stream",
          "name": "stdout",
          "text": [
            "EarlyStopping counter: 2 out of 25\n",
            "Epoch: 42, Train_rmse: 0.803, Val_rmse: 1.02\n"
          ]
        },
        {
          "output_type": "stream",
          "name": "stderr",
          "text": [
            "/usr/local/lib/python3.10/dist-packages/torch_geometric/utils/scatter.py:93: UserWarning: The usage of `scatter(reduce='max')` can be accelerated via the 'torch-scatter' package, but it was not found\n",
            "  warnings.warn(f\"The usage of `scatter(reduce='{reduce}')` \"\n"
          ]
        },
        {
          "output_type": "stream",
          "name": "stdout",
          "text": [
            "Validation loss decreased (1.003517 --> 0.974348).  Saving model ...\n",
            "Epoch: 43, Train_rmse: 0.794, Val_rmse: 0.974\n"
          ]
        },
        {
          "output_type": "stream",
          "name": "stderr",
          "text": [
            "/usr/local/lib/python3.10/dist-packages/torch_geometric/utils/scatter.py:93: UserWarning: The usage of `scatter(reduce='max')` can be accelerated via the 'torch-scatter' package, but it was not found\n",
            "  warnings.warn(f\"The usage of `scatter(reduce='{reduce}')` \"\n"
          ]
        },
        {
          "output_type": "stream",
          "name": "stdout",
          "text": [
            "EarlyStopping counter: 1 out of 25\n",
            "Epoch: 44, Train_rmse: 0.846, Val_rmse: 1.05\n"
          ]
        },
        {
          "output_type": "stream",
          "name": "stderr",
          "text": [
            "/usr/local/lib/python3.10/dist-packages/torch_geometric/utils/scatter.py:93: UserWarning: The usage of `scatter(reduce='max')` can be accelerated via the 'torch-scatter' package, but it was not found\n",
            "  warnings.warn(f\"The usage of `scatter(reduce='{reduce}')` \"\n"
          ]
        },
        {
          "output_type": "stream",
          "name": "stdout",
          "text": [
            "EarlyStopping counter: 2 out of 25\n",
            "Epoch: 45, Train_rmse: 0.783, Val_rmse: 1.06\n"
          ]
        },
        {
          "output_type": "stream",
          "name": "stderr",
          "text": [
            "/usr/local/lib/python3.10/dist-packages/torch_geometric/utils/scatter.py:93: UserWarning: The usage of `scatter(reduce='max')` can be accelerated via the 'torch-scatter' package, but it was not found\n",
            "  warnings.warn(f\"The usage of `scatter(reduce='{reduce}')` \"\n"
          ]
        },
        {
          "output_type": "stream",
          "name": "stdout",
          "text": [
            "EarlyStopping counter: 3 out of 25\n",
            "Epoch: 46, Train_rmse: 0.849, Val_rmse: 1.08\n"
          ]
        },
        {
          "output_type": "stream",
          "name": "stderr",
          "text": [
            "/usr/local/lib/python3.10/dist-packages/torch_geometric/utils/scatter.py:93: UserWarning: The usage of `scatter(reduce='max')` can be accelerated via the 'torch-scatter' package, but it was not found\n",
            "  warnings.warn(f\"The usage of `scatter(reduce='{reduce}')` \"\n"
          ]
        },
        {
          "output_type": "stream",
          "name": "stdout",
          "text": [
            "EarlyStopping counter: 4 out of 25\n",
            "Epoch: 47, Train_rmse: 0.777, Val_rmse: 1.0\n"
          ]
        },
        {
          "output_type": "stream",
          "name": "stderr",
          "text": [
            "/usr/local/lib/python3.10/dist-packages/torch_geometric/utils/scatter.py:93: UserWarning: The usage of `scatter(reduce='max')` can be accelerated via the 'torch-scatter' package, but it was not found\n",
            "  warnings.warn(f\"The usage of `scatter(reduce='{reduce}')` \"\n"
          ]
        },
        {
          "output_type": "stream",
          "name": "stdout",
          "text": [
            "EarlyStopping counter: 5 out of 25\n",
            "Epoch: 48, Train_rmse: 0.838, Val_rmse: 1.06\n"
          ]
        },
        {
          "output_type": "stream",
          "name": "stderr",
          "text": [
            "/usr/local/lib/python3.10/dist-packages/torch_geometric/utils/scatter.py:93: UserWarning: The usage of `scatter(reduce='max')` can be accelerated via the 'torch-scatter' package, but it was not found\n",
            "  warnings.warn(f\"The usage of `scatter(reduce='{reduce}')` \"\n"
          ]
        },
        {
          "output_type": "stream",
          "name": "stdout",
          "text": [
            "EarlyStopping counter: 6 out of 25\n",
            "Epoch: 49, Train_rmse: 0.796, Val_rmse: 1.07\n",
            "training completed at 2023-05-27 16:57:56.258402\n"
          ]
        }
      ],
      "source": [
        "import numpy as np\n",
        "from rdkit import Chem\n",
        "from torch_geometric.data import Data\n",
        "from sklearn.metrics import mean_squared_error\n",
        "import torch.nn as nn\n",
        "import matplotlib.pyplot as plt\n",
        "from rdkit import Chem\n",
        "from rdkit.Chem import AllChem\n",
        "import torch\n",
        "import torch.nn.functional as F\n",
        "from torch.utils.data import Dataset\n",
        "from rdkit.Chem import Draw\n",
        "from sklearn.metrics import r2_score\n",
        "from scipy.stats import spearmanr\n",
        "import pandas as pd\n",
        "from random import randrange\n",
        "import itertools\n",
        "import random\n",
        "import os\n",
        "from pickle import dump, load\n",
        "from sklearn.metrics import mean_absolute_error\n",
        "import pickle\n",
        "import gzip, pickle\n",
        "from torch_geometric.data import DataLoader\n",
        "#import gnn_utils\n",
        "#import gnn_model\n",
        "#from gnn_model import GNN\n",
        "#import config\n",
        "import datetime\n",
        "\n",
        "gnn_utils=gn_ut()\n",
        "gnn_model=gn_mo()\n",
        "#GNN=gnn()\n",
        "config=gn_co()\n",
        "\n",
        "def run():\n",
        "    \n",
        "    # create data\n",
        "    gnn_utils.create_data()\n",
        "\n",
        "    with gzip.open(f\"{config.data_dir}train.pkl.gz\", \"rb\") as f:\n",
        "        train_X = pickle.load(f)\n",
        "    with gzip.open(f\"{config.data_dir}val.pkl.gz\", \"rb\") as f:\n",
        "        val_X = pickle.load(f)\n",
        "    with gzip.open(f\"{config.data_dir}test.pkl.gz\", \"rb\") as f:\n",
        "        test_X = pickle.load(f)\n",
        "\n",
        "\n",
        "    # define model\n",
        "    n_features = config.n_features # number of node features\n",
        "    bs = config.bs\n",
        "\n",
        "    train_loader = DataLoader(train_X, batch_size=bs, shuffle=True, drop_last=True)\n",
        "    val_loader = DataLoader(val_X, batch_size=bs, shuffle=True, drop_last=True)\n",
        "    test_loader = DataLoader(test_X, batch_size=bs, shuffle=False, drop_last=False)\n",
        "\n",
        "    train_loader_no_shuffle = DataLoader(train_X, batch_size = bs, shuffle=False, drop_last=False)\n",
        "    val_loader_no_shuffle = DataLoader(val_X, batch_size = bs, shuffle=False, drop_last=False)\n",
        "\n",
        "\n",
        "\n",
        "    device = torch.device('cuda' if torch.cuda.is_available() else 'cpu')\n",
        "    model = GNN(n_features = n_features).to(device)\n",
        "    adam = torch.optim.Adam(model.parameters(), lr = config.lr )\n",
        "    optimizer = adam\n",
        "    early_stopping = gnn_utils.EarlyStopping(patience = config.patience, verbose=True, chkpoint_name = config.best_model)\n",
        "    criterion = nn.MSELoss()\n",
        "    n_epochs = config.max_epochs\n",
        "\n",
        "\n",
        "\n",
        "    # train the model\n",
        "    hist = {\"train_rmse\":[], \"val_rmse\":[]}\n",
        "    for epoch in range(0, 50):\n",
        "        model.train()\n",
        "        loss_all = 0\n",
        "        for data in train_loader:\n",
        "            data = data.to(device)\n",
        "            optimizer.zero_grad()\n",
        "            output = model(data)\n",
        "            output = output.reshape(-1,)\n",
        "\n",
        "            loss = criterion(output, data.y)\n",
        "            loss.backward()\n",
        "            optimizer.step()\n",
        "\n",
        "\n",
        "        train_rmse = gnn_utils.test_fn(train_loader, model, device)\n",
        "        val_rmse = gnn_utils.test_fn(val_loader, model, device)\n",
        "        early_stopping(val_rmse, model)\n",
        "\n",
        "        #if early_stopping.early_stop:\n",
        "         #   print(\"Early stopping\")\n",
        "          #  break\n",
        "\n",
        "        hist[\"train_rmse\"].append(train_rmse)\n",
        "        hist[\"val_rmse\"].append(val_rmse)\n",
        "        print(f'Epoch: {epoch}, Train_rmse: {train_rmse:.3}, Val_rmse: {val_rmse:.3}')\n",
        "\n",
        "    print(f\"training completed at {datetime.datetime.now()}\")\n",
        "    \n",
        "    \n",
        "if __name__ == \"__main__\":\n",
        "    run()"
      ]
    },
    {
      "cell_type": "markdown",
      "metadata": {
        "id": "BfC9n0wBJhzW"
      },
      "source": [
        "##Predict"
      ]
    },
    {
      "cell_type": "code",
      "execution_count": 21,
      "metadata": {
        "colab": {
          "base_uri": "https://localhost:8080/"
        },
        "id": "Ucyf0Uku8ze-",
        "outputId": "049eaac4-9560-40fc-984c-79f8cb8744c2"
      },
      "outputs": [
        {
          "output_type": "stream",
          "name": "stderr",
          "text": [
            "/usr/local/lib/python3.10/dist-packages/torch_geometric/deprecation.py:22: UserWarning: 'data.DataLoader' is deprecated, use 'loader.DataLoader' instead\n",
            "  warnings.warn(out)\n"
          ]
        }
      ],
      "source": [
        "import gzip, pickle\n",
        "from torch_geometric.data import DataLoader\n",
        "#from gnn_model import GNN\n",
        "#import config\n",
        "from sklearn.metrics import mean_squared_error\n",
        "from sklearn.metrics import mean_absolute_error\n",
        "from sklearn.metrics import r2_score\n",
        "from scipy.stats import spearmanr\n",
        "import torch\n",
        "#import gnn_utils\n",
        "import matplotlib.pyplot as plt\n",
        "# load data\n",
        "#gnn_utils=gn_ut()\n",
        "gnn_model=gn_mo()\n",
        "#GNN=gnn()\n",
        "config=gn_co()\n",
        "\n",
        "with gzip.open(config.gnn_data_dir+\"train.pkl.gz\", \"rb\") as f:\n",
        "    train_X = pickle.load(f)\n",
        "with gzip.open(config.gnn_data_dir+\"val.pkl.gz\", \"rb\") as f:\n",
        "    val_X = pickle.load(f)\n",
        "with gzip.open(config.gnn_data_dir+\"test.pkl.gz\", \"rb\") as f:\n",
        "    test_X = pickle.load(f)\n",
        "bs = config.bs\n",
        "train_loader_no_shuffle = DataLoader(train_X, batch_size = bs, shuffle=False, drop_last=False)\n",
        "val_loader_no_shuffle = DataLoader(val_X, batch_size = bs, shuffle=False, drop_last=False)\n",
        "test_loader = DataLoader(test_X, batch_size=bs, shuffle=False, drop_last=False)\n",
        "# load the best model    \n",
        "device = torch.device('cuda' if torch.cuda.is_available() else 'cpu')\n",
        "model = GNN(n_features = config.n_features).to(device)\n",
        "\n"
      ]
    },
    {
      "cell_type": "code",
      "execution_count": null,
      "metadata": {
        "id": "2XUx0BE8zCgO"
      },
      "outputs": [],
      "source": [
        "# make predictions\n",
        "gnn_utils.get_results('train', train_loader_no_shuffle, model, device)\n",
        "gnn_utils.get_results('valid', val_loader_no_shuffle, model, device)\n",
        "gnn_utils.get_results('test', test_loader, model, device)"
      ]
    },
    {
      "cell_type": "markdown",
      "metadata": {
        "id": "_UgJl6rjago3"
      },
      "source": [
        "# **MDM**"
      ]
    },
    {
      "cell_type": "markdown",
      "metadata": {
        "id": "5ZxqlFeyaqdC"
      },
      "source": [
        "## Config"
      ]
    },
    {
      "cell_type": "code",
      "execution_count": null,
      "metadata": {
        "id": "t6IikoT9apYX"
      },
      "outputs": [],
      "source": [
        "class md_co:\n",
        "  data_dir = \"/content/data/\"\n",
        "  best_model = \"mdm_best.h5\"\n",
        "  max_epochs = 500\n",
        "  batch_size = 64\n",
        "  patience=25\n",
        "  lr = 10**-3"
      ]
    },
    {
      "cell_type": "markdown",
      "metadata": {
        "id": "J8tDnm0Navzi"
      },
      "source": [
        "## Model"
      ]
    },
    {
      "cell_type": "code",
      "execution_count": null,
      "metadata": {
        "id": "Nm3XYCDoa05v"
      },
      "outputs": [],
      "source": [
        "import keras\n",
        "from keras.models import Sequential\n",
        "from keras.layers.core import Dense, Dropout, Activation\n",
        "import config\n",
        "\n",
        "class md_mo:\n",
        "  act = {0:'relu', 1:'selu', 2:'sigmoid'}\n",
        "  args={'a1': 2, 'a2': 0, 'a3': 1, 'a4': 1, 'a5': 0, 'bs': 1, 'd1': 0.10696194799818459, 'd2': 0.6033824611348487,\\\n",
        "      'd3': 0.7388531806558837, 'd4': 0.9943053700072028, 'd5': 0.016358259737496605, 'h1': 128.0, 'h2': 576.0,\\\n",
        "      'h3': 448.0, 'h4': 256.0, 'h5': 128.0, 'lr': 0, 'nfc': 0, 'opt': 1}\n",
        "\n",
        "  def create_model(self,input_shape):        \n",
        "    act = {0:'relu', 1:'selu', 2:'sigmoid'}\n",
        "    args={'a1': 2, 'a2': 0, 'a3': 1, 'a4': 1, 'a5': 0, 'bs': 1, 'd1': 0.10696194799818459, 'd2': 0.6033824611348487,\\\n",
        "      'd3': 0.7388531806558837, 'd4': 0.9943053700072028, 'd5': 0.016358259737496605, 'h1': 128.0, 'h2': 576.0,\\\n",
        "      'h3': 448.0, 'h4': 256.0, 'h5': 128.0, 'lr': 0, 'nfc': 0, 'opt': 1}\n",
        "    model = Sequential()\n",
        "    model.add(Dense(int(args['h1']), input_shape = (input_shape,) ))\n",
        "    model.add(Activation( act[args['a1']] ))\n",
        "    model.add(Dropout( args['d1'] ))\n",
        "    model.add(Dense(  int(args['h2'])  ))\n",
        "    model.add(Activation( act[args['a2']] ))\n",
        "    model.add(Dropout( args['d2'] ))\n",
        "\n",
        "    model.add(Dense(1, activation = 'linear'))\n",
        "    rmsprop = keras.optimizers.RMSprop( lr = config.lr )\n",
        "    opt = rmsprop\n",
        "\n",
        "    model.compile(loss='mean_squared_error', optimizer=opt)\n",
        "    \n",
        "    return model"
      ]
    },
    {
      "cell_type": "markdown",
      "metadata": {
        "id": "B6VDuKUBa3De"
      },
      "source": [
        "## Utils"
      ]
    },
    {
      "cell_type": "code",
      "execution_count": null,
      "metadata": {
        "id": "-oUHO6Oga8AS"
      },
      "outputs": [],
      "source": [
        "import os\n",
        "from sklearn.metrics import mean_squared_error\n",
        "from sklearn.metrics import r2_score\n",
        "from scipy.stats import spearmanr\n",
        "from sklearn.metrics import mean_absolute_error\n",
        "from sklearn.preprocessing import StandardScaler\n",
        "import numpy as np\n",
        "import matplotlib.pyplot as plt\n",
        "\n",
        "class md_ut:\n",
        "\n",
        "  def get_transformed_data(self,train,val,test, to_drop, y):\n",
        "\n",
        "    x_train = train.drop(to_drop, axis=1)\n",
        "    x_val = val.drop(to_drop , axis=1)\n",
        "    x_test = test.drop(to_drop , axis=1)\n",
        "\n",
        "    y_train = train[y].values\n",
        "    y_val = val[y].values\n",
        "    y_test = test[y].values\n",
        "\n",
        "    scaler = StandardScaler()\n",
        "    x_train = scaler.fit_transform(x_train)\n",
        "    x_val = scaler.transform(x_val)\n",
        "    x_test = scaler.transform(x_test)\n",
        "    \n",
        "    os.makedirs(\"input\", exist_ok=True)\n",
        "    np.savetxt(\"./input/x_train.txt\", x_train)\n",
        "    np.savetxt(\"./input/x_val.txt\", x_val)\n",
        "    np.savetxt(\"./input/x_test.txt\", x_test)\n",
        "    np.savetxt(\"./input/y_train.txt\", y_train)\n",
        "    np.savetxt(\"./input/y_val.txt\", y_val)\n",
        "    np.savetxt(\"./input/y_test.txt\", y_test)\n",
        "    \n",
        "    return x_train,y_train, x_test, y_test, x_val, y_val, scaler\n",
        "\n",
        "  def val_results(self,x_valx, y_valx, lc_name, modelx):\n",
        "\n",
        "    model = modelx\n",
        "    \n",
        "    print(\"val scores\")\n",
        "    pred = model.predict(x_valx).reshape(-1,)\n",
        "    print(r2_score(y_pred = pred, y_true = y_valx))\n",
        "    print(mean_squared_error(y_pred = pred, y_true = y_valx)**.5)\n",
        "    print(spearmanr(pred, y_valx))\n",
        "\n",
        "\n",
        "  def test_results(self,x_testx, y_testx, acc_plot_name, modelx ):\n",
        "\n",
        "    model = modelx\n",
        "    \n",
        "    print(\"test scores\")\n",
        "    pred = model.predict(x_testx).reshape(-1,)\n",
        "    print(r2_score(y_pred=pred, y_true=y_testx))\n",
        "    print(mean_squared_error(y_pred=pred, y_true=y_testx)**.5)\n",
        "    print(spearmanr(pred, y_testx))\n",
        "\n",
        "    return pred\n",
        "\n",
        "\n",
        "  def check_duplicates(self,train,val,test):\n",
        "    print(\"checking for duplicates\")\n",
        "    if len(list(set(train.smiles.values).intersection(set(test.smiles.values)) )) == 0:\n",
        "        print(\"no duplicates in train and test\")\n",
        "    if len(list(set(train.smiles.values).intersection(set(val.smiles.values)) )) == 0:\n",
        "        print(\"no duplicates in train and valid\")\n",
        "    if len(list( set(test.smiles.values).intersection(set(val.smiles.values)) )) == 0:\n",
        "        print(\"no duplicates in test and valid\")\n",
        "    print(\" \")\n",
        "    print(f\"train set size = {train.shape}, unique smiles in the train set = {len(set(train.smiles.values))}\")\n",
        "    print(f\"train set size = {val.shape}, unique smiles in the train set = {len(set(val.smiles.values))}\")\n",
        "    print(f\"train set size = {test.shape}, unique smiles in the train set = {len(set(test.smiles.values))}\")\n",
        "    print(\" \")\n",
        "\n",
        "    \n",
        "  def get_results(self,db_name,X, y, model):\n",
        "    \n",
        "    print(f\"{db_name} results\")\n",
        "    pred = model.predict(X).ravel()\n",
        "\n",
        "    r2 = r2_score(y_pred = pred, y_true = y)\n",
        "    rmse = mean_squared_error(y_pred = pred, y_true = y)**.5\n",
        "    sp = spearmanr(pred, y)[0]\n",
        "    mae = mean_absolute_error(y_pred = pred, y_true = y)\n",
        "\n",
        "    print(\"r2: {0:.4f}\".format(r2) )\n",
        "    print(\"sp: {0:.4f}\".format(sp) )\n",
        "    print(\"rmse: {0:.4f}\".format(rmse) )\n",
        "    print(\"mae: {0:.4f}\".format(mae) )\n",
        "\n",
        "    plt.plot( y, pred, 'o')\n",
        "    plt.xlabel(\"True (logS)\", fontsize=15, fontweight='bold');\n",
        "    plt.ylabel(\"Predicted (logS)\", fontsize=15, fontweight='bold');\n",
        "    plt.show()"
      ]
    },
    {
      "cell_type": "markdown",
      "metadata": {
        "id": "sOdB30NpbApG"
      },
      "source": [
        "## Train"
      ]
    },
    {
      "cell_type": "code",
      "execution_count": null,
      "metadata": {
        "colab": {
          "base_uri": "https://localhost:8080/"
        },
        "id": "G3LcrLmIbF7o",
        "outputId": "7f07b570-b7c9-4c76-e3bb-24baa20d239e"
      },
      "outputs": [
        {
          "name": "stdout",
          "output_type": "stream",
          "text": [
            "checking for duplicates\n",
            "no duplicates in train and test\n",
            "no duplicates in train and valid\n",
            "no duplicates in test and valid\n",
            " \n",
            "train set size = (9941, 1101), unique smiles in the train set = 9941\n",
            "train set size = (877, 1101), unique smiles in the train set = 877\n",
            "train set size = (878, 1101), unique smiles in the train set = 878\n",
            " \n"
          ]
        },
        {
          "name": "stderr",
          "output_type": "stream",
          "text": [
            "/usr/local/lib/python3.10/dist-packages/keras/optimizers/legacy/rmsprop.py:143: UserWarning: The `lr` argument is deprecated, use `learning_rate` instead.\n",
            "  super().__init__(name, **kwargs)\n"
          ]
        },
        {
          "name": "stdout",
          "output_type": "stream",
          "text": [
            "Epoch 1/1000\n",
            "\n",
            "Epoch 1: val_loss improved from inf to 1.22229, saving model to mdm_best.h5\n",
            "156/156 - 2s - loss: 1.7802 - val_loss: 1.2223 - 2s/epoch - 13ms/step\n",
            "Epoch 2/1000\n",
            "\n",
            "Epoch 2: val_loss did not improve from 1.22229\n",
            "156/156 - 0s - loss: 1.3542 - val_loss: 1.8374 - 475ms/epoch - 3ms/step\n",
            "Epoch 3/1000\n",
            "\n",
            "Epoch 3: val_loss improved from 1.22229 to 1.17453, saving model to mdm_best.h5\n",
            "156/156 - 0s - loss: 1.2605 - val_loss: 1.1745 - 457ms/epoch - 3ms/step\n",
            "Epoch 4/1000\n",
            "\n",
            "Epoch 4: val_loss improved from 1.17453 to 1.11308, saving model to mdm_best.h5\n",
            "156/156 - 1s - loss: 1.2007 - val_loss: 1.1131 - 504ms/epoch - 3ms/step\n",
            "Epoch 5/1000\n",
            "\n",
            "Epoch 5: val_loss improved from 1.11308 to 1.09437, saving model to mdm_best.h5\n",
            "156/156 - 0s - loss: 1.1662 - val_loss: 1.0944 - 462ms/epoch - 3ms/step\n",
            "Epoch 6/1000\n",
            "\n",
            "Epoch 6: val_loss did not improve from 1.09437\n",
            "156/156 - 0s - loss: 1.1078 - val_loss: 1.2927 - 436ms/epoch - 3ms/step\n",
            "Epoch 7/1000\n",
            "\n",
            "Epoch 7: val_loss did not improve from 1.09437\n",
            "156/156 - 0s - loss: 1.0954 - val_loss: 1.3093 - 436ms/epoch - 3ms/step\n",
            "Epoch 8/1000\n",
            "\n",
            "Epoch 8: val_loss improved from 1.09437 to 1.07513, saving model to mdm_best.h5\n",
            "156/156 - 0s - loss: 1.0621 - val_loss: 1.0751 - 466ms/epoch - 3ms/step\n",
            "Epoch 9/1000\n",
            "\n",
            "Epoch 9: val_loss improved from 1.07513 to 0.98466, saving model to mdm_best.h5\n",
            "156/156 - 0s - loss: 1.0060 - val_loss: 0.9847 - 448ms/epoch - 3ms/step\n",
            "Epoch 10/1000\n",
            "\n",
            "Epoch 10: val_loss did not improve from 0.98466\n",
            "156/156 - 1s - loss: 0.9855 - val_loss: 1.0885 - 588ms/epoch - 4ms/step\n",
            "Epoch 11/1000\n",
            "\n",
            "Epoch 11: val_loss did not improve from 0.98466\n",
            "156/156 - 1s - loss: 0.9810 - val_loss: 1.0691 - 680ms/epoch - 4ms/step\n",
            "Epoch 12/1000\n",
            "\n",
            "Epoch 12: val_loss did not improve from 0.98466\n",
            "156/156 - 1s - loss: 0.9524 - val_loss: 1.1502 - 655ms/epoch - 4ms/step\n",
            "Epoch 13/1000\n",
            "\n",
            "Epoch 13: val_loss did not improve from 0.98466\n",
            "156/156 - 1s - loss: 0.9335 - val_loss: 1.0225 - 658ms/epoch - 4ms/step\n",
            "Epoch 14/1000\n",
            "\n",
            "Epoch 14: val_loss did not improve from 0.98466\n",
            "156/156 - 1s - loss: 0.9030 - val_loss: 1.0193 - 630ms/epoch - 4ms/step\n",
            "Epoch 15/1000\n",
            "\n",
            "Epoch 15: val_loss did not improve from 0.98466\n",
            "156/156 - 1s - loss: 0.8928 - val_loss: 1.0833 - 636ms/epoch - 4ms/step\n",
            "Epoch 16/1000\n",
            "\n",
            "Epoch 16: val_loss improved from 0.98466 to 0.97127, saving model to mdm_best.h5\n",
            "156/156 - 1s - loss: 0.8969 - val_loss: 0.9713 - 745ms/epoch - 5ms/step\n",
            "Epoch 17/1000\n",
            "\n",
            "Epoch 17: val_loss did not improve from 0.97127\n",
            "156/156 - 1s - loss: 0.8574 - val_loss: 1.0834 - 657ms/epoch - 4ms/step\n",
            "Epoch 18/1000\n",
            "\n",
            "Epoch 18: val_loss improved from 0.97127 to 0.93392, saving model to mdm_best.h5\n",
            "156/156 - 1s - loss: 0.8553 - val_loss: 0.9339 - 703ms/epoch - 5ms/step\n",
            "Epoch 19/1000\n",
            "\n",
            "Epoch 19: val_loss did not improve from 0.93392\n",
            "156/156 - 1s - loss: 0.8346 - val_loss: 0.9374 - 691ms/epoch - 4ms/step\n",
            "Epoch 20/1000\n",
            "\n",
            "Epoch 20: val_loss improved from 0.93392 to 0.92233, saving model to mdm_best.h5\n",
            "156/156 - 1s - loss: 0.8198 - val_loss: 0.9223 - 698ms/epoch - 4ms/step\n",
            "Epoch 21/1000\n",
            "\n",
            "Epoch 21: val_loss did not improve from 0.92233\n",
            "156/156 - 0s - loss: 0.8329 - val_loss: 0.9670 - 442ms/epoch - 3ms/step\n",
            "Epoch 22/1000\n",
            "\n",
            "Epoch 22: val_loss did not improve from 0.92233\n",
            "156/156 - 0s - loss: 0.7970 - val_loss: 0.9829 - 460ms/epoch - 3ms/step\n",
            "Epoch 23/1000\n",
            "\n",
            "Epoch 23: val_loss did not improve from 0.92233\n",
            "156/156 - 0s - loss: 0.7796 - val_loss: 0.9635 - 475ms/epoch - 3ms/step\n",
            "Epoch 24/1000\n",
            "\n",
            "Epoch 24: val_loss did not improve from 0.92233\n",
            "156/156 - 0s - loss: 0.7669 - val_loss: 0.9796 - 481ms/epoch - 3ms/step\n",
            "Epoch 25/1000\n",
            "\n",
            "Epoch 25: val_loss did not improve from 0.92233\n",
            "156/156 - 0s - loss: 0.7616 - val_loss: 1.0211 - 443ms/epoch - 3ms/step\n",
            "Epoch 26/1000\n",
            "\n",
            "Epoch 26: val_loss did not improve from 0.92233\n",
            "156/156 - 0s - loss: 0.7649 - val_loss: 0.9874 - 437ms/epoch - 3ms/step\n",
            "Epoch 27/1000\n",
            "\n",
            "Epoch 27: val_loss did not improve from 0.92233\n",
            "156/156 - 0s - loss: 0.7582 - val_loss: 0.9893 - 438ms/epoch - 3ms/step\n",
            "Epoch 28/1000\n",
            "\n",
            "Epoch 28: val_loss did not improve from 0.92233\n",
            "156/156 - 0s - loss: 0.7288 - val_loss: 0.9942 - 437ms/epoch - 3ms/step\n",
            "Epoch 29/1000\n",
            "\n",
            "Epoch 29: val_loss did not improve from 0.92233\n",
            "156/156 - 0s - loss: 0.7256 - val_loss: 0.9644 - 437ms/epoch - 3ms/step\n",
            "Epoch 30/1000\n",
            "\n",
            "Epoch 30: val_loss improved from 0.92233 to 0.90000, saving model to mdm_best.h5\n",
            "156/156 - 0s - loss: 0.7340 - val_loss: 0.9000 - 473ms/epoch - 3ms/step\n",
            "Epoch 31/1000\n",
            "\n",
            "Epoch 31: val_loss did not improve from 0.90000\n",
            "156/156 - 0s - loss: 0.6974 - val_loss: 1.1409 - 480ms/epoch - 3ms/step\n",
            "Epoch 32/1000\n",
            "\n",
            "Epoch 32: val_loss did not improve from 0.90000\n",
            "156/156 - 0s - loss: 0.7072 - val_loss: 1.0326 - 494ms/epoch - 3ms/step\n",
            "Epoch 33/1000\n",
            "\n",
            "Epoch 33: val_loss did not improve from 0.90000\n",
            "156/156 - 0s - loss: 0.6834 - val_loss: 0.9663 - 475ms/epoch - 3ms/step\n",
            "Epoch 34/1000\n",
            "\n",
            "Epoch 34: val_loss did not improve from 0.90000\n",
            "156/156 - 0s - loss: 0.6929 - val_loss: 0.9459 - 450ms/epoch - 3ms/step\n",
            "Epoch 35/1000\n",
            "\n",
            "Epoch 35: val_loss did not improve from 0.90000\n",
            "156/156 - 0s - loss: 0.6679 - val_loss: 0.9673 - 435ms/epoch - 3ms/step\n",
            "Epoch 36/1000\n",
            "\n",
            "Epoch 36: val_loss did not improve from 0.90000\n",
            "156/156 - 0s - loss: 0.6788 - val_loss: 0.9266 - 433ms/epoch - 3ms/step\n",
            "Epoch 37/1000\n",
            "\n",
            "Epoch 37: val_loss did not improve from 0.90000\n",
            "156/156 - 0s - loss: 0.6380 - val_loss: 0.9177 - 453ms/epoch - 3ms/step\n",
            "Epoch 38/1000\n",
            "\n",
            "Epoch 38: val_loss did not improve from 0.90000\n",
            "156/156 - 0s - loss: 0.6527 - val_loss: 0.9431 - 423ms/epoch - 3ms/step\n",
            "Epoch 39/1000\n",
            "\n",
            "Epoch 39: val_loss did not improve from 0.90000\n",
            "156/156 - 0s - loss: 0.6511 - val_loss: 0.9367 - 443ms/epoch - 3ms/step\n",
            "Epoch 40/1000\n",
            "\n",
            "Epoch 40: val_loss did not improve from 0.90000\n",
            "156/156 - 0s - loss: 0.6578 - val_loss: 0.9350 - 434ms/epoch - 3ms/step\n",
            "Epoch 41/1000\n",
            "\n",
            "Epoch 41: val_loss did not improve from 0.90000\n",
            "156/156 - 0s - loss: 0.6478 - val_loss: 0.9084 - 484ms/epoch - 3ms/step\n",
            "Epoch 42/1000\n",
            "\n",
            "Epoch 42: val_loss did not improve from 0.90000\n",
            "156/156 - 0s - loss: 0.6280 - val_loss: 0.9709 - 485ms/epoch - 3ms/step\n",
            "Epoch 43/1000\n",
            "\n",
            "Epoch 43: val_loss did not improve from 0.90000\n",
            "156/156 - 1s - loss: 0.6192 - val_loss: 0.9263 - 636ms/epoch - 4ms/step\n",
            "Epoch 44/1000\n",
            "\n",
            "Epoch 44: val_loss did not improve from 0.90000\n",
            "156/156 - 1s - loss: 0.6326 - val_loss: 1.0199 - 650ms/epoch - 4ms/step\n",
            "Epoch 45/1000\n",
            "\n",
            "Epoch 45: val_loss did not improve from 0.90000\n",
            "156/156 - 1s - loss: 0.6025 - val_loss: 0.9776 - 723ms/epoch - 5ms/step\n",
            "Epoch 46/1000\n",
            "\n",
            "Epoch 46: val_loss did not improve from 0.90000\n",
            "156/156 - 1s - loss: 0.6196 - val_loss: 0.9926 - 656ms/epoch - 4ms/step\n",
            "Epoch 47/1000\n",
            "\n",
            "Epoch 47: val_loss did not improve from 0.90000\n",
            "156/156 - 1s - loss: 0.6158 - val_loss: 0.9430 - 686ms/epoch - 4ms/step\n",
            "Epoch 48/1000\n",
            "\n",
            "Epoch 48: val_loss did not improve from 0.90000\n",
            "156/156 - 1s - loss: 0.6083 - val_loss: 0.9685 - 667ms/epoch - 4ms/step\n",
            "Epoch 49/1000\n",
            "\n",
            "Epoch 49: val_loss did not improve from 0.90000\n",
            "156/156 - 1s - loss: 0.6016 - val_loss: 0.9632 - 946ms/epoch - 6ms/step\n",
            "Epoch 50/1000\n",
            "\n",
            "Epoch 50: val_loss did not improve from 0.90000\n",
            "156/156 - 1s - loss: 0.5825 - val_loss: 0.9819 - 1s/epoch - 8ms/step\n",
            "Epoch 51/1000\n",
            "\n",
            "Epoch 51: val_loss did not improve from 0.90000\n",
            "156/156 - 1s - loss: 0.5802 - val_loss: 0.9528 - 1s/epoch - 8ms/step\n",
            "Epoch 52/1000\n",
            "\n",
            "Epoch 52: val_loss did not improve from 0.90000\n",
            "156/156 - 1s - loss: 0.5818 - val_loss: 1.1715 - 853ms/epoch - 5ms/step\n",
            "Epoch 53/1000\n",
            "\n",
            "Epoch 53: val_loss did not improve from 0.90000\n",
            "156/156 - 1s - loss: 0.5718 - val_loss: 0.9641 - 789ms/epoch - 5ms/step\n",
            "Epoch 54/1000\n",
            "\n",
            "Epoch 54: val_loss did not improve from 0.90000\n",
            "156/156 - 1s - loss: 0.5871 - val_loss: 0.9762 - 888ms/epoch - 6ms/step\n",
            "Epoch 55/1000\n",
            "\n",
            "Epoch 55: val_loss did not improve from 0.90000\n",
            "156/156 - 1s - loss: 0.5636 - val_loss: 0.9567 - 899ms/epoch - 6ms/step\n",
            "Epoch 55: early stopping\n",
            "training completed at 2023-05-26 02:59:23.874442\n"
          ]
        }
      ],
      "source": [
        "import keras\n",
        "import matplotlib.pyplot as plt\n",
        "import numpy as np\n",
        "from keras.callbacks import EarlyStopping\n",
        "import pandas as pd\n",
        "from sklearn.model_selection import train_test_split\n",
        "from keras.callbacks import ModelCheckpoint\n",
        "from keras.models import load_model\n",
        "import matplotlib.pyplot as plt\n",
        "from keras.initializers import random_normal, random_uniform\n",
        "from rdkit import Chem\n",
        "from rdkit.Chem.Draw import IPythonConsole #Needed to show molecules\n",
        "from rdkit.Chem.Draw.MolDrawing import MolDrawing, DrawingOptions\n",
        "from sklearn.model_selection import KFold\n",
        "from rdkit import Chem\n",
        "import os\n",
        "from sklearn.ensemble import RandomForestRegressor\n",
        "from sklearn.metrics import mean_absolute_error\n",
        "import pickle\n",
        "import json\n",
        "#import mdm_model\n",
        "#import config\n",
        "#import mdm_utils\n",
        "import datetime\n",
        "\n",
        "mdm_model=md_mo()\n",
        "config=md_co()\n",
        "mdm_utils=md_ut()\n",
        "\n",
        "def run():\n",
        "    \n",
        "    to_remove = [ 'cas', 'ref', 'temp','inchi'] \n",
        "\n",
        "    train = pd.read_csv(config.data_dir+\"train.csv\")\n",
        "    val = pd.read_csv(config.data_dir+\"val.csv\")\n",
        "    test = pd.read_csv(config.data_dir+\"test.csv\")\n",
        "\n",
        "\n",
        "    train = train.drop(to_remove, axis=1)\n",
        "    val = val.drop(to_remove, axis=1)\n",
        "    test = test.drop(to_remove, axis=1)\n",
        "    mdm_utils.check_duplicates(train,val,test)\n",
        "\n",
        "    trainx = train\n",
        "    valx = val\n",
        "    testx = test\n",
        "\n",
        "    to_drop = ['log_sol', 'smiles']\n",
        "\n",
        "    x_train,y_train, x_test, y_test, x_val, y_val, sc = mdm_utils.get_transformed_data(train   = trainx, \n",
        "                                                                             val     = valx, \n",
        "                                                                             test    = testx, \n",
        "                                                                             to_drop = to_drop, \n",
        "                                                                             y       = \"log_sol\")\n",
        "\n",
        "\n",
        "    model = mdm_model.create_model(x_train.shape[1])\n",
        "\n",
        "    es = EarlyStopping(monitor='val_loss', mode='min', verbose=1, patience=config.patience)\n",
        "    os.system(f\"rm {config.best_model}\")\n",
        "    mc = ModelCheckpoint(f'{config.best_model}', monitor='val_loss', mode='min', save_best_only=True, verbose=1)\n",
        "\n",
        "    result = model.fit(x_train, y_train, batch_size = config.batch_size, epochs = config.max_epochs,\n",
        "              verbose = 2, validation_data = (x_val,y_val), callbacks = [es,mc])\n",
        "\n",
        "\n",
        "    print(f\"training completed at {datetime.datetime.now()}\")\n",
        "\n",
        "    \n",
        "if __name__ == \"__main__\":\n",
        "    run()"
      ]
    },
    {
      "cell_type": "markdown",
      "metadata": {
        "id": "LDNXFdTjAckV"
      },
      "source": [
        "##Predict"
      ]
    },
    {
      "cell_type": "code",
      "execution_count": null,
      "metadata": {
        "id": "qRiOcAaC_2Y9"
      },
      "outputs": [],
      "source": [
        "from sklearn.metrics import mean_squared_error\n",
        "from sklearn.metrics import r2_score\n",
        "from scipy.stats import spearmanr\n",
        "import numpy as np\n",
        "from keras.models import load_model\n",
        "#import config\n",
        "#import mdm_utils\n",
        "mdm_model=md_mo()\n",
        "config=md_co()\n",
        "mdm_utils=md_ut()"
      ]
    },
    {
      "cell_type": "code",
      "execution_count": null,
      "metadata": {
        "colab": {
          "base_uri": "https://localhost:8080/",
          "height": 1000
        },
        "id": "_UJxHi5k_-Tm",
        "outputId": "d2819820-2e26-4810-8fcc-4f3ed0d47303"
      },
      "outputs": [
        {
          "name": "stdout",
          "output_type": "stream",
          "text": [
            "train results\n",
            "311/311 [==============================] - 1s 2ms/step\n",
            "r2: 0.9011\n",
            "sp: 0.9486\n",
            "rmse: 0.6918\n",
            "mae: 0.4784\n"
          ]
        },
        {
          "data": {
            "image/png": "[encoded data removed]",
            "text/plain": [
              "<Figure size 640x480 with 1 Axes>"
            ]
          },
          "metadata": {},
          "output_type": "display_data"
        },
        {
          "name": "stdout",
          "output_type": "stream",
          "text": [
            "val results\n",
            "28/28 [==============================] - 0s 2ms/step\n",
            "r2: 0.8186\n",
            "sp: 0.9058\n",
            "rmse: 0.9487\n",
            "mae: 0.6396\n"
          ]
        },
        {
          "data": {
            "image/png": "[encoded data removed]",
            "text/plain": [
              "<Figure size 640x480 with 1 Axes>"
            ]
          },
          "metadata": {},
          "output_type": "display_data"
        },
        {
          "name": "stdout",
          "output_type": "stream",
          "text": [
            "test results\n",
            "28/28 [==============================] - 0s 2ms/step\n",
            "r2: 0.7792\n",
            "sp: 0.8852\n",
            "rmse: 1.0309\n",
            "mae: 0.6573\n"
          ]
        },
        {
          "data": {
            "image/png": "[encoded data removed]",
            "text/plain": [
              "<Figure size 640x480 with 1 Axes>"
            ]
          },
          "metadata": {},
          "output_type": "display_data"
        }
      ],
      "source": [
        "x_train = np.loadtxt(\"./input/x_train.txt\")\n",
        "x_val = np.loadtxt(\"./input/x_val.txt\")\n",
        "x_test = np.loadtxt(\"./input/x_test.txt\")\n",
        "\n",
        "y_train = np.loadtxt(\"./input/y_train.txt\")\n",
        "y_val = np.loadtxt(\"./input/y_val.txt\")\n",
        "y_test = np.loadtxt(\"./input/y_test.txt\")\n",
        "\n",
        "model = load_model(config.best_model)\n",
        "# make predictions\n",
        "mdm_utils.get_results(db_name='train', X=x_train, y=y_train, model=model)\n",
        "mdm_utils.get_results(db_name='val', X=x_val, y=y_val, model=model)\n",
        "mdm_utils.get_results(db_name='test', X=x_test, y=y_test, model=model)"
      ]
    },
    {
      "cell_type": "markdown",
      "metadata": {
        "id": "TEhJw7U1bN6U"
      },
      "source": [
        "# **SCH**"
      ]
    },
    {
      "cell_type": "markdown",
      "metadata": {
        "id": "2eTpYsoPbW0_"
      },
      "source": [
        "## Config"
      ]
    },
    {
      "cell_type": "code",
      "execution_count": 30,
      "metadata": {
        "id": "ZEVBaSxZbYqu"
      },
      "outputs": [],
      "source": [
        "class sc_co:\n",
        "  data_dir = \"/content/data/\"\n",
        "  xyz_dir = \"/content/pybel_xyz/no_H/\"\n",
        "  create_data = True\n",
        "  max_epochs = 1000\n",
        "  lr = 1e-3\n",
        "  patience = 25\n",
        "  batch_size = 16\n",
        "  best_model = 'sch_best.pt'"
      ]
    },
    {
      "cell_type": "markdown",
      "metadata": {
        "id": "fVuUfBajbZ0J"
      },
      "source": [
        "## Model"
      ]
    },
    {
      "cell_type": "code",
      "execution_count": null,
      "metadata": {
        "id": "VqVjQE0hg1zS"
      },
      "outputs": [],
      "source": [
        "import schnetpack\n",
        "import schnetpack.atomistic as atm\n",
        "import torch\n",
        "import schnetpack.representation as rep\n",
        "import torch.nn as nn\n",
        "import math\n",
        "\n",
        "\n",
        "class sc_mo:\n",
        "\n",
        "  class MolecularOutput(atm.Atomwise):\n",
        "    def __init__(self, property_name, n_in=128, n_out=1, aggregation_mode='sum',\n",
        "                 n_layers=2, n_neurons=None,\n",
        "                 activation=schnetpack.nn.activations.shifted_softplus,\n",
        "                 outnet=None):\n",
        "        super(MolecularOutput, self).__init__(n_in, n_out)\n",
        "        self.property_name = property_name\n",
        "        self.n_layers = n_layers\n",
        "        self.create_graph = False\n",
        "        \n",
        "        if outnet is None:\n",
        "            self.out_net = nn.Sequential(\n",
        "                schnetpack.nn.base.GetItem('representation'),\n",
        "                schnetpack.nn.blocks.MLP(n_in, n_out, n_neurons, n_layers, activation)\n",
        "            )\n",
        "        else:\n",
        "            self.out_net = outnet\n",
        "        \n",
        "        if aggregation_mode == 'sum':\n",
        "            self.atom_pool = schnetpack.nn.base.Aggregate(axis=1, mean=False)\n",
        "        elif aggregation_mode == 'avg':\n",
        "            self.atom_pool = schnetpack.nn.base.Aggregate(axis=1, mean=True)\n",
        "    \n",
        "    def forward(self, inputs):\n",
        "        r\"\"\"\n",
        "        predicts molecular property\n",
        "        \"\"\"\n",
        "        atom_mask = inputs[schnetpack.Properties.atom_mask]\n",
        "\n",
        "        yi = self.out_net(inputs)\n",
        "        y = self.atom_pool(yi, atom_mask)\n",
        "\n",
        "        result = {self.property_name: y}\n",
        "\n",
        "        return result\n",
        "  \n",
        "  output_key = \"sol\"\n",
        "  target_key = \"sol\"\n",
        "\n",
        "  space = {'n_atom_basis': [64, 128],\n",
        "         'n_filters':  [64,128],\n",
        "         'n_interactions':  [3,4,5,6,7,8,9,10],\n",
        "         'n_layers':  [1,2,3,4],\n",
        "         'aggregation_mode':  ['sum', 'avg']\n",
        "        }\n",
        "\n",
        "  args = {'aggregation_mode': 1, 'n_atom_basis': 0, 'n_filters': 1, 'n_interactions': 2, 'n_layers': 3}\n",
        "\n",
        "  reps = rep.SchNet(n_atom_basis =  space['n_atom_basis'][ args['n_atom_basis']  ], \n",
        "                  n_filters =   space['n_filters'][ args['n_filters'] ]  , \n",
        "                  n_interactions = space['n_interactions'][ args['n_interactions']  ] )\n",
        "\n",
        "  output = MolecularOutput(property_name='sol', n_in=  space['n_atom_basis'][ args['n_atom_basis'] ],  \n",
        "                         aggregation_mode = space['aggregation_mode'][ args['aggregation_mode'] ], \n",
        "                         n_layers = space['n_layers'][ args['n_layers'] ]\n",
        "                        )\n",
        "\n",
        "\n",
        "  model = atm.AtomisticModel(reps, output)\n",
        " \n",
        "    \n"
      ]
    },
    {
      "cell_type": "code",
      "source": [
        "class MolecularOutput(atm.Atomwise):\n",
        "    def __init__(self, property_name, n_in=128, n_out=1, aggregation_mode='sum',\n",
        "                 n_layers=2, n_neurons=None,\n",
        "                 activation=schnetpack.nn.activations.shifted_softplus,\n",
        "                 outnet=None):\n",
        "        super(MolecularOutput, self).__init__(n_in, n_out)\n",
        "        self.property_name = property_name\n",
        "        self.n_layers = n_layers\n",
        "        self.create_graph = False\n",
        "        \n",
        "        if outnet is None:\n",
        "            self.out_net = nn.Sequential(\n",
        "                schnetpack.nn.base.GetItem('representation'),\n",
        "                schnetpack.nn.blocks.MLP(n_in, n_out, n_neurons, n_layers, activation)\n",
        "            )\n",
        "        else:\n",
        "            self.out_net = outnet\n",
        "        \n",
        "        if aggregation_mode == 'sum':\n",
        "            self.atom_pool = schnetpack.nn.base.Aggregate(axis=1, mean=False)\n",
        "        elif aggregation_mode == 'avg':\n",
        "            self.atom_pool = schnetpack.nn.base.Aggregate(axis=1, mean=True)\n",
        "            \n",
        "    def forward(self, inputs):\n",
        "        r\"\"\"\n",
        "        predicts molecular property\n",
        "        \"\"\"\n",
        "        atom_mask = inputs[schnetpack.Properties.atom_mask]\n",
        "\n",
        "        yi = self.out_net(inputs)\n",
        "        y = self.atom_pool(yi, atom_mask)\n",
        "\n",
        "        result = {self.property_name: y}\n",
        "\n",
        "        return result\n",
        "    \n",
        "    \n",
        "    \n",
        "output_key = \"sol\"\n",
        "target_key = \"sol\"\n",
        "\n",
        "space = {'n_atom_basis': [64, 128],\n",
        "         'n_filters':  [64,128],\n",
        "         'n_interactions':  [3,4,5,6,7,8,9,10],\n",
        "         'n_layers':  [1,2,3,4],\n",
        "         'aggregation_mode':  ['sum', 'avg']\n",
        "        }\n",
        "\n",
        "args = {'aggregation_mode': 1, 'n_atom_basis': 0, 'n_filters': 1, 'n_interactions': 2, 'n_layers': 3}\n",
        "\n",
        "def cutoff_fn_1(distance, cutoff_radius):\n",
        "    return torch.exp(-distance / cutoff_radius)\n",
        "radial_basis = 5\n",
        "cutoff_radius = 5.0  # Cutoff radius for interactions\n",
        "distance = torch.tensor([2.0, 3.0, 4.0])  # Example distances between atoms\n",
        "\n",
        "reps = rep.SchNet(n_atom_basis =  space['n_atom_basis'][ args['n_atom_basis']  ], \n",
        "                  n_filters =   space['n_filters'][ args['n_filters'] ]  , \n",
        "                  n_interactions = space['n_interactions'][ args['n_interactions']],\n",
        "                  radial_basis = 5)\n",
        "\n",
        "output = MolecularOutput(property_name='sol', n_in=  space['n_atom_basis'][ args['n_atom_basis'] ],  \n",
        "                         aggregation_mode = space['aggregation_mode'][ args['aggregation_mode'] ], \n",
        "                         n_layers = space['n_layers'][ args['n_layers'] ]\n",
        "                        )\n",
        "\n",
        "\n",
        "model = atm.AtomisticModel(reps, output)"
      ],
      "metadata": {
        "id": "p3XGkVEKj03u"
      },
      "execution_count": null,
      "outputs": []
    },
    {
      "cell_type": "markdown",
      "metadata": {
        "id": "L5Hi2ezMbgR_"
      },
      "source": [
        "## Utils"
      ]
    },
    {
      "cell_type": "code",
      "execution_count": null,
      "metadata": {
        "id": "sNwLypOGblVH"
      },
      "outputs": [],
      "source": [
        "import torch\n",
        "import numpy as np\n",
        "from rdkit import Chem\n",
        "import multiprocessing\n",
        "import logging\n",
        "from torch_geometric.data import Data\n",
        "import pandas as pd\n",
        "import ase\n",
        "from rdkit import Chem\n",
        "from ase import Atoms\n",
        "import ase.visualize\n",
        "import numpy as npz\n",
        "import schnetpack\n",
        "import torch.nn.functional as F\n",
        "from torch.optim import Adam\n",
        "import schnetpack.atomistic as atm\n",
        "import schnetpack.representation as rep\n",
        "from schnetpack.datasets import ASEAtomsData\n",
        "#from schnetpack import AtomsData\n",
        "from torch.optim import Adam\n",
        "from torch.optim.lr_scheduler import MultiStepLR\n",
        "from tqdm import tqdm\n",
        "import matplotlib.pyplot as plt\n",
        "import config\n",
        "from sklearn.metrics import mean_squared_error\n",
        "from sklearn.metrics import r2_score\n",
        "from scipy.stats import spearmanr\n",
        "from sklearn.metrics import mean_absolute_error\n",
        "\n",
        "class EarlyStopping:\n",
        "    \"\"\"Early stops the training if validation loss doesn't improve after a given patience.\"\"\"\n",
        "    def __init__(self, patience=7, verbose=False, delta=0, chkpoint_name='best_model.pt'):\n",
        "        \"\"\"\n",
        "        Args:\n",
        "            patience (int): How long to wait after last time validation loss improved.\n",
        "                            Default: 7\n",
        "            verbose (bool): If True, prints a message for each validation loss improvement. \n",
        "                            Default: False\n",
        "            delta (float): Minimum change in the monitored quantity to qualify as an improvement.\n",
        "                            Default: 0\n",
        "        \"\"\"\n",
        "        self.patience = patience\n",
        "        self.verbose = verbose\n",
        "        self.counter = 0\n",
        "        self.best_score = None\n",
        "        self.early_stop = False\n",
        "        self.val_loss_min = np.Inf\n",
        "        self.delta = delta\n",
        "        self.chkpoint_name = chkpoint_name\n",
        "\n",
        "    def __call__(self, val_loss, model):\n",
        "\n",
        "        score = -val_loss\n",
        "\n",
        "        if self.best_score is None:\n",
        "            self.best_score = score\n",
        "            self.save_checkpoint(val_loss, model)\n",
        "        elif score < self.best_score + self.delta:\n",
        "            self.counter += 1\n",
        "            print(f'EarlyStopping counter: {self.counter} out of {self.patience}')\n",
        "            if self.counter >= self.patience:\n",
        "                self.early_stop = True\n",
        "        else:\n",
        "            self.best_score = score\n",
        "            self.save_checkpoint(val_loss, model)\n",
        "            self.counter = 0\n",
        "\n",
        "    def save_checkpoint(self, val_loss, model):\n",
        "        '''Saves model when validation loss decrease.'''\n",
        "        if self.verbose:\n",
        "            print(f'Validation loss decreased ({self.val_loss_min:.6f} --> {val_loss:.6f}).  Saving model ...')\n",
        "        torch.save(model.state_dict(), self.chkpoint_name)\n",
        "        self.val_loss_min = val_loss\n",
        "        \n",
        "        \n",
        "        \n",
        "\n",
        "class sc_ut():\n",
        "\n",
        "  def get_xyz(self,path):\n",
        "    f = open(path, 'r')\n",
        "    f = f.readlines()\n",
        "    atoms = f[2:]\n",
        "    \n",
        "    natoms = int(f[0].strip('\\n'))\n",
        "    \n",
        "    \n",
        "    atom_z = [atoms[i].split()[0] for i in range(natoms)]\n",
        "    pos = [[float(atoms[i].split()[1:][j]) for j in range(3)] for i in range(natoms)]\n",
        "    \n",
        "    return atom_z, np.array(pos)\n",
        "\n",
        "\n",
        "  def create_db(self,dfx, db_name, db_dir, id_col, xyz_dir):\n",
        "    \n",
        "    atoms_list = []\n",
        "    properties_list = []\n",
        "    for i in tqdm(range(dfx.shape[0])):\n",
        "\n",
        "        cas = dfx[id_col].values[i]\n",
        "        cas = str(cas)\n",
        "        path = xyz_dir + cas + \"_noH.xyz\"\n",
        "        #path = xyz_dir + cas+ \".xyz\"\n",
        "        if(os.path.isdir(path)):\n",
        "            Z_atoms, positions_new = sch_utils.get_xyz(path)\n",
        "        \n",
        "            atoms = Atoms(symbols = Z_atoms, positions = positions_new)\n",
        "\n",
        "            atoms_list.append(atoms)\n",
        "            solx = dfx.log_sol.values[i]\n",
        "        #solx = solx.astype('float16').reshape(1,) \n",
        "        \n",
        "            smiles = dfx.smiles.values[i]\n",
        "            smiles = np.array(smiles).reshape(1,) \n",
        "        \n",
        "            properties_list.append({'sol': solx})\n",
        "\n",
        "    db_name = db_name+\".db\"\n",
        "    #new_db = AtomsData(db_dir+\"/\"+db_name, available_properties=['sol'])\n",
        "    new_db = AtomsData(db_dir+db_name)\n",
        "    new_db.add_systems(atoms_list, properties_list)\n",
        "    \n",
        "    \n",
        "    \n",
        "  def valid_fn(self,loader, model, device):\n",
        "\n",
        "    model.eval()\n",
        "\n",
        "    # predict molecular properties\n",
        "    targets = []\n",
        "    predictions = []\n",
        "    with torch.no_grad():\n",
        "        for batch in loader:\n",
        "            batch = {\n",
        "                k: v.to(device)\n",
        "                for k, v in batch.items()\n",
        "            }\n",
        "            result = model(batch)\n",
        "            targets += batch['sol'].cpu().squeeze().tolist()\n",
        "            predictions += result['sol'].cpu().squeeze().tolist()\n",
        "\n",
        "    predictions = np.array(predictions)\n",
        "    targets = np.array(targets)\n",
        "    \n",
        "    return targets, predictions\n",
        "        \n",
        "    \n",
        "  def get_results(self,db_name, loader, model, device):\n",
        "\n",
        "    print(f\"{db_name} results\")\n",
        "    \n",
        "    model.eval()\n",
        "\n",
        "    # predict molecular properties\n",
        "    targets = []\n",
        "    predictions = []\n",
        "    with torch.no_grad():\n",
        "        for batch in loader:\n",
        "            batch = {\n",
        "                k: v.to(device)\n",
        "                for k, v in batch.items()\n",
        "            }\n",
        "            result = model(batch)\n",
        "            targets += batch['sol'].cpu().squeeze().tolist()\n",
        "            predictions += result['sol'].cpu().squeeze().tolist()\n",
        "            \n",
        "    pred = np.array(predictions)\n",
        "    y = np.array(targets)\n",
        "    \n",
        "    r2 = r2_score(y_pred = pred, y_true = y)\n",
        "    rmse = mean_squared_error(y_pred = pred, y_true = y)**.5\n",
        "    sp = spearmanr(pred, y)[0]\n",
        "    mae = mean_absolute_error(y_pred = pred, y_true = y)\n",
        "\n",
        "    print(\"r2: {0:.4f}\".format(r2) )\n",
        "    print(\"sp: {0:.4f}\".format(sp) )\n",
        "    print(\"rmse: {0:.4f}\".format(rmse) )\n",
        "    print(\"mae: {0:.4f}\".format(mae) )\n",
        "\n",
        "    plt.plot( y, pred, 'o')\n",
        "    plt.xlabel(\"True (logS)\", fontsize=15, fontweight='bold');\n",
        "    plt.ylabel(\"Predicted (logS)\", fontsize=15, fontweight='bold');\n",
        "    plt.show()\n",
        "    "
      ]
    },
    {
      "cell_type": "markdown",
      "metadata": {
        "id": "HiSDlEL5bmGP"
      },
      "source": [
        "## Train"
      ]
    },
    {
      "cell_type": "code",
      "execution_count": null,
      "metadata": {
        "id": "F-CEyFbQbnwQ"
      },
      "outputs": [],
      "source": [
        "import time\n",
        "import os\n",
        "import numpy as np\n",
        "import torch\n",
        "import pandas as pd\n",
        "from sklearn.metrics import mean_squared_error\n",
        "import ase\n",
        "from rdkit import Chem\n",
        "from ase import Atoms\n",
        "import schnetpack\n",
        "import torch.nn.functional as F\n",
        "from torch.optim import Adam\n",
        "import schnetpack.atomistic as atm\n",
        "import schnetpack.representation as rep\n",
        "import torch.nn as nn\n",
        "import pickle\n",
        "#import sch_utils\n",
        "#import config\n",
        "import schnetpack as spk\n",
        "from schnetpack.datasets import ASEAtomsData as AtomsData\n",
        "#import sch_model\n",
        "from sklearn.metrics import mean_squared_error\n",
        "from sklearn.metrics import r2_score\n",
        "from scipy.stats import spearmanr\n",
        "from sklearn.metrics import mean_absolute_error\n",
        "import datetime\n",
        "\n",
        "sch_utils=sc_ut()\n",
        "config=sc_co()\n",
        "sch_model=sc_mo()\n",
        "\n",
        "def run():\n",
        "    \n",
        "    train = pd.read_csv(config.data_dir+\"train.csv\")\n",
        "    val = pd.read_csv(config.data_dir+\"val.csv\")\n",
        "    test = pd.read_csv(config.data_dir+\"test.csv\")\n",
        "\n",
        "    # create dbs\n",
        "    if config.create_data:        \n",
        "        sch_utils.create_db(test, \"schtest\", config.data_dir, 'cas', config.xyz_dir )\n",
        "        sch_utils.create_db(train, \"schtrain\", config.data_dir, 'cas', config.xyz_dir )\n",
        "        sch_utils.create_db(val, \"schval\", config.data_dir, 'cas', config.xyz_dir )\n",
        "        \n",
        "    \n",
        "    train = AtomsData(config.data_dir+'schtrain.db', available_properties=['sol'])\n",
        "    val = AtomsData(config.data_dir+'schval.db', available_properties=['sol'])\n",
        "    test = AtomsData(config.data_dir+'schtest.db', available_properties=['sol'])\n",
        "\n",
        "    train_loader = spk.AtomsLoader(train, batch_size=config.batch_size, shuffle=True, drop_last=True)\n",
        "    val_loader = spk.AtomsLoader(val, batch_size=config.batch_size, shuffle=True, drop_last=True)\n",
        "    test_loader = spk.AtomsLoader(test, batch_size=config.batch_size, shuffle=False, drop_last=True)\n",
        "\n",
        "\n",
        "    device = torch.device('cuda' if torch.cuda.is_available() else 'cpu')\n",
        "    max_epochs = config.max_epochs\n",
        "    model = sch_model.model\n",
        "    model = model.to(device)\n",
        "    optimizer = Adam(model.parameters(), lr=config.lr)\n",
        "    criterian = nn.MSELoss()\n",
        "\n",
        "\n",
        "    early_stopping = sch_utils.EarlyStopping(patience=config.patience, verbose=True, chkpoint_name = config.best_model)\n",
        "    os.system(f\"rm {config.best_model}\")\n",
        "    hist = {\"train_mse\":[], \"val_mse\":[]}\n",
        "    for i in range(max_epochs):\n",
        "        model.train();\n",
        "        for batch in train_loader:\n",
        "\n",
        "\n",
        "            batch = {\n",
        "                k: v.to(device)\n",
        "                for k, v in batch.items()\n",
        "            }\n",
        "            optimizer.zero_grad()\n",
        "            result = model(batch)\n",
        "            loss = criterian(result['sol'], batch['sol'])\n",
        "            loss.backward()\n",
        "            optimizer.step()\n",
        "\n",
        "        tr_true, tr_pred = sch_utils.valid_fn(train_loader, model, device)\n",
        "        tr_loss = mean_squared_error(y_pred=tr_pred, y_true=tr_true)\n",
        "\n",
        "        val_true, val_pred = sch_utils.valid_fn(val_loader, model, device)\n",
        "        validation_loss = mean_squared_error(y_pred=val_pred, y_true=val_true)\n",
        "\n",
        "        hist['train_mse'].append(tr_loss)\n",
        "        hist['val_mse'].append(validation_loss)\n",
        "\n",
        "\n",
        "        print(validation_loss)\n",
        "        early_stopping(validation_loss, model)\n",
        "\n",
        "        if early_stopping.early_stop:\n",
        "            print(\"Early stopping\")\n",
        "            break\n",
        "\n",
        "    print(f\"training completed at {datetime.datetime.now()}\")\n",
        "    \n",
        "    \n",
        "if __name__ == \"__main__\":\n",
        "    run()    \n",
        "        \n",
        "    "
      ]
    },
    {
      "cell_type": "markdown",
      "source": [
        "##Predict"
      ],
      "metadata": {
        "id": "qaTSjF0xSGRD"
      }
    },
    {
      "cell_type": "code",
      "source": [
        "#import sch_model\n",
        "#import sch_utils\n",
        "import pandas as pd\n",
        "import config\n",
        "from schnetpack.datasets import ASEAtomsData\n",
        "import schnetpack as spk\n",
        "import torch\n",
        "from sklearn.metrics import mean_squared_error\n",
        "from sklearn.metrics import r2_score\n",
        "from scipy.stats import spearmanr\n",
        "from sklearn.metrics import mean_absolute_error\n",
        "import schnetpack.atomistic as atm\n",
        "import schnetpack.representation as rep\n",
        "import schnetpack\n",
        "import torch.nn as nn\n",
        "\n",
        "sch_model=sc_mo()\n",
        "sch_utils=sc_ut()"
      ],
      "metadata": {
        "id": "qtuyDjbmSJJb"
      },
      "execution_count": 19,
      "outputs": []
    },
    {
      "cell_type": "code",
      "source": [
        "device = torch.device(\"cuda\")\n",
        "model = sch_model.model\n",
        "model = model.to(device)\n",
        "model.load_state_dict(torch.load('/content/sch_paper.pt'))\n",
        "\n",
        "# load data\n",
        "train = AtomsData(config.data_dir+'schtrain.db', available_properties=['sol'])\n",
        "val = AtomsData(config.data_dir+'schval.db', available_properties=['sol'])\n",
        "test = AtomsData(config.data_dir+'schtest.db', available_properties=['sol'])\n",
        "\n",
        "train_loader = spk.AtomsLoader(train, batch_size=config.batch_size, shuffle=False, drop_last=True)\n",
        "val_loader = spk.AtomsLoader(val, batch_size=config.batch_size, shuffle=False, drop_last=True)\n",
        "test_loader = spk.AtomsLoader(test, batch_size=config.batch_size, shuffle=False, drop_last=True)\n",
        "# make predictions\n",
        "sch_utils.get_results(\"train\", train_loader, model, device)\n",
        "sch_utils.get_results(\"val\", val_loader, model, device)\n",
        "sch_utils.get_results(\"test\", test_loader, model, device)"
      ],
      "metadata": {
        "id": "OV_YqHeLSMwv"
      },
      "execution_count": null,
      "outputs": []
    },
    {
      "cell_type": "markdown",
      "metadata": {
        "id": "RZVGffmvb1L5"
      },
      "source": [
        "# **SMI**"
      ]
    },
    {
      "cell_type": "markdown",
      "metadata": {
        "id": "RxL6BzcJb_OG"
      },
      "source": [
        "## Config"
      ]
    },
    {
      "cell_type": "code",
      "execution_count": null,
      "metadata": {
        "id": "yE2jD99Hb-jj"
      },
      "outputs": [],
      "source": [
        "class sm_co:\n",
        "  data_dir=\"/content/data/\"\n",
        "  best_model = \"smi_best.h5\"\n",
        "  max_epochs = 100\n",
        "  patience=25\n",
        "  batch_size = 128\n",
        "  lr = 10**-3\n"
      ]
    },
    {
      "cell_type": "markdown",
      "metadata": {
        "id": "8bQiBhsBcBwA"
      },
      "source": [
        "## Model"
      ]
    },
    {
      "cell_type": "code",
      "execution_count": null,
      "metadata": {
        "id": "rfCqi_emcDqH"
      },
      "outputs": [],
      "source": [
        "import keras\n",
        "from keras.models import Sequential\n",
        "from keras.layers import Dense, Activation\n",
        "from keras.layers import LSTM, Dropout, Bidirectional\n",
        "from keras.layers import Embedding\n",
        "#import config\n",
        "config=sm_co()\n",
        "class sm_mo:\n",
        "  \n",
        "  def create_model(self,max_features, maxlen):\n",
        "    args = {'a1': 2, 'a3': 0, 'a4': 0, 'a5': 0, 'bs': 2, 'd1': 0.08607118576024131, 'd2': 0.4730059911045743, \\\n",
        "        'd3': 0.186637772607526, 'd4': 0.27122468227787655, 'd5': 0.15564916131523265, \\\n",
        "        'ed': 960.0, 'h1': 704.0, 'h3': 640.0, 'h4': 704.0, 'h5': 576.0, 'lr': 0, 'ls1': 256.0, 'nfc': 0, 'opt': 2}\n",
        "\n",
        "    act = {0:'relu', 1:'selu', 2:'sigmoid'}\n",
        "    embedding_dim = 64\n",
        "    model = Sequential()\n",
        "    model.add(Embedding(max_features, int(args['ed']), input_length=maxlen))\n",
        "    model.add(LSTM( int(args['ls1']), return_sequences=True))\n",
        "    model.add(Dropout( args['d1'] ) )\n",
        "    model.add(Bidirectional(LSTM( int(args['ls1']) )))\n",
        "    model.add(Dropout( args['d2'] ))\n",
        "    model.add(Dense(int( args['h1'] )))\n",
        "    model.add(Activation( act[args['a1']] ))\n",
        "\n",
        "    model.add(Dense( int(args['h3']) ))\n",
        "    model.add(Activation( act[args['a3']] ))\n",
        "    model.add(Dropout( args['d3'] ))\n",
        "\n",
        "\n",
        "    model.add(Dense(1, activation = 'linear'))\n",
        "    adam = keras.optimizers.Adam( lr = config.lr )\n",
        "\n",
        "\n",
        "    model.compile(loss='mean_squared_error', optimizer=adam)\n",
        "    \n",
        "\n",
        "    return model"
      ]
    },
    {
      "cell_type": "markdown",
      "metadata": {
        "id": "9tYpGoAccD9C"
      },
      "source": [
        "## Utils"
      ]
    },
    {
      "cell_type": "code",
      "execution_count": null,
      "metadata": {
        "id": "MvsEIawmcKc4"
      },
      "outputs": [],
      "source": [
        "class sm_ut:\n",
        "  from sklearn.metrics import r2_score, mean_squared_error\n",
        "  from scipy.stats import spearmanr\n",
        "  import numpy as np\n",
        "  import matplotlib.pyplot as plt\n",
        "  import os\n",
        "  from scipy.stats import spearmanr\n",
        "  from sklearn.metrics import mean_absolute_error\n",
        "  import config\n",
        "\n",
        "  def val_results(self,x_valx, y_valx, lc_name, modelx):\n",
        "\n",
        "    model = modelx\n",
        "    \n",
        "    print(\"val scores\")\n",
        "    pred = model.predict(x_valx).reshape(-1,)\n",
        "    print(r2_score(y_pred = pred, y_true = y_valx))\n",
        "    print(mean_squared_error(y_pred = pred, y_true = y_valx)**.5)\n",
        "    print(spearmanr(pred, y_valx))\n",
        "\n",
        "\n",
        "  def test_results(self,x_testx, y_testx, acc_plot_name, modelx ):\n",
        "\n",
        "    model = modelx\n",
        "    \n",
        "    print(\"test scores\")\n",
        "    pred = model.predict(x_testx).reshape(-1,)\n",
        "    print(r2_score(y_pred=pred, y_true=y_testx))\n",
        "    print(mean_squared_error(y_pred=pred, y_true=y_testx)**.5)\n",
        "    print(spearmanr(pred, y_testx))\n",
        "\n",
        "\n",
        "  def get_data(self,trainx, valx, testx, all_smiles):\n",
        "    smiles_train = list(trainx.smiles.values.ravel())\n",
        "    smiles_val = list(valx.smiles.values.ravel())\n",
        "    smiles_test = list(testx.smiles.values.ravel())\n",
        "    #print('hi')\n",
        "\n",
        "    smiles = all_smiles\n",
        "    \n",
        "    chars = sorted(list(set(''.join(list(smiles)))))\n",
        "    int2char = dict(enumerate(chars,1))\n",
        "    char2int = {char:ind for ind,char in int2char.items()}\n",
        "\n",
        "    maxlen = max([len(x) for x in smiles])\n",
        "\n",
        "    def tokenize(x):\n",
        "      x = list(x)\n",
        "      x = [char2int[c] for c in x] + [0]*(maxlen - len(x))\n",
        "      return(x)\n",
        "\n",
        "    X_train = np.array([tokenize(sm) for sm in smiles_train])\n",
        "    X_val = np.array([tokenize(sm) for sm in smiles_val])\n",
        "    X_test = np.array([tokenize(sm) for sm in smiles_test])\n",
        "\n",
        "    smiles_len = (X_train > 0.0).sum(axis=1)\n",
        "    max_features = len(chars) + 1 \n",
        "    \n",
        "    os.makedirs(\"input\", exist_ok=True)\n",
        "    np.savetxt(\"./input/x_train.txt\", X_train)\n",
        "    np.savetxt(\"./input/x_val.txt\", X_val)\n",
        "    np.savetxt(\"./input/x_test.txt\", X_test)\n",
        "    np.savetxt(\"./input/y_train.txt\", trainx.log_sol.values)\n",
        "    np.savetxt(\"./input/y_val.txt\", valx.log_sol.values)\n",
        "    np.savetxt(\"./input/y_test.txt\", testx.log_sol.values)\n",
        "    \n",
        "    \n",
        "    return X_train, X_val, X_test, trainx.log_sol.values, valx.log_sol.values, testx.log_sol.values,max_features, maxlen, tokenize \n",
        "\n",
        "\n",
        "  def get_results(self,db_name,X, y, model):\n",
        "    \n",
        "    print(f\"{db_name} results\")\n",
        "    pred = model.predict(X).ravel()\n",
        "\n",
        "    r2 = r2_score(y_pred = pred, y_true = y)\n",
        "    rmse = mean_squared_error(y_pred = pred, y_true = y)**.5\n",
        "    sp = spearmanr(pred, y)[0]\n",
        "    mae = mean_absolute_error(y_pred = pred, y_true = y)\n",
        "\n",
        "    print(\"r2: {0:.4f}\".format(r2) )\n",
        "    print(\"sp: {0:.4f}\".format(sp) )\n",
        "    print(\"rmse: {0:.4f}\".format(rmse) )\n",
        "    print(\"mae: {0:.4f}\".format(mae) )\n",
        "\n",
        "    plt.plot( y, pred, 'o')\n",
        "    plt.xlabel(\"True (logS)\", fontsize=15, fontweight='bold');\n",
        "    plt.ylabel(\"Predicted (logS)\", fontsize=15, fontweight='bold');\n",
        "    plt.show()\n"
      ]
    },
    {
      "cell_type": "markdown",
      "metadata": {
        "id": "jaCCGkn6cGTg"
      },
      "source": [
        "## Train"
      ]
    },
    {
      "cell_type": "code",
      "execution_count": null,
      "metadata": {
        "colab": {
          "base_uri": "https://localhost:8080/"
        },
        "id": "vgzyUBAicN3F",
        "outputId": "795c7b2f-964d-476c-b14b-59b75b5541b9"
      },
      "outputs": [
        {
          "name": "stdout",
          "output_type": "stream",
          "text": [
            "Epoch 1/100\n"
          ]
        },
        {
          "name": "stderr",
          "output_type": "stream",
          "text": [
            "/usr/local/lib/python3.10/dist-packages/keras/optimizers/legacy/adam.py:117: UserWarning: The `lr` argument is deprecated, use `learning_rate` instead.\n",
            "  super().__init__(name, **kwargs)\n"
          ]
        },
        {
          "name": "stdout",
          "output_type": "stream",
          "text": [
            "78/78 [==============================] - ETA: 0s - loss: 3.6420\n",
            "Epoch 1: val_loss improved from inf to 1.72368, saving model to smi_best.h5\n",
            "78/78 [==============================] - 18s 173ms/step - loss: 3.6420 - val_loss: 1.7237\n",
            "Epoch 2/100\n",
            "78/78 [==============================] - ETA: 0s - loss: 1.7620\n",
            "Epoch 2: val_loss did not improve from 1.72368\n",
            "78/78 [==============================] - 13s 167ms/step - loss: 1.7620 - val_loss: 2.1210\n",
            "Epoch 3/100\n",
            "78/78 [==============================] - ETA: 0s - loss: 1.5527\n",
            "Epoch 3: val_loss improved from 1.72368 to 1.57301, saving model to smi_best.h5\n",
            "78/78 [==============================] - 13s 167ms/step - loss: 1.5527 - val_loss: 1.5730\n",
            "Epoch 4/100\n",
            "78/78 [==============================] - ETA: 0s - loss: 1.4610\n",
            "Epoch 4: val_loss improved from 1.57301 to 1.42126, saving model to smi_best.h5\n",
            "78/78 [==============================] - 13s 162ms/step - loss: 1.4610 - val_loss: 1.4213\n",
            "Epoch 5/100\n",
            "78/78 [==============================] - ETA: 0s - loss: 1.3918\n",
            "Epoch 5: val_loss improved from 1.42126 to 1.38117, saving model to smi_best.h5\n",
            "78/78 [==============================] - 13s 161ms/step - loss: 1.3918 - val_loss: 1.3812\n",
            "Epoch 6/100\n",
            "78/78 [==============================] - ETA: 0s - loss: 1.3450\n",
            "Epoch 6: val_loss improved from 1.38117 to 1.30936, saving model to smi_best.h5\n",
            "78/78 [==============================] - 12s 160ms/step - loss: 1.3450 - val_loss: 1.3094\n",
            "Epoch 7/100\n",
            "78/78 [==============================] - ETA: 0s - loss: 1.3220\n",
            "Epoch 7: val_loss did not improve from 1.30936\n",
            "78/78 [==============================] - 12s 159ms/step - loss: 1.3220 - val_loss: 1.3343\n",
            "Epoch 8/100\n",
            "78/78 [==============================] - ETA: 0s - loss: 1.3375\n",
            "Epoch 8: val_loss did not improve from 1.30936\n",
            "78/78 [==============================] - 12s 160ms/step - loss: 1.3375 - val_loss: 1.4175\n",
            "Epoch 9/100\n",
            "78/78 [==============================] - ETA: 0s - loss: 1.2817\n",
            "Epoch 9: val_loss did not improve from 1.30936\n",
            "78/78 [==============================] - 13s 161ms/step - loss: 1.2817 - val_loss: 1.3256\n",
            "Epoch 10/100\n",
            "78/78 [==============================] - ETA: 0s - loss: 1.1898\n",
            "Epoch 10: val_loss improved from 1.30936 to 1.21979, saving model to smi_best.h5\n",
            "78/78 [==============================] - 13s 163ms/step - loss: 1.1898 - val_loss: 1.2198\n",
            "Epoch 11/100\n",
            "78/78 [==============================] - ETA: 0s - loss: 1.1390\n",
            "Epoch 11: val_loss improved from 1.21979 to 1.20574, saving model to smi_best.h5\n",
            "78/78 [==============================] - 13s 162ms/step - loss: 1.1390 - val_loss: 1.2057\n",
            "Epoch 12/100\n",
            "78/78 [==============================] - ETA: 0s - loss: 1.0901\n",
            "Epoch 12: val_loss did not improve from 1.20574\n",
            "78/78 [==============================] - 12s 160ms/step - loss: 1.0901 - val_loss: 1.2798\n",
            "Epoch 13/100\n",
            "78/78 [==============================] - ETA: 0s - loss: 1.0485\n",
            "Epoch 13: val_loss did not improve from 1.20574\n",
            "78/78 [==============================] - 12s 160ms/step - loss: 1.0485 - val_loss: 1.3145\n",
            "Epoch 14/100\n",
            "78/78 [==============================] - ETA: 0s - loss: 0.9953\n",
            "Epoch 14: val_loss improved from 1.20574 to 1.14489, saving model to smi_best.h5\n",
            "78/78 [==============================] - 13s 162ms/step - loss: 0.9953 - val_loss: 1.1449\n",
            "Epoch 15/100\n",
            "78/78 [==============================] - ETA: 0s - loss: 0.9737\n",
            "Epoch 15: val_loss did not improve from 1.14489\n",
            "78/78 [==============================] - 12s 160ms/step - loss: 0.9737 - val_loss: 1.2372\n",
            "Epoch 16/100\n",
            "78/78 [==============================] - ETA: 0s - loss: 0.9407\n",
            "Epoch 16: val_loss improved from 1.14489 to 1.06798, saving model to smi_best.h5\n",
            "78/78 [==============================] - 13s 162ms/step - loss: 0.9407 - val_loss: 1.0680\n",
            "Epoch 17/100\n",
            "78/78 [==============================] - ETA: 0s - loss: 0.8882\n",
            "Epoch 17: val_loss did not improve from 1.06798\n",
            "78/78 [==============================] - 12s 160ms/step - loss: 0.8882 - val_loss: 1.1160\n",
            "Epoch 18/100\n",
            "78/78 [==============================] - ETA: 0s - loss: 0.8616\n",
            "Epoch 18: val_loss did not improve from 1.06798\n",
            "78/78 [==============================] - 13s 161ms/step - loss: 0.8616 - val_loss: 1.1781\n",
            "Epoch 19/100\n",
            "78/78 [==============================] - ETA: 0s - loss: 0.8346\n",
            "Epoch 19: val_loss did not improve from 1.06798\n",
            "78/78 [==============================] - 12s 160ms/step - loss: 0.8346 - val_loss: 1.1536\n",
            "Epoch 20/100\n",
            "78/78 [==============================] - ETA: 0s - loss: 0.8158\n",
            "Epoch 20: val_loss improved from 1.06798 to 1.06761, saving model to smi_best.h5\n",
            "78/78 [==============================] - 13s 162ms/step - loss: 0.8158 - val_loss: 1.0676\n",
            "Epoch 21/100\n",
            "78/78 [==============================] - ETA: 0s - loss: 0.7435\n",
            "Epoch 21: val_loss improved from 1.06761 to 1.03449, saving model to smi_best.h5\n",
            "78/78 [==============================] - 13s 163ms/step - loss: 0.7435 - val_loss: 1.0345\n",
            "Epoch 22/100\n",
            "78/78 [==============================] - ETA: 0s - loss: 0.7200\n",
            "Epoch 22: val_loss did not improve from 1.03449\n",
            "78/78 [==============================] - 12s 160ms/step - loss: 0.7200 - val_loss: 1.1372\n",
            "Epoch 23/100\n",
            "78/78 [==============================] - ETA: 0s - loss: 0.6997\n",
            "Epoch 23: val_loss did not improve from 1.03449\n",
            "78/78 [==============================] - 13s 161ms/step - loss: 0.6997 - val_loss: 1.0667\n",
            "Epoch 24/100\n",
            "78/78 [==============================] - ETA: 0s - loss: 0.7100\n",
            "Epoch 24: val_loss did not improve from 1.03449\n",
            "78/78 [==============================] - 12s 161ms/step - loss: 0.7100 - val_loss: 1.0920\n",
            "Epoch 25/100\n",
            "78/78 [==============================] - ETA: 0s - loss: 0.7078\n",
            "Epoch 25: val_loss did not improve from 1.03449\n",
            "78/78 [==============================] - 12s 160ms/step - loss: 0.7078 - val_loss: 1.1861\n",
            "Epoch 26/100\n",
            "78/78 [==============================] - ETA: 0s - loss: 0.6269\n",
            "Epoch 26: val_loss did not improve from 1.03449\n",
            "78/78 [==============================] - 12s 160ms/step - loss: 0.6269 - val_loss: 1.0626\n",
            "Epoch 27/100\n",
            "78/78 [==============================] - ETA: 0s - loss: 0.5685\n",
            "Epoch 27: val_loss did not improve from 1.03449\n",
            "78/78 [==============================] - 12s 160ms/step - loss: 0.5685 - val_loss: 1.0428\n",
            "Epoch 28/100\n",
            "78/78 [==============================] - ETA: 0s - loss: 0.5437\n",
            "Epoch 28: val_loss improved from 1.03449 to 1.02083, saving model to smi_best.h5\n",
            "78/78 [==============================] - 13s 163ms/step - loss: 0.5437 - val_loss: 1.0208\n",
            "Epoch 29/100\n",
            "78/78 [==============================] - ETA: 0s - loss: 0.5287\n",
            "Epoch 29: val_loss did not improve from 1.02083\n",
            "78/78 [==============================] - 12s 160ms/step - loss: 0.5287 - val_loss: 1.0756\n",
            "Epoch 30/100\n",
            "78/78 [==============================] - ETA: 0s - loss: 0.4923\n",
            "Epoch 30: val_loss did not improve from 1.02083\n",
            "78/78 [==============================] - 12s 160ms/step - loss: 0.4923 - val_loss: 1.1226\n",
            "Epoch 31/100\n",
            "78/78 [==============================] - ETA: 0s - loss: 0.4473\n",
            "Epoch 31: val_loss did not improve from 1.02083\n",
            "78/78 [==============================] - 13s 161ms/step - loss: 0.4473 - val_loss: 1.0534\n",
            "Epoch 32/100\n",
            "78/78 [==============================] - ETA: 0s - loss: 0.4213\n",
            "Epoch 32: val_loss did not improve from 1.02083\n",
            "78/78 [==============================] - 13s 164ms/step - loss: 0.4213 - val_loss: 1.0565\n",
            "Epoch 33/100\n",
            "78/78 [==============================] - ETA: 0s - loss: 0.4222\n",
            "Epoch 33: val_loss did not improve from 1.02083\n",
            "78/78 [==============================] - 12s 160ms/step - loss: 0.4222 - val_loss: 1.0407\n",
            "Epoch 34/100\n",
            "78/78 [==============================] - ETA: 0s - loss: 0.4334\n",
            "Epoch 34: val_loss did not improve from 1.02083\n",
            "78/78 [==============================] - 12s 160ms/step - loss: 0.4334 - val_loss: 1.0719\n",
            "Epoch 35/100\n",
            "78/78 [==============================] - ETA: 0s - loss: 0.3919\n",
            "Epoch 35: val_loss did not improve from 1.02083\n",
            "78/78 [==============================] - 13s 164ms/step - loss: 0.3919 - val_loss: 1.0580\n",
            "Epoch 36/100\n",
            "78/78 [==============================] - ETA: 0s - loss: 0.3635\n",
            "Epoch 36: val_loss did not improve from 1.02083\n",
            "78/78 [==============================] - 12s 160ms/step - loss: 0.3635 - val_loss: 1.1104\n",
            "Epoch 37/100\n",
            "78/78 [==============================] - ETA: 0s - loss: 0.3557\n",
            "Epoch 37: val_loss did not improve from 1.02083\n",
            "78/78 [==============================] - 13s 164ms/step - loss: 0.3557 - val_loss: 1.1070\n",
            "Epoch 38/100\n",
            "78/78 [==============================] - ETA: 0s - loss: 0.3297\n",
            "Epoch 38: val_loss did not improve from 1.02083\n",
            "78/78 [==============================] - 12s 160ms/step - loss: 0.3297 - val_loss: 1.0722\n",
            "Epoch 39/100\n",
            "78/78 [==============================] - ETA: 0s - loss: 0.3290\n",
            "Epoch 39: val_loss did not improve from 1.02083\n",
            "78/78 [==============================] - 12s 160ms/step - loss: 0.3290 - val_loss: 1.0600\n",
            "Epoch 40/100\n",
            "78/78 [==============================] - ETA: 0s - loss: 0.3149\n",
            "Epoch 40: val_loss did not improve from 1.02083\n",
            "78/78 [==============================] - 12s 160ms/step - loss: 0.3149 - val_loss: 1.0369\n",
            "Epoch 41/100\n",
            "78/78 [==============================] - ETA: 0s - loss: 0.3226\n",
            "Epoch 41: val_loss did not improve from 1.02083\n",
            "78/78 [==============================] - 12s 160ms/step - loss: 0.3226 - val_loss: 1.0878\n",
            "Epoch 42/100\n",
            "78/78 [==============================] - ETA: 0s - loss: 0.3406\n",
            "Epoch 42: val_loss did not improve from 1.02083\n",
            "78/78 [==============================] - 13s 161ms/step - loss: 0.3406 - val_loss: 1.1005\n",
            "Epoch 43/100\n",
            "78/78 [==============================] - ETA: 0s - loss: 0.2810\n",
            "Epoch 43: val_loss did not improve from 1.02083\n",
            "78/78 [==============================] - 12s 160ms/step - loss: 0.2810 - val_loss: 1.0965\n",
            "Epoch 44/100\n",
            "78/78 [==============================] - ETA: 0s - loss: 0.3219\n",
            "Epoch 44: val_loss did not improve from 1.02083\n",
            "78/78 [==============================] - 12s 160ms/step - loss: 0.3219 - val_loss: 1.1648\n",
            "Epoch 45/100\n",
            "78/78 [==============================] - ETA: 0s - loss: 0.2676\n",
            "Epoch 45: val_loss did not improve from 1.02083\n",
            "78/78 [==============================] - 13s 163ms/step - loss: 0.2676 - val_loss: 1.0523\n",
            "Epoch 46/100\n",
            "78/78 [==============================] - ETA: 0s - loss: 0.2485\n",
            "Epoch 46: val_loss did not improve from 1.02083\n",
            "78/78 [==============================] - 12s 160ms/step - loss: 0.2485 - val_loss: 1.1681\n",
            "Epoch 47/100\n",
            "78/78 [==============================] - ETA: 0s - loss: 0.3108\n",
            "Epoch 47: val_loss did not improve from 1.02083\n",
            "78/78 [==============================] - 13s 161ms/step - loss: 0.3108 - val_loss: 1.0723\n",
            "Epoch 48/100\n",
            "78/78 [==============================] - ETA: 0s - loss: 0.2468\n",
            "Epoch 48: val_loss did not improve from 1.02083\n",
            "78/78 [==============================] - 12s 160ms/step - loss: 0.2468 - val_loss: 1.0742\n",
            "Epoch 49/100\n",
            "78/78 [==============================] - ETA: 0s - loss: 0.2447\n",
            "Epoch 49: val_loss did not improve from 1.02083\n",
            "78/78 [==============================] - 12s 160ms/step - loss: 0.2447 - val_loss: 1.0473\n",
            "Epoch 50/100\n",
            "78/78 [==============================] - ETA: 0s - loss: 0.2401\n",
            "Epoch 50: val_loss did not improve from 1.02083\n",
            "78/78 [==============================] - 13s 164ms/step - loss: 0.2401 - val_loss: 1.0685\n",
            "Epoch 51/100\n",
            "78/78 [==============================] - ETA: 0s - loss: 0.2031\n",
            "Epoch 51: val_loss did not improve from 1.02083\n",
            "78/78 [==============================] - 13s 161ms/step - loss: 0.2031 - val_loss: 1.0259\n",
            "Epoch 52/100\n",
            "78/78 [==============================] - ETA: 0s - loss: 0.2027\n",
            "Epoch 52: val_loss did not improve from 1.02083\n",
            "78/78 [==============================] - 13s 161ms/step - loss: 0.2027 - val_loss: 1.0281\n",
            "Epoch 53/100\n",
            "78/78 [==============================] - ETA: 0s - loss: 0.1873\n",
            "Epoch 53: val_loss did not improve from 1.02083\n",
            "78/78 [==============================] - 13s 164ms/step - loss: 0.1873 - val_loss: 1.0980\n",
            "Epoch 53: early stopping\n",
            "training completed at 2023-05-26 03:27:26.405326\n"
          ]
        }
      ],
      "source": [
        "import keras\n",
        "import pandas as pd\n",
        "from keras.callbacks import EarlyStopping\n",
        "from keras.callbacks import ModelCheckpoint\n",
        "from sklearn.metrics import mean_squared_error\n",
        "from keras.preprocessing import sequence\n",
        "from keras import backend as K\n",
        "from keras.models import load_model\n",
        "from matplotlib import pyplot as plt\n",
        "import numpy as np\n",
        "from rdkit import Chem\n",
        "from sklearn.metrics import r2_score, mean_squared_error\n",
        "from scipy.stats import spearmanr\n",
        "import json\n",
        "import os\n",
        "#import smi_utils\n",
        "#import smi_model\n",
        "#import config\n",
        "import datetime\n",
        "smi_utils=sm_ut()\n",
        "smi_model=sm_mo()\n",
        "config=sm_co()\n",
        "\n",
        "def run():\n",
        "    \n",
        "    train = pd.read_csv(config.data_dir+\"train.csv\")\n",
        "    val = pd.read_csv(config.data_dir+\"val.csv\")\n",
        "    test = pd.read_csv(config.data_dir+\"test.csv\")\n",
        "\n",
        "    trainx, valx, testx = train, val, test\n",
        "    smiles_train = list(trainx.smiles.values.ravel())\n",
        "    smiles_val = list(valx.smiles.values.ravel())\n",
        "    smiles_test = list(testx.smiles.values.ravel())\n",
        "    smiles = smiles_train + smiles_val + smiles_test\n",
        "\n",
        "    x_train, x_val, x_test, y_train, y_val, y_test, max_features, maxlen, tokenizer = smi_utils.get_data(trainx = trainx,\n",
        "                                                                                        valx   = valx,\n",
        "                                                                                        testx  = testx,\n",
        "                                                                                       all_smiles = smiles)\n",
        "\n",
        "    model = smi_model.create_model(max_features = max_features, maxlen = maxlen)\n",
        "\n",
        "    es = EarlyStopping(monitor='val_loss', mode='min', verbose=1, patience = config.patience)\n",
        "    mc = ModelCheckpoint( config.best_model, monitor='val_loss', mode='min', save_best_only=True, verbose=1)\n",
        "\n",
        "    result = model.fit(x_train, y_train, validation_data=(x_val, y_val), epochs=config.max_epochs,\n",
        "                       batch_size = config.batch_size, verbose = True, callbacks=[es,mc])\n",
        "\n",
        "    print(f\"training completed at {datetime.datetime.now()}\")\n",
        "    \n",
        "if __name__ == \"__main__\":\n",
        "    run()"
      ]
    },
    {
      "cell_type": "markdown",
      "metadata": {
        "id": "_S2ITN3MHlm1"
      },
      "source": [
        "##Predict"
      ]
    },
    {
      "cell_type": "code",
      "execution_count": null,
      "metadata": {
        "id": "DETiQyqDcdLt"
      },
      "outputs": [],
      "source": [
        "from sklearn.metrics import mean_squared_error\n",
        "from sklearn.metrics import r2_score\n",
        "from scipy.stats import spearmanr\n",
        "import numpy as np\n",
        "from keras.models import load_model\n",
        "#import config\n",
        "#import smi_utils\n",
        "import pandas as pd\n",
        "config=sm_co()\n",
        "smi_utils=sm_ut()"
      ]
    },
    {
      "cell_type": "code",
      "execution_count": null,
      "metadata": {
        "id": "reTboOWhHo8X"
      },
      "outputs": [],
      "source": [
        "model = load_model(config.best_model)"
      ]
    },
    {
      "cell_type": "code",
      "execution_count": null,
      "metadata": {
        "colab": {
          "base_uri": "https://localhost:8080/",
          "height": 1000
        },
        "id": "i_wNtO1QHuY3",
        "outputId": "e1142512-8e38-4290-89ee-13b6a043a2b0"
      },
      "outputs": [
        {
          "name": "stdout",
          "output_type": "stream",
          "text": [
            "train results\n",
            "311/311 [==============================] - 8s 22ms/step\n",
            "r2: 0.9136\n",
            "sp: 0.9506\n",
            "rmse: 0.6468\n",
            "mae: 0.4581\n"
          ]
        },
        {
          "data": {
            "image/png": "[encoded data removed]",
            "text/plain": [
              "<Figure size 640x480 with 1 Axes>"
            ]
          },
          "metadata": {},
          "output_type": "display_data"
        },
        {
          "name": "stdout",
          "output_type": "stream",
          "text": [
            "val results\n",
            "28/28 [==============================] - 1s 25ms/step\n",
            "r2: 0.7943\n",
            "sp: 0.8962\n",
            "rmse: 1.0104\n",
            "mae: 0.6812\n"
          ]
        },
        {
          "data": {
            "image/png": "[encoded data removed]",
            "text/plain": [
              "<Figure size 640x480 with 1 Axes>"
            ]
          },
          "metadata": {},
          "output_type": "display_data"
        },
        {
          "name": "stdout",
          "output_type": "stream",
          "text": [
            "test results\n",
            "28/28 [==============================] - 1s 21ms/step\n",
            "r2: 0.7539\n",
            "sp: 0.8680\n",
            "rmse: 1.0883\n",
            "mae: 0.7044\n"
          ]
        },
        {
          "data": {
            "image/png": "[encoded data removed]",
            "text/plain": [
              "<Figure size 640x480 with 1 Axes>"
            ]
          },
          "metadata": {},
          "output_type": "display_data"
        }
      ],
      "source": [
        "x_train = np.loadtxt(\"./input/x_train.txt\")\n",
        "x_val = np.loadtxt(\"./input/x_val.txt\")\n",
        "x_test = np.loadtxt(\"./input/x_test.txt\")\n",
        "\n",
        "y_train = np.loadtxt(\"./input/y_train.txt\")\n",
        "y_val = np.loadtxt(\"./input/y_val.txt\")\n",
        "y_test = np.loadtxt(\"./input/y_test.txt\")\n",
        "# make predictions\n",
        "smi_utils.get_results(db_name='train', X=x_train, y=y_train, model=model)\n",
        "smi_utils.get_results(db_name='val', X=x_val, y=y_val, model=model)\n",
        "smi_utils.get_results(db_name='test', X=x_test, y=y_test, model=model)"
      ]
    }
  ],
  "metadata": {
    "colab": {
      "collapsed_sections": [
        "j4pYlV-8dbzu",
        "fTwH6i0DZhi7",
        "_UgJl6rjago3",
        "TEhJw7U1bN6U",
        "RZVGffmvb1L5"
      ],
      "provenance": [],
      "gpuType": "T4"
    },
    "kernelspec": {
      "display_name": "Python 3",
      "name": "python3"
    },
    "language_info": {
      "name": "python"
    },
    "accelerator": "GPU"
  },
  "nbformat": 4,
  "nbformat_minor": 0
}